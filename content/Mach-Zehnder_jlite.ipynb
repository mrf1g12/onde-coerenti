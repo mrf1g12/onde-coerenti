{
 "cells": [
  {
   "cell_type": "code",
   "execution_count": 1,
   "id": "6d81013a-92d6-4d82-ac8a-2e6c84ee0df1",
   "metadata": {},
   "outputs": [],
   "source": [
    "%pip install -q \"ipywidgets\""
   ]
  },
  {
   "cell_type": "code",
   "execution_count": 2,
   "id": "021a445a-80ba-4e11-9b45-7ec779ce6de9",
   "metadata": {},
   "outputs": [],
   "source": [
    "import matplotlib.pyplot as plt\n",
    "from matplotlib.colors import LinearSegmentedColormap\n",
    "from matplotlib.patches import Rectangle\n",
    "from matplotlib.lines import Line2D\n",
    "import numpy as np\n",
    "import ipywidgets as widgets\n",
    "from ipywidgets.embed import embed_minimal_html\n",
    "from IPython.display import display\n",
    "from scipy.optimize import root"
   ]
  },
  {
   "cell_type": "code",
   "execution_count": null,
   "id": "922aaa82-d37c-47cf-a64f-79ee294fa5a2",
   "metadata": {},
   "outputs": [],
   "source": []
  },
  {
   "cell_type": "markdown",
   "id": "c73d05fe-895f-4b70-8e7b-4eb9b976cb93",
   "metadata": {
    "jp-MarkdownHeadingCollapsed": true
   },
   "source": [
    "#### coding"
   ]
  },
  {
   "cell_type": "code",
   "execution_count": 3,
   "id": "20acfe8a-52ad-48fe-b18d-2d8f1abb4029",
   "metadata": {},
   "outputs": [],
   "source": [
    "T = 0.5\n",
    "R = 0.5"
   ]
  },
  {
   "cell_type": "code",
   "execution_count": 4,
   "id": "9fd19ebd-6b38-49fb-83f5-796ef5ea4953",
   "metadata": {},
   "outputs": [],
   "source": [
    "L = 2\n",
    "l = 0.5\n",
    "s = 0.5\n",
    "lam = 590e-5\n",
    "alpha = np.pi/180."
   ]
  },
  {
   "cell_type": "code",
   "execution_count": 5,
   "id": "0cf87db6-ad23-4510-b28b-e79e356850a2",
   "metadata": {},
   "outputs": [],
   "source": [
    "def smear(x,y):\n",
    "    \n",
    "    sigma_x = .1\n",
    "    sigma_y = 0.02\n",
    "    \n",
    "    return R*T*np.exp(-x**2/sigma_x)*np.exp(-y**2/sigma_y)"
   ]
  },
  {
   "cell_type": "code",
   "execution_count": 6,
   "id": "a4e14921-023d-46d0-a74d-ef3a4b4f98a8",
   "metadata": {},
   "outputs": [],
   "source": [
    "def smearedI(x,y,add_phase=0,dphi=0):\n",
    "\n",
    "    sigma_x = .1\n",
    "    sigma_y = 0.02\n",
    "\n",
    "    delta = 2*(s+L)*np.sin(2*alpha)\n",
    "    Delta = (s+L)*np.cos(2*alpha)+L+l\n",
    "    phi = 2*np.pi/(lam*Delta)*delta*x+add_phase+dphi\n",
    "\n",
    "    #dist = np.sqrt(x**2+y**2)\n",
    "    gauss = np.exp(-x**2/sigma_x)*np.exp(-y**2/sigma_y)\n",
    "    \n",
    "    return 2*R*T*(1+np.cos(phi))*gauss"
   ]
  },
  {
   "cell_type": "code",
   "execution_count": null,
   "id": "a8239a37-fe42-41bb-8415-b86d050b22b1",
   "metadata": {},
   "outputs": [],
   "source": []
  },
  {
   "cell_type": "code",
   "execution_count": 7,
   "id": "d1790d07-4b2a-45d1-91c3-7751e0c3de62",
   "metadata": {},
   "outputs": [],
   "source": [
    "colors = [(1,1,1), (1, 0, 0)]  # R -> G -> B\n",
    "n_bins = [0,100]  # Discretizes the interpolation into bins\n",
    "cmap_name = 'my_red'\n",
    "cmap = LinearSegmentedColormap.from_list(cmap_name, colors, N=100)"
   ]
  },
  {
   "cell_type": "code",
   "execution_count": 8,
   "id": "c822f4de-71a5-4c2e-8a72-26cfcd9d139b",
   "metadata": {},
   "outputs": [],
   "source": [
    "def update_plot(gamma,blocker):\n",
    "\n",
    "    beam_color = 'r'\n",
    "\n",
    "    fig, ax = plt.subplots(figsize=(10, 8))\n",
    "    plt.gca().set_aspect('equal')\n",
    "    \n",
    "    # Hide axes\n",
    "    ax.axis('off')\n",
    "    \n",
    "    # Define the rectangle and squares\n",
    "    rectangle = Rectangle((0.2, 0.2), 0.5, 0.5, fill=None, edgecolor=beam_color, linewidth=2)\n",
    "    squares = [\n",
    "        Rectangle((0.15, 0.15), 0.1, 0.1,facecolor='k',alpha=0.4, edgecolor='black', linewidth=1), # Bottom left\n",
    "        #Rectangle((0.75, 0.15), 0.1, 0.1, fill=None, edgecolor='black', linewidth=2), # Bottom right\n",
    "        Rectangle((0.65, 0.65), 0.1, 0.1, facecolor='k',alpha=0.4, edgecolor='black', linewidth=1), # Top right\n",
    "        #Rectangle((0.15, 0.75), 0.1, 0.1, fill=None, edgecolor='black', linewidth=2), # Top left\n",
    "    ]\n",
    "    \n",
    "    # Draw the fixed rectangle\n",
    "    ax.add_line(Line2D([rectangle.get_x(), rectangle.get_x()+rectangle.get_width()], \n",
    "                       [rectangle.get_y(), rectangle.get_y()], color=beam_color, linewidth=2,zorder=-1))\n",
    "    ax.add_line(Line2D([rectangle.get_x(), rectangle.get_x()], \n",
    "                       [rectangle.get_y(), rectangle.get_y()+rectangle.get_height()], color=beam_color, linewidth=2,zorder=-1))\n",
    "    # Draw the green lines\n",
    "    ax.add_line(Line2D([0., 0.2], [0.2, 0.2], color=beam_color, linewidth=2,zorder=-1))\n",
    "    \n",
    "    \n",
    "    \n",
    "    # Draw the black squares and lines\n",
    "    for sq in squares:\n",
    "        ax.add_patch(sq)\n",
    "        # Draw diagonal line in square\n",
    "        ax.add_line(Line2D([sq.get_x()+2e-3, sq.get_x() + sq.get_width()-2e-3],\n",
    "                           [sq.get_y()+2e-3, sq.get_y() + sq.get_height()-2e-3], color='black', linewidth=2))\n",
    "        #ax.add_line(Line2D([sq.get_x(), sq.get_x() + sq.get_width()],\n",
    "        #                   [sq.get_y() + sq.get_height(), sq.get_y()], color='black', linewidth=2))\n",
    "    \n",
    "    # mirrors\n",
    "    ax.add_line(Line2D([rectangle.get_x()-.05, rectangle.get_x()+.05],\n",
    "                           [rectangle.get_y()+rectangle.get_height()-.05, rectangle.get_y()\n",
    "                            +rectangle.get_height()+.05], color='gray', linewidth=3))\n",
    "    ax.add_line(Line2D([rectangle.get_x()+rectangle.get_width()-.05, rectangle.get_x()+rectangle.get_width()+.05],\n",
    "                           [rectangle.get_y()-.05, rectangle.get_y()+.05], color='gray', linewidth=3))\n",
    "    \n",
    "    \n",
    "    #screens\n",
    "    ax.add_line(Line2D([rectangle.get_x()+rectangle.get_width()-.05, rectangle.get_x()+rectangle.get_width()+.05],\n",
    "            [rectangle.get_y()+rectangle.get_height()+.2, rectangle.get_y()+rectangle.get_height()+.2], color='black', linewidth=5))\n",
    "    ax.add_line(Line2D([rectangle.get_x()+rectangle.get_width()+.2, rectangle.get_x()+rectangle.get_width()+.2],\n",
    "            [rectangle.get_y()+rectangle.get_height()-.05, rectangle.get_y()+rectangle.get_height()+.05], color='black', linewidth=5))\n",
    "    \n",
    "    #ax.scatter(0.1,0.2,marker='o',s=80,c='r')\n",
    "    \n",
    "    #medium1\n",
    "    rectangle1 = Rectangle((0.3, 0.65), 0.05, 0.1, alpha=gamma/(3*np.pi),facecolor='k', edgecolor=None, linewidth=2)\n",
    "    ax.add_patch(rectangle1)\n",
    "    rectangle1b = Rectangle((0.3, 0.65), 0.05, 0.1, fill=False, edgecolor='k', linewidth=1)\n",
    "    ax.add_patch(rectangle1b)\n",
    "    \n",
    "    \n",
    "    x = np.arange(-1,1,0.001)\n",
    "    y = np.linspace(-1,1,10)\n",
    "    X, Y = np.meshgrid(x, y)\n",
    "    \n",
    "    #block_x\n",
    "    if blocker=='block X':\n",
    "        blockX = Rectangle((0.45, 0.65), 0.02, 0.1, facecolor='k', edgecolor=None)\n",
    "        ax.add_patch(blockX)\n",
    "        ax.add_line(Line2D([rectangle.get_x(), rectangle.get_x()+0.25], \n",
    "                       [rectangle.get_y()+rectangle.get_height(), rectangle.get_y()+rectangle.get_height()], \n",
    "                        color=beam_color, linewidth=2,zorder=-1))\n",
    "        ax.add_line(Line2D([rectangle.get_x()+rectangle.get_width(), rectangle.get_x()+rectangle.get_width()], \n",
    "                       [rectangle.get_y(), rectangle.get_y()+rectangle.get_height()], \n",
    "                        color=beam_color, linewidth=2,zorder=-1))\n",
    "        ax.add_line(Line2D([0.7, 0.7], [0.7, 0.9], color=beam_color, linewidth=2,zorder=-1))\n",
    "        Z2 = smear(X,Y)\n",
    "        Z1 = np.zeros_like(Z2)\n",
    "    \n",
    "    elif blocker=='block Y':\n",
    "        blockY = Rectangle((0.65, 0.45), 0.1, 0.02, facecolor='k', edgecolor=None)\n",
    "        ax.add_patch(blockY)\n",
    "        ax.add_line(Line2D([rectangle.get_x(), rectangle.get_x()+rectangle.get_width()], \n",
    "                       [rectangle.get_y()+rectangle.get_height(), rectangle.get_y()+rectangle.get_height()], \n",
    "                        color=beam_color, linewidth=2,zorder=-1))\n",
    "        ax.add_line(Line2D([rectangle.get_x()+rectangle.get_width(), rectangle.get_x()+rectangle.get_width()], \n",
    "                       [rectangle.get_y(), rectangle.get_y()+0.25], \n",
    "                        color=beam_color, linewidth=2,zorder=-1))\n",
    "        ax.add_line(Line2D([0.7, 0.9], [0.7, 0.7], color=beam_color, linewidth=2,zorder=-1))\n",
    "        Z1 = smear(X,Y)\n",
    "        Z2 = np.zeros_like(Z1)\n",
    "    elif blocker=='None':\n",
    "        ax.add_line(Line2D([rectangle.get_x(), rectangle.get_x()+rectangle.get_width()], \n",
    "                       [rectangle.get_y()+rectangle.get_height(), rectangle.get_y()+rectangle.get_height()], \n",
    "                        color=beam_color, linewidth=2,zorder=-1))\n",
    "        ax.add_line(Line2D([rectangle.get_x()+rectangle.get_width(), rectangle.get_x()+rectangle.get_width()], \n",
    "                       [rectangle.get_y(), rectangle.get_y()+rectangle.get_height()], \n",
    "                        color=beam_color, linewidth=2,zorder=-1))\n",
    "        ax.add_line(Line2D([0.7, 0.9], [0.7, 0.7], color=beam_color, linewidth=2,zorder=-1))\n",
    "        ax.add_line(Line2D([0.7, 0.7], [0.7, 0.9], color=beam_color, linewidth=2,zorder=-1))\n",
    "        \n",
    "        Z1 = smearedI(X,Y,0,gamma)\n",
    "        Z2 = smearedI(X,Y,np.pi,gamma)\n",
    "    \n",
    "    \n",
    "    \n",
    "    # add insets\n",
    "    ins1 = ax.inset_axes([.95,.6,0.2,0.2])\n",
    "    ins1.set_xticks([])\n",
    "    ins1.set_yticks([])\n",
    "    ins1.set_xlim(-.5,.5)\n",
    "    ins1.set_ylim(-.7,.7)\n",
    "    ins1.axhline(0,c='k',lw=1,ls='--')\n",
    "    \n",
    "    ins2 = ax.inset_axes([0.6,.95,0.2,0.2])\n",
    "    ins2.set_xticks([])\n",
    "    ins2.set_yticks([])\n",
    "    ins2.set_xlim(-.7,.7)\n",
    "    ins2.set_ylim(-.5,.5)\n",
    "    ins2.axvline(0,c='k',lw=1,ls='--')\n",
    "    \n",
    "    ins1.contourf(Y,X,Z1,cmap=cmap,levels=200,vmin=0,vmax=2.5*R*T)\n",
    "    ins2.contourf(X,Y,Z2,cmap=cmap,levels=200,vmin=0,vmax=2.5*R*T)\n",
    "    \n",
    "    \n",
    "    \n",
    "    \n",
    "    \n",
    "    \n",
    "    # Show the plot\n",
    "    plt.show()"
   ]
  },
  {
   "cell_type": "code",
   "execution_count": 9,
   "id": "0cc6af3a-c013-4dde-8db5-a1ca8bd3407a",
   "metadata": {},
   "outputs": [],
   "source": [
    "initial_gamma = 0\n",
    "\n",
    "# Create sliders for adjusting slopes\n",
    "gamma_slider = widgets.FloatSlider(value=initial_gamma, min=0, max=np.pi, step=0.02, description='$\\gamma$ :')\n",
    "\n",
    "blocker_select = widgets.RadioButtons(\n",
    "    options=['block X', 'block Y', 'None'],\n",
    "    value='None', # Defaults to 'pineapple'\n",
    "#    layout={'width': 'max-content'}, # If the items' names are long\n",
    "    description='Block intereferometer arm:',\n",
    "    disabled=False\n",
    ")                                   "
   ]
  },
  {
   "cell_type": "code",
   "execution_count": 10,
   "id": "0a6b9ae3-e2d4-4568-9e96-1d983967676a",
   "metadata": {},
   "outputs": [],
   "source": [
    "interactive_plot = widgets.interactive(update_plot, gamma=gamma_slider, blocker=blocker_select)"
   ]
  },
  {
   "cell_type": "markdown",
   "id": "4cb6a9d7-8dc5-443a-a6b1-d905bd6066db",
   "metadata": {},
   "source": [
    "## Mach-Zehnder interactive"
   ]
  },
  {
   "cell_type": "code",
   "execution_count": 11,
   "id": "44f5f537-0f6c-42e6-844c-a061dc95b629",
   "metadata": {},
   "outputs": [
    {
     "data": {
      "application/vnd.jupyter.widget-view+json": {
       "model_id": "ae045edb39fe462292156a3dd7376aba",
       "version_major": 2,
       "version_minor": 0
      },
      "text/plain": [
       "interactive(children=(FloatSlider(value=0.0, description='$\\\\gamma$ :', max=3.141592653589793, step=0.02), Rad…"
      ]
     },
     "metadata": {},
     "output_type": "display_data"
    }
   ],
   "source": [
    "display(interactive_plot)"
   ]
  },
  {
   "cell_type": "code",
   "execution_count": null,
   "id": "5e3aa104-cf0a-4703-8179-47b874e7b7da",
   "metadata": {},
   "outputs": [],
   "source": []
  }
 ],
 "metadata": {
  "kernelspec": {
   "display_name": "Python 3 (ipykernel)",
   "language": "python",
   "name": "python3"
  },
  "language_info": {
   "codemirror_mode": {
    "name": "ipython",
    "version": 3
   },
   "file_extension": ".py",
   "mimetype": "text/x-python",
   "name": "python",
   "nbconvert_exporter": "python",
   "pygments_lexer": "ipython3",
   "version": "3.11.7"
  },
  "widgets": {
   "application/vnd.jupyter.widget-state+json": {
    "state": {
     "165d00aee30f4b33a6187e0762ed08dd": {
      "model_module": "@jupyter-widgets/base",
      "model_module_version": "2.0.0",
      "model_name": "LayoutModel",
      "state": {}
     },
     "3737e727b82d49309aaaf004576f04ab": {
      "model_module": "@jupyter-widgets/base",
      "model_module_version": "2.0.0",
      "model_name": "LayoutModel",
      "state": {}
     },
     "594e86b8cdae4a39b8e3ad394d8d3566": {
      "model_module": "@jupyter-widgets/base",
      "model_module_version": "2.0.0",
      "model_name": "LayoutModel",
      "state": {}
     },
     "7f2c339af3684101ba9f6dfde541e972": {
      "model_module": "@jupyter-widgets/controls",
      "model_module_version": "2.0.0",
      "model_name": "RadioButtonsModel",
      "state": {
       "_options_labels": [
        "block X",
        "block Y",
        "None"
       ],
       "description": "Block intereferometer arm:",
       "index": 2,
       "layout": "IPY_MODEL_165d00aee30f4b33a6187e0762ed08dd",
       "style": "IPY_MODEL_cfecb33bc955402bbf094631887eb8de"
      }
     },
     "a8b0f404db8b4bc4af2e3b52c9043cac": {
      "model_module": "@jupyter-widgets/controls",
      "model_module_version": "2.0.0",
      "model_name": "SliderStyleModel",
      "state": {
       "description_width": ""
      }
     },
     "ae045edb39fe462292156a3dd7376aba": {
      "model_module": "@jupyter-widgets/controls",
      "model_module_version": "2.0.0",
      "model_name": "VBoxModel",
      "state": {
       "_dom_classes": [
        "widget-interact"
       ],
       "children": [
        "IPY_MODEL_bafb666d5fd446338ee5de4fe6da871b",
        "IPY_MODEL_7f2c339af3684101ba9f6dfde541e972",
        "IPY_MODEL_b6606a5fee32426d868e5ebbff47dd80"
       ],
       "layout": "IPY_MODEL_594e86b8cdae4a39b8e3ad394d8d3566"
      }
     },
     "b6606a5fee32426d868e5ebbff47dd80": {
      "model_module": "@jupyter-widgets/output",
      "model_module_version": "1.0.0",
      "model_name": "OutputModel",
      "state": {
       "layout": "IPY_MODEL_bdc146d994ec4c08b02f84ff279e676c",
       "outputs": [
        {
         "data": {
          "image/png": "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",
          "text/plain": "<Figure size 1000x800 with 1 Axes>"
         },
         "metadata": {},
         "output_type": "display_data"
        }
       ]
      }
     },
     "bafb666d5fd446338ee5de4fe6da871b": {
      "model_module": "@jupyter-widgets/controls",
      "model_module_version": "2.0.0",
      "model_name": "FloatSliderModel",
      "state": {
       "behavior": "drag-tap",
       "description": "$\\gamma$ :",
       "layout": "IPY_MODEL_3737e727b82d49309aaaf004576f04ab",
       "max": 3.141592653589793,
       "step": 0.02,
       "style": "IPY_MODEL_a8b0f404db8b4bc4af2e3b52c9043cac"
      }
     },
     "bdc146d994ec4c08b02f84ff279e676c": {
      "model_module": "@jupyter-widgets/base",
      "model_module_version": "2.0.0",
      "model_name": "LayoutModel",
      "state": {}
     },
     "cfecb33bc955402bbf094631887eb8de": {
      "model_module": "@jupyter-widgets/controls",
      "model_module_version": "2.0.0",
      "model_name": "DescriptionStyleModel",
      "state": {
       "description_width": ""
      }
     }
    },
    "version_major": 2,
    "version_minor": 0
   }
  }
 },
 "nbformat": 4,
 "nbformat_minor": 5
}
