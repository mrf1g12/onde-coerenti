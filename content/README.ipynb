{
  "cells": [
    {
      "cell_type": "markdown",
      "id": "6d43dde0-839b-48d5-8426-4e6e834b1939",
      "metadata": {},
      "source": [
        "# Onde coerenti laser e olografia: demo"
      ]
    },
    {
      "cell_type": "markdown",
      "id": "fa296f18-ba90-4146-b178-6b8f8f6c104a",
      "metadata": {},
      "source": [
        "I notebook possono essere modificati, ma le modifiche non saranno salvate. \n",
        "\n",
        "È possibile scaricare i notebook, modificarli, ecc. I notebook sono distribuiti con licenza [**CC BY**](https://creativecommons.it/chapterIT/index.php/license-your-work/)."
      ]
    },
    {
      "cell_type": "markdown",
      "id": "7fce958c-e2dc-48c2-a5af-094d4dfb42a0",
      "metadata": {},
      "source": [
        "## Come usare i notebok\n",
        "Per eseguire i notebook, una volta aperti è sufficiente cliccare su **Run -> Run All Cells**."
      ]
    },
    {
      "cell_type": "markdown",
      "id": "9cd0b868-1b9e-4b60-ae86-4781c4b5515a",
      "metadata": {},
      "source": [
        "## Attività disponibili"
      ]
    },
    {
      "cell_type": "markdown",
      "id": "3598197a-b2e7-459b-8441-d7a03253a25d",
      "metadata": {},
      "source": [
        "<button style=\"padding: 10px 20px; border: none; border-radius: 5px; cursor: pointer; font-size: 16px; background-color:#4681f4; color: white;\"\n",
        "    data-commandlinker-command=\"docmanager:open\" data-commandlinker-args='{\"path\": \"./birifrangenza2_jlite.ipynb\"}'>Superficie normale di dielettrici anisotropi</button>"
      ]
    },
    {
      "cell_type": "markdown",
      "id": "ad684e44-a2d5-4ea7-83df-829e3aa8efb7",
      "metadata": {},
      "source": [
        "<button style=\"padding: 10px 20px; border: none; border-radius: 5px; cursor: pointer; font-size: 16px; background-color:#4681f4; color: white;\"\n",
        "    data-commandlinker-command=\"docmanager:open\" data-commandlinker-args='{\"path\": \"./activities/birifrangenza1_jlite.ipynb\"}'>Birifgrangenza 1</button>"
      ]
    },
    {
      "cell_type": "markdown",
      "id": "7d04c8d7-30ba-4a4d-a87a-cff0232621b8",
      "metadata": {},
      "source": [
        "<button style=\"padding: 10px 20px; border: none; border-radius: 5px; cursor: pointer; font-size: 16px; background-color:#4681f4; color: white;\"\n",
        "    data-commandlinker-command=\"docmanager:open\" data-commandlinker-args='{\"path\": \"./birifrangenza2_jlite.ipynb\"}'>Birifgrangenza 2</button>"
      ]
    },
    {
      "cell_type": "markdown",
      "id": "df3f8b1b-94a6-4e4c-b4f3-dce75b1758d4",
      "metadata": {},
      "source": [
        "<button style=\"padding: 10px 20px; border: none; border-radius: 5px; cursor: pointer; font-size: 16px; background-color:#4681f4; color: white;\"\n",
        "    data-commandlinker-command=\"docmanager:open\" data-commandlinker-args='{\"path\": \"./fotoni_singoli_jlite.ipynb\"}'>Fotoni singoli</button>"
      ]
    },
    {
      "cell_type": "markdown",
      "id": "548c66fb-24aa-4866-ac9a-57237a3eebae",
      "metadata": {},
      "source": [
        "<button style=\"padding: 10px 20px; border: none; border-radius: 5px; cursor: pointer; font-size: 16px; background-color:#4681f4; color: white;\"\n",
        "    data-commandlinker-command=\"docmanager:open\" data-commandlinker-args='{\"path\": \"./Mach-Zehnder_jlite.ipynb\"}'>Interferometro di Mach-Zehnder</button>"
      ]
    },
    {
      "cell_type": "code",
      "execution_count": null,
      "id": "2cef9409-b0f4-4b69-9f3f-07c2a2c01d71",
      "metadata": {
        "trusted": true
      },
      "outputs": [],
      "source": []
    }
  ],
  "metadata": {
    "kernelspec": {
      "display_name": "Python (Pyodide)",
      "language": "python",
      "name": "python"
    },
    "language_info": {
      "codemirror_mode": {
        "name": "python",
        "version": 3
      },
      "file_extension": ".py",
      "mimetype": "text/x-python",
      "name": "python",
      "nbconvert_exporter": "python",
      "pygments_lexer": "ipython3",
      "version": "3.8"
    }
  },
  "nbformat": 4,
  "nbformat_minor": 5
}
