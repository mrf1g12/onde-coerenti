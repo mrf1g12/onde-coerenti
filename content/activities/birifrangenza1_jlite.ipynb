{
 "cells": [
  {
   "cell_type": "markdown",
   "id": "325f4fbc-596f-4912-8560-68b9ed37106c",
   "metadata": {
    "jp-MarkdownHeadingCollapsed": true
   },
   "source": [
    "### Code"
   ]
  },
  {
   "cell_type": "code",
   "execution_count": 1,
   "id": "fe6fbd31-c4cd-47cd-ac39-fb7397f8ce55",
   "metadata": {},
   "outputs": [
    {
     "name": "stdout",
     "output_type": "stream",
     "text": [
      "Note: you may need to restart the kernel to use updated packages.\n"
     ]
    }
   ],
   "source": [
    "%pip install -q \"ipywidgets\"\n",
    "import ipywidgets as widgets"
   ]
  },
  {
   "cell_type": "code",
   "execution_count": 2,
   "id": "7f57d414-3ac7-46f1-a344-cce9436f7a3a",
   "metadata": {},
   "outputs": [],
   "source": [
    "import matplotlib.pyplot as plt\n",
    "import numpy as np\n",
    "from IPython.display import display\n",
    "from scipy.optimize import root"
   ]
  },
  {
   "cell_type": "code",
   "execution_count": 3,
   "id": "9e5441ac-857a-48ac-95f4-24260888aceb",
   "metadata": {},
   "outputs": [],
   "source": [
    "def rootO(q,nO,qi):\n",
    "    return nO*np.cos(q)-np.sin(qi)"
   ]
  },
  {
   "cell_type": "code",
   "execution_count": 4,
   "id": "21bb6e4d-9cc2-4cc6-a5d2-be4b229ca36a",
   "metadata": {},
   "outputs": [],
   "source": [
    "def uN_E(t,t0,nO,nE):\n",
    "    uu = np.array([nO*np.sin(t0)*np.sin(t)+nE*np.cos(t0)*np.cos(t),-nO*np.cos(t0)*np.sin(t)+nE*np.sin(t0)*np.cos(t)])\n",
    "    return uu/np.linalg.norm(uu)"
   ]
  },
  {
   "cell_type": "code",
   "execution_count": 5,
   "id": "39c7887c-325c-4ed9-84ef-7a421be59a19",
   "metadata": {},
   "outputs": [],
   "source": [
    "def uT_E(t,t0,nO,nE):\n",
    "    uu = np.array([-nO*np.cos(t0)*np.sin(t)+nE*np.sin(t0)*np.cos(t),-nO*np.sin(t0)*np.sin(t)-nE*np.cos(t0)*np.cos(t)])\n",
    "    return uu/np.linalg.norm(uu)"
   ]
  },
  {
   "cell_type": "code",
   "execution_count": 6,
   "id": "4daecd64-1b42-4a9b-9410-af3596fe4eee",
   "metadata": {},
   "outputs": [],
   "source": [
    "def uN_O(t):\n",
    "    return np.array([np.cos(t),-np.sin(t)])"
   ]
  },
  {
   "cell_type": "code",
   "execution_count": 7,
   "id": "46939abc-f557-494a-9d1f-d874b9880162",
   "metadata": {},
   "outputs": [],
   "source": [
    "def uT_O(t):\n",
    "    return np.array([-np.sin(t),np.cos(t)])"
   ]
  },
  {
   "cell_type": "code",
   "execution_count": 8,
   "id": "d5171ee6-e459-48e4-8021-57a12e739eca",
   "metadata": {},
   "outputs": [],
   "source": [
    "def update_plot(nE, nO, t0, qi):\n",
    "\n",
    "    xmax = max(nE,nO)\n",
    "    \n",
    "    #rotation\n",
    "    R = np.array([[np.cos(t0),-np.sin(t0)],[np.sin(t0),np.cos(t0)]])\n",
    "    \n",
    "    # straordinario\n",
    "    if t0<=np.pi/2.:\n",
    "        ti = np.arctan(nO/nE*np.tan(t0))\n",
    "    else:\n",
    "        ti = np.pi+np.arctan(nO/nE*np.tan(t0-np.pi))\n",
    "\n",
    "    t = np.linspace(ti, np.pi+ti, 100)\n",
    "\n",
    "    xy = np.array([nO*np.cos(t),-nE*np.sin(t)])\n",
    "    #xyR = np.dot(R,xy)\n",
    "    xyR=np.array([nO*np.cos(t0)*np.cos(t)+nE*np.sin(t0)*np.sin(t),\n",
    "                 nO*np.sin(t0)*np.cos(t)-nE*np.cos(t0)*np.sin(t)])\n",
    "\n",
    "\n",
    "    #ordinario\n",
    "    tC = -np.linspace(0,np.pi,100)\n",
    "    Ox = nO*np.cos(tC)\n",
    "    Oy = nO*np.sin(tC)\n",
    "\n",
    "    #isotropo\n",
    "    tI = np.linspace(0,np.pi,100)\n",
    "    xI = np.cos(tI)\n",
    "    yI = np.sin(tI)\n",
    "\n",
    "    #optical axis\n",
    "    A = [0.1,0.]\n",
    "    B = [-nO-0.1,0.]\n",
    "    AR = np.dot(R,A)\n",
    "    BR = np.dot(R,B)\n",
    "\n",
    "    #incoming ki\n",
    "    I = [-np.sin(qi),np.cos(qi)]\n",
    "\n",
    "    #find O root\n",
    "    #qO = root(rootO,np.pi/2-qi,args=(nO,qi)).x[0]\n",
    "    qO=np.arccos(np.sin(qi)/nO)\n",
    "    xO = nO*np.cos(qO)\n",
    "    yO = -nO*np.sin(qO)\n",
    "\n",
    "    #find E root\n",
    "    qE=2*np.arctan((nE*np.sin(t0)+np.sqrt(nO**2*np.cos(t0)**2-np.sin(qi)**2+nE**2*np.sin(t0)**2))/(nO*np.cos(t0)+np.sin(qi)))\n",
    "    xE = nO*np.cos(t0)*np.cos(qE)+nE*np.sin(t0)*np.sin(qE)\n",
    "    yE = (nO*np.sin(t0)*np.cos(qE)-nE*np.cos(t0)*np.sin(qE))\n",
    "    \n",
    "\n",
    "    fig, ax = plt.subplots(figsize=(8,8))\n",
    "    plt.gca().set_aspect('equal')\n",
    "    ax.clear()\n",
    "    ax.set_xticks([])\n",
    "    ax.set_yticks([])\n",
    "\n",
    "    shift_xmin = 1.\n",
    "    ax.set_xlim(-xmax-0.2,xmax+0.2)\n",
    "    ax.set_ylim(-xmax-shift_xmin,1.2)\n",
    "    \n",
    "    ax.plot(xyR[0], xyR[1], color='orange')\n",
    "    ax.plot(Ox,Oy,c='b')\n",
    "    ax.plot(xI,yI,c='k')\n",
    "    ax.plot([AR[0],BR[0]],[AR[1],BR[1]],c='k',ls='--')\n",
    "\n",
    "\n",
    "    # show angles\n",
    "    if xE!=0:\n",
    "        phEran = np.linspace(np.arctan(yE/xE),-np.pi/2.,100)\n",
    "    else:\n",
    "        phEran = np.linspace(np.pi/2.,-np.pi/2.,100)\n",
    "    rE = .5\n",
    "    if qi!=0:\n",
    "        ax.plot(rE*np.cos(phEran),rE*np.sin(phEran),c='orange')\n",
    "        ax.annotate(r'$\\varphi_E$',(-.18,-rE-.05),c='orange',fontsize=12)\n",
    "\n",
    "    phOran = np.linspace(np.arctan(yO/xO),-np.pi/2.,100)\n",
    "    rO = .3\n",
    "    ax.plot(rO*np.cos(phOran),rO*np.sin(phOran),c='blue')\n",
    "    ax.annotate(r'$\\varphi_O$',(-.18,-rO-.05),c='b',fontsize=12)\n",
    "\n",
    "    phIran = np.linspace(np.pi/2,np.pi/2+qi,100)\n",
    "    ax.plot(rO*np.cos(phIran),rO*np.sin(phIran),c='r')\n",
    "    ax.annotate(r'$\\varphi_i$',(.01,rO),c='r',fontsize=12)\n",
    "\n",
    "    \n",
    "    #plot incoming\n",
    "    #x.plot([I[0],0],[I[1],0],c='r')\n",
    "    ax.annotate('',[0,0],I,arrowprops=dict(facecolor='r', edgecolor='r', width=3, shrink=0.03))\n",
    "    ax.annotate(r'$\\vec{k}_i$',[I[0]/2.+.015,I[1]/2+.015],c='r',fontsize=12)\n",
    "\n",
    "    #plot O outgoing\n",
    "    ax.annotate('',[xO,yO],[0,0],arrowprops=dict(facecolor='b', edgecolor='b', width=3, shrink=0.03))\n",
    "    ax.annotate(r'$\\vec{k}_O$',[xO/2.5+.05,yO/2.5+.01],c='b',fontsize=12,zorder=1)\n",
    "\n",
    "    #plot E outgoing\n",
    "    #ax.plot([0,xE],[0,yE],c='orange')\n",
    "    ax.annotate('',[xE,yE],[0,0],arrowprops=dict(facecolor='orange', edgecolor='orange', width=3, shrink=0.03),zorder=0)\n",
    "    ax.annotate(r'$\\vec{k}_E$',[xE/1.5+0.05,yE/1.5+.01],c='orange',fontsize=12)\n",
    "\n",
    "    # S_E\n",
    "    uE = uN_E(qE,t0,nO,nE)\n",
    "    ax.annotate('',np.array([xE,yE])+uE,np.array([xE,yE]),arrowprops=dict(facecolor='orange', edgecolor='orange', width=3, shrink=0.03))\n",
    "    ax.annotate(r'$\\vec{S}_E$',np.array([xE,yE])+uE/1.5+np.array([0.02,0.02]),fontsize=12,c='orange')\n",
    "\n",
    "    uTE = 0.5*uT_E(qE,t0,nO,nE)\n",
    "    ax.plot([xE-uTE[0],xE+uTE[0]],[yE-uTE[1],yE+uTE[1]],c='m')\n",
    "\n",
    "    # S_O\n",
    "    uO = uN_O(qO)\n",
    "    ax.annotate('',np.array([xO,yO])+uO,np.array([xO,yO]),arrowprops=dict(facecolor='b', edgecolor='b', width=3, shrink=0.03))\n",
    "    ax.annotate(r'$\\vec{S}_O$',np.array([xO,yO])+uO/2.5+np.array([0.02,0.02]),fontsize=12,c='b')\n",
    "\n",
    "    uTO = 0.5*uT_O(qO)\n",
    "    ax.plot([xO-uTO[0],xO+uTO[0]],[yO+uTO[1],yO-uTO[1]],c='m')\n",
    "\n",
    "    \n",
    "    \n",
    "\n",
    "    if qi!=0:\n",
    "        ax.annotate('',I,[0,I[1]], arrowprops=dict(arrowstyle='<->'))\n",
    "        ax.annotate(r'$k_i\\sin\\theta_i$',[I[0]/2.,I[1]+0.04],ha='center')\n",
    "    ax.axvline(I[0],c='k',ls='-.',lw=.5)\n",
    "    ax.annotate('',[0,I[1]],[-I[0],I[1]], arrowprops=dict(arrowstyle='<->'))\n",
    "    ax.axvline(-I[0],c='k',ls='-.',lw=.5)\n",
    "    \n",
    "    ax.scatter(0,0,marker='o',c='k')\n",
    "    ax.axhline(0,c='k',lw=.5)\n",
    "    ax.axvline(0,c='k',lw=.5)\n",
    "    ax.axhspan(-xmax-shift_xmin,0,color='k',alpha=0.05)\n",
    "\n",
    "\n",
    "    \n",
    "    plt.show()"
   ]
  },
  {
   "cell_type": "code",
   "execution_count": 9,
   "id": "bbd6f1cf-0a17-46eb-a9b0-02166a33dc7c",
   "metadata": {},
   "outputs": [],
   "source": [
    "initial_nE = 1.5\n",
    "initial_nO = 1.5\n",
    "initial_t0 = 0.0\n",
    "initial_qi = np.pi/4.\n",
    "\n",
    "# Create sliders for adjusting slopes\n",
    "nE_slider = widgets.FloatSlider(value=initial_nE, min=1, max=2, step=0.02, description=r'$n_E$ :')\n",
    "nO_slider = widgets.FloatSlider(value=initial_nO, min=1, max=2, step=0.02, description='$n_O$ :')\n",
    "t0_slider = widgets.FloatSlider(value=initial_t0, min=0, max=np.pi, step=0.01, description=r'$\\theta_0$ (rad):')\n",
    "qi_slider = widgets.FloatSlider(value=initial_qi, min=0, max=np.pi/2.-0.00, step=0.01, description=r'$\\theta_i$ (rad):')"
   ]
  },
  {
   "cell_type": "code",
   "execution_count": 10,
   "id": "a6ea9185-2aa9-4b24-abc0-16fc6b6f655f",
   "metadata": {},
   "outputs": [],
   "source": [
    "interactive_plot = widgets.interactive(update_plot, nE=nE_slider, nO=nO_slider, t0=t0_slider, qi=qi_slider)"
   ]
  },
  {
   "cell_type": "markdown",
   "id": "8ca66d88-1a8d-4576-9d74-7a40320d5d16",
   "metadata": {},
   "source": [
    "# Birifrangenza"
   ]
  },
  {
   "cell_type": "markdown",
   "id": "3049216b-d047-4c38-b4da-6c2bce6db023",
   "metadata": {},
   "source": [
    "### Descrizione\n",
    "Rifrazione di un raggio incidente da un mezzo isotropo in un mezzo uniassiale.</br>\n",
    "È possibile variare:\n",
    "- l'angolo di incidenza $\\theta_i$,\n",
    "- la direzione $\\theta_0$ dell'**asse ottico** del materiale uniassiale,\n",
    "- gli indici di rifrazione $n_E$ ed $n_O$ del mezzo uniassiale.\n",
    "\n",
    "$\\varphi_O$ e $\\varphi_E$ indicano gli angoli di rifrazione del raggio ordinario e straordinario, rispettivamente. $\\vec{S}_O$ ed $\\vec{S}_E$ indicano i vettori di Poynting del raggio ordinario e straordinario.\n",
    "\n",
    "### Utilizzo\n",
    "Per eseguire il notebook, dal menu in alto: `Run > Run All Cells`"
   ]
  },
  {
   "cell_type": "code",
   "execution_count": 11,
   "id": "13f7d330-f4f7-450b-833d-bab509de98aa",
   "metadata": {},
   "outputs": [
    {
     "data": {
      "application/vnd.jupyter.widget-view+json": {
       "model_id": "15a13e8b072b4c9283b6348f219e2dfd",
       "version_major": 2,
       "version_minor": 0
      },
      "text/plain": [
       "interactive(children=(FloatSlider(value=1.5, description='$n_E$ :', max=2.0, min=1.0, step=0.02), FloatSlider(…"
      ]
     },
     "metadata": {},
     "output_type": "display_data"
    }
   ],
   "source": [
    "display(interactive_plot)"
   ]
  },
  {
   "cell_type": "code",
   "execution_count": null,
   "id": "94f5c230-67e5-4123-8eea-fb52db9edf17",
   "metadata": {},
   "outputs": [],
   "source": []
  }
 ],
 "metadata": {
  "kernelspec": {
   "display_name": "Python 3 (ipykernel)",
   "language": "python",
   "name": "python3"
  },
  "language_info": {
   "codemirror_mode": {
    "name": "ipython",
    "version": 3
   },
   "file_extension": ".py",
   "mimetype": "text/x-python",
   "name": "python",
   "nbconvert_exporter": "python",
   "pygments_lexer": "ipython3",
   "version": "3.11.7"
  },
  "widgets": {
   "application/vnd.jupyter.widget-state+json": {
    "state": {
     "15a13e8b072b4c9283b6348f219e2dfd": {
      "model_module": "@jupyter-widgets/controls",
      "model_module_version": "2.0.0",
      "model_name": "VBoxModel",
      "state": {
       "_dom_classes": [
        "widget-interact"
       ],
       "children": [
        "IPY_MODEL_3fe65179f63943e0b7e0db9536ef219f",
        "IPY_MODEL_7496af4780274c00a885d320590f0b09",
        "IPY_MODEL_ca14353e1ddb48b4974e1be1cca9884d",
        "IPY_MODEL_c317357e874342e3be39104b6f2cbe23",
        "IPY_MODEL_27795e7cbe784926ae3ba82bff464941"
       ],
       "layout": "IPY_MODEL_b68c41540eec45c6951a0c9a1ef94cc0"
      }
     },
     "27795e7cbe784926ae3ba82bff464941": {
      "model_module": "@jupyter-widgets/output",
      "model_module_version": "1.0.0",
      "model_name": "OutputModel",
      "state": {
       "layout": "IPY_MODEL_f40f55957d54450abaed5a078e3f972b",
       "outputs": [
        {
         "data": {
          "image/png": "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",
          "text/plain": "<Figure size 800x800 with 1 Axes>"
         },
         "metadata": {},
         "output_type": "display_data"
        }
       ]
      }
     },
     "3fe65179f63943e0b7e0db9536ef219f": {
      "model_module": "@jupyter-widgets/controls",
      "model_module_version": "2.0.0",
      "model_name": "FloatSliderModel",
      "state": {
       "behavior": "drag-tap",
       "description": "$n_E$ :",
       "layout": "IPY_MODEL_f6f21a4ae2284bbe8e58bbe2638ac80f",
       "max": 2,
       "min": 1,
       "step": 0.02,
       "style": "IPY_MODEL_859d2624de8e4c5a9e25bb4580b6652a",
       "value": 2
      }
     },
     "6c39df329aaf4e88b450ae43b4aec69e": {
      "model_module": "@jupyter-widgets/base",
      "model_module_version": "2.0.0",
      "model_name": "LayoutModel",
      "state": {}
     },
     "7496af4780274c00a885d320590f0b09": {
      "model_module": "@jupyter-widgets/controls",
      "model_module_version": "2.0.0",
      "model_name": "FloatSliderModel",
      "state": {
       "behavior": "drag-tap",
       "description": "$n_O$ :",
       "layout": "IPY_MODEL_6c39df329aaf4e88b450ae43b4aec69e",
       "max": 2,
       "min": 1,
       "step": 0.02,
       "style": "IPY_MODEL_85d02d9ee8624a73ba3405e514ae8e20",
       "value": 1.5
      }
     },
     "7a56b8e91362428091daff18b8cbd9c4": {
      "model_module": "@jupyter-widgets/controls",
      "model_module_version": "2.0.0",
      "model_name": "SliderStyleModel",
      "state": {
       "description_width": ""
      }
     },
     "859d2624de8e4c5a9e25bb4580b6652a": {
      "model_module": "@jupyter-widgets/controls",
      "model_module_version": "2.0.0",
      "model_name": "SliderStyleModel",
      "state": {
       "description_width": ""
      }
     },
     "85d02d9ee8624a73ba3405e514ae8e20": {
      "model_module": "@jupyter-widgets/controls",
      "model_module_version": "2.0.0",
      "model_name": "SliderStyleModel",
      "state": {
       "description_width": ""
      }
     },
     "8ddf0f8d493942b59cb12fb195d457e3": {
      "model_module": "@jupyter-widgets/base",
      "model_module_version": "2.0.0",
      "model_name": "LayoutModel",
      "state": {}
     },
     "9b760520c0aa48cbbe28e5312ddd6352": {
      "model_module": "@jupyter-widgets/controls",
      "model_module_version": "2.0.0",
      "model_name": "SliderStyleModel",
      "state": {
       "description_width": ""
      }
     },
     "b68c41540eec45c6951a0c9a1ef94cc0": {
      "model_module": "@jupyter-widgets/base",
      "model_module_version": "2.0.0",
      "model_name": "LayoutModel",
      "state": {}
     },
     "c317357e874342e3be39104b6f2cbe23": {
      "model_module": "@jupyter-widgets/controls",
      "model_module_version": "2.0.0",
      "model_name": "FloatSliderModel",
      "state": {
       "behavior": "drag-tap",
       "description": "$\\theta_i$ (rad):",
       "layout": "IPY_MODEL_8ddf0f8d493942b59cb12fb195d457e3",
       "max": 1.5707963267948966,
       "step": 0.01,
       "style": "IPY_MODEL_7a56b8e91362428091daff18b8cbd9c4",
       "value": 1.1300000000000001
      }
     },
     "ca14353e1ddb48b4974e1be1cca9884d": {
      "model_module": "@jupyter-widgets/controls",
      "model_module_version": "2.0.0",
      "model_name": "FloatSliderModel",
      "state": {
       "behavior": "drag-tap",
       "description": "$\\theta_0$ (rad):",
       "layout": "IPY_MODEL_e3fff51668e740f994979a4f5eb60669",
       "max": 3.141592653589793,
       "step": 0.01,
       "style": "IPY_MODEL_9b760520c0aa48cbbe28e5312ddd6352"
      }
     },
     "e3fff51668e740f994979a4f5eb60669": {
      "model_module": "@jupyter-widgets/base",
      "model_module_version": "2.0.0",
      "model_name": "LayoutModel",
      "state": {}
     },
     "f40f55957d54450abaed5a078e3f972b": {
      "model_module": "@jupyter-widgets/base",
      "model_module_version": "2.0.0",
      "model_name": "LayoutModel",
      "state": {}
     },
     "f6f21a4ae2284bbe8e58bbe2638ac80f": {
      "model_module": "@jupyter-widgets/base",
      "model_module_version": "2.0.0",
      "model_name": "LayoutModel",
      "state": {}
     }
    },
    "version_major": 2,
    "version_minor": 0
   }
  }
 },
 "nbformat": 4,
 "nbformat_minor": 5
}
