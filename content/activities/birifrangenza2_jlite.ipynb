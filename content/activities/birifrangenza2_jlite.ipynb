{
 "cells": [
  {
   "cell_type": "markdown",
   "id": "f28249a1-6086-4cd8-9949-eba1714e477c",
   "metadata": {
    "jp-MarkdownHeadingCollapsed": true
   },
   "source": [
    "### Code"
   ]
  },
  {
   "cell_type": "code",
   "execution_count": 1,
   "id": "d731021d-e8ef-4e4f-b9db-493b24184c28",
   "metadata": {},
   "outputs": [
    {
     "name": "stdout",
     "output_type": "stream",
     "text": [
      "Note: you may need to restart the kernel to use updated packages.\n"
     ]
    }
   ],
   "source": [
    "%pip install -q \"ipywidgets\"\n",
    "import ipywidgets as widgets"
   ]
  },
  {
   "cell_type": "code",
   "execution_count": 2,
   "id": "f2d4e700-3f0f-4a37-bb04-e2f2904bf048",
   "metadata": {},
   "outputs": [],
   "source": [
    "import warnings\n",
    "warnings.filterwarnings(\"ignore\")"
   ]
  },
  {
   "cell_type": "code",
   "execution_count": 3,
   "id": "7f57d414-3ac7-46f1-a344-cce9436f7a3a",
   "metadata": {},
   "outputs": [],
   "source": [
    "import matplotlib.pyplot as plt\n",
    "#%matplotlib inline\n",
    "import numpy as np\n",
    "from IPython.display import display\n",
    "from scipy.optimize import root"
   ]
  },
  {
   "cell_type": "code",
   "execution_count": 4,
   "id": "21bb6e4d-9cc2-4cc6-a5d2-be4b229ca36a",
   "metadata": {},
   "outputs": [],
   "source": [
    "def uN_E(t,t0,nO,nE):\n",
    "    uu = np.array([nO*np.sin(t0)*np.sin(t)+nE*np.cos(t0)*np.cos(t),-nO*np.cos(t0)*np.sin(t)+nE*np.sin(t0)*np.cos(t)])\n",
    "    return uu/np.linalg.norm(uu)"
   ]
  },
  {
   "cell_type": "code",
   "execution_count": 5,
   "id": "39c7887c-325c-4ed9-84ef-7a421be59a19",
   "metadata": {},
   "outputs": [],
   "source": [
    "def uT_E(t,t0,nO,nE):\n",
    "    uu = np.array([-nO*np.cos(t0)*np.sin(t)+nE*np.sin(t0)*np.cos(t),-nO*np.sin(t0)*np.sin(t)-nE*np.cos(t0)*np.cos(t)])\n",
    "    return uu/np.linalg.norm(uu)"
   ]
  },
  {
   "cell_type": "code",
   "execution_count": 6,
   "id": "4daecd64-1b42-4a9b-9410-af3596fe4eee",
   "metadata": {},
   "outputs": [],
   "source": [
    "def uN_O(t):\n",
    "    return np.array([np.cos(t),-np.sin(t)])"
   ]
  },
  {
   "cell_type": "code",
   "execution_count": 7,
   "id": "46939abc-f557-494a-9d1f-d874b9880162",
   "metadata": {},
   "outputs": [],
   "source": [
    "def uT_O(t):\n",
    "    return np.array([-np.sin(t),np.cos(t)])"
   ]
  },
  {
   "cell_type": "code",
   "execution_count": 8,
   "id": "d5171ee6-e459-48e4-8021-57a12e739eca",
   "metadata": {},
   "outputs": [],
   "source": [
    "def update_plot(nE, nO, qi):\n",
    "\n",
    "    xmax = max(nE,nO)\n",
    "    \n",
    "    t = np.linspace(np.pi, 2*np.pi, 100)\n",
    "\n",
    "    #ordinario\n",
    "    Ox = nO*np.cos(t)\n",
    "    Oy = nO*np.sin(t)\n",
    "\n",
    "    #straordinario\n",
    "    Ex = nE*np.cos(t)\n",
    "    Ey = nE*np.sin(t)\n",
    "\n",
    "\n",
    "    #isotropo\n",
    "    tI = np.linspace(0,np.pi,100)\n",
    "    xI = np.cos(tI)\n",
    "    yI = np.sin(tI)\n",
    "\n",
    "    #optical axis\n",
    "    A = [0.1,0.]\n",
    "    B = [-nO-0.1,0.]\n",
    "\n",
    "    #incoming ki\n",
    "    qqi = np.pi/2-qi\n",
    "    IO = [nO*np.cos(qi+np.pi),nO*np.sin(qi+np.pi)]\n",
    "    IE = [nE*np.cos(qi+np.pi),nE*np.sin(qi+np.pi)]\n",
    "\n",
    "    \n",
    "\n",
    "    fig, ax = plt.subplots(figsize=(8,8))\n",
    "    plt.gca().set_aspect('equal')\n",
    "    ax.clear()\n",
    "    ax.set_xticks([])\n",
    "    ax.set_yticks([])\n",
    "\n",
    "    shift_xmin = 1.\n",
    "    ax.set_xlim(-2.2,2.2)\n",
    "    ax.set_ylim(-2.2,1.2)\n",
    "    \n",
    "    ax.plot(Ex,Ey, color='orange')\n",
    "    ax.plot(Ox,Oy,c='b')\n",
    "    ax.plot(xI,yI,c='k')\n",
    "    #ax.plot([AR[0],BR[0]],[AR[1],BR[1]],c='k',ls='--')\n",
    "\n",
    "\n",
    "    #plot incoming\n",
    "    #x.plot([I[0],0],[I[1],0],c='r')\n",
    "    ax.annotate('',[0,0],IO,arrowprops=dict(facecolor='b', edgecolor='b', width=3, shrink=0.03))\n",
    "    ax.annotate('',[0,0],IE,arrowprops=dict(facecolor='orange', edgecolor='orange', width=3, shrink=0.03))\n",
    "    #ax.annotate(r'$\\vec{k}_i$',[I[0]/2.+.015,I[1]/2+.015],c='r',fontsize=12)\n",
    "  \n",
    "    phIran = np.linspace(np.pi+qi,3*np.pi/2.,100)\n",
    "    ax.plot(0.5*np.cos(phIran),0.5*np.sin(phIran),c='k',ls='--')\n",
    "    ax.plot(-0.4*np.cos(phIran),0.4*np.sin(phIran),c='k',ls='--')\n",
    "    ax.annotate(r'$\\theta_i$',(0.65*np.cos(np.mean(phIran)),0.65*np.sin(np.mean(phIran))),c='r',fontsize=12)\n",
    "\n",
    "\n",
    "    # ordinary\n",
    "    xOrfl = nO*np.cos(-qi)\n",
    "    yOrfl = nO*np.sin(-qi)\n",
    "    ax.annotate('',[xOrfl,yOrfl],[0,0],arrowprops=dict(facecolor='b', edgecolor='b', width=3, shrink=0.03))\n",
    "\n",
    "    #find O root\n",
    "    if nO*np.sin(qqi)<=1:\n",
    "        qO=np.arcsin(nO*np.sin(qqi))\n",
    "        \n",
    "    #plot O outgoing\n",
    "        xO = np.cos(np.pi/2-qO)\n",
    "        yO = np.sin(np.pi/2-qO)\n",
    "        ax.annotate('',[xO,yO],[0,0],arrowprops=dict(facecolor='b', edgecolor='b', width=3, shrink=0.03))\n",
    "        phOran = np.linspace(np.pi/2-qO,np.pi/2,100)\n",
    "        ax.plot(0.5*np.cos(phOran),0.5*np.sin(phOran),c='b',ls='-')\n",
    "        ax.annotate(r'$\\varphi_O$',(-0.05,0.55),ha='right',c='b')\n",
    "\n",
    "\n",
    "    # extraordinary\n",
    "    xErfl = nE*np.cos(-qi)\n",
    "    yErfl = nE*np.sin(-qi)\n",
    "    ax.annotate('',[xErfl,yErfl],[0,0],arrowprops=dict(facecolor='orange', edgecolor='orange', width=3, shrink=0.03))\n",
    "\n",
    "    #find E root\n",
    "    if nE*np.sin(qqi)<=1:\n",
    "        qE=np.arcsin(nE*np.sin(qqi))\n",
    "        \n",
    "    #plot E outgoing\n",
    "        xE = np.cos(np.pi/2-qE)\n",
    "        yE = np.sin(np.pi/2-qE)\n",
    "        ax.annotate('',[xE,yE],[0,0],arrowprops=dict(facecolor='orange', edgecolor='orange', width=3, shrink=0.03))\n",
    "        phEran = np.linspace(np.pi/2-qE,np.pi/2,100)\n",
    "        ax.plot(0.4*np.cos(phEran),0.4*np.sin(phEran),c='orange',ls='-')\n",
    "        ax.annotate(r'$\\varphi_E$',(-0.04,0.35),ha='right',c='orange')\n",
    "    \n",
    "\n",
    "    if qi!=0:\n",
    "        ax.annotate('',IO,[0,IO[1]], arrowprops=dict(arrowstyle='<->',color='b'))\n",
    "        #ax.annotate(r'$k_i\\sin\\theta_i$',[IO[0]/2.,IO[1]+0.04],ha='center')\n",
    "        ax.axvline(IO[0],c='k',ls='-.',lw=.5)\n",
    "        ax.annotate('',[0,IO[1]],[-IO[0],IO[1]], arrowprops=dict(arrowstyle='<->',color='b'))\n",
    "        ax.axvline(-IO[0],c='k',ls='-.',lw=.5)\n",
    "        \n",
    "\n",
    "        ax.annotate('',IE,[0,IE[1]], arrowprops=dict(arrowstyle='<->',color='orange'))\n",
    "        ax.axvline(IE[0],c='k',ls='-.',lw=.5)\n",
    "        ax.annotate('',[0,IE[1]],[-IE[0],IE[1]], arrowprops=dict(arrowstyle='<->',color='orange'))\n",
    "        ax.axvline(-IE[0],c='k',ls='-.',lw=.5)\n",
    "       \n",
    "    \n",
    "    ax.scatter(0,0,marker='o',facecolor='r',edgecolor='k',zorder=4)\n",
    "    ax.annotate('A.O.',(-0.02,0.02),ha='right',c='r')\n",
    "    ax.axhline(0,c='k',lw=.5)\n",
    "    ax.axvline(0,c='k',lw=1)\n",
    "    ax.axhspan(-2.5,0,color='k',alpha=0.05)\n",
    "\n",
    "    ax.annotate('$n_E\\,\\omega/c$',(-nE-0.01,0.04),ha='right',c='orange')\n",
    "    ax.annotate('$n_O\\,\\omega/c$',(-nO-0.01,-0.12),ha='right',c='b')\n",
    "    ax.annotate('$n_i\\,\\omega/c$',(np.cos(np.pi/12)+0.02,np.sin(np.pi/12)),ha='left',c='k')\n",
    "\n",
    "    \n",
    "    plt.show()"
   ]
  },
  {
   "cell_type": "code",
   "execution_count": 9,
   "id": "bbd6f1cf-0a17-46eb-a9b0-02166a33dc7c",
   "metadata": {},
   "outputs": [],
   "source": [
    "initial_nE = 1.22\n",
    "initial_nO = 1.22\n",
    "initial_t0 = 0.0\n",
    "initial_qi = np.pi/4.\n",
    "\n",
    "# Create sliders for adjusting slopes\n",
    "nE_slider = widgets.FloatSlider(value=initial_nE, min=1, max=2, step=0.02, description='$n_E$ :')\n",
    "nO_slider = widgets.FloatSlider(value=initial_nO, min=1, max=2, step=0.02, description='$n_O$ :')\n",
    "#t0_slider = widgets.FloatSlider(value=initial_t0, min=0, max=np.pi, step=0.01, description=r'$\\theta_0$ (rad):')\n",
    "qi_slider = widgets.FloatSlider(value=initial_qi, min=0, max=np.pi/2.-0.00, step=0.02, description=r'$\\theta_i$ (rad):')"
   ]
  },
  {
   "cell_type": "code",
   "execution_count": 10,
   "id": "a6ea9185-2aa9-4b24-abc0-16fc6b6f655f",
   "metadata": {},
   "outputs": [],
   "source": [
    "interactive_plot = widgets.interactive(update_plot, nE=nE_slider, nO=nO_slider, qi=qi_slider)"
   ]
  },
  {
   "cell_type": "markdown",
   "id": "a1141959-def0-40f0-a908-ada08a1b1316",
   "metadata": {},
   "source": [
    "# Birifrangenza"
   ]
  },
  {
   "cell_type": "markdown",
   "id": "7480f07c-7937-4736-8f2c-3b4b8e8b9fe0",
   "metadata": {},
   "source": [
    "### Descrizione\n",
    "Rifrazione di un raggio proveniente da un mezzo anisotropo uniassiale verso un mezzo isotropo.\n",
    "È possibile variare:\n",
    "- l'angolo di incidenza $\\theta_i$,\n",
    "- gli indici di rifrazione $n_E$ ed $n_O$ del mezzo uniassiale.\n",
    "\n",
    "L'asse ottico **A.O.** del materiale uniassiale è uscente dal piano di incidenza</br>\n",
    "$\\varphi_O$ e $\\varphi_E$ indicano gli angoli di rifrazione del raggio ordinario e straordinario, rispettivamente. $\\vec{S}_O$ ed $\\vec{S}_E$ indicano i vettori di Poynting del raggio ordinario e straordinario.\n",
    "\n",
    "### Utilizzo\n",
    "Per eseguire il notebook, dal menu in alto: `Run > Run All Cells`"
   ]
  },
  {
   "cell_type": "code",
   "execution_count": 11,
   "id": "13f7d330-f4f7-450b-833d-bab509de98aa",
   "metadata": {},
   "outputs": [
    {
     "data": {
      "application/vnd.jupyter.widget-view+json": {
       "model_id": "b868802a96254b10ac6d0e5ce25369e8",
       "version_major": 2,
       "version_minor": 0
      },
      "text/plain": [
       "interactive(children=(FloatSlider(value=1.22, description='$n_E$ :', max=2.0, min=1.0, step=0.02), FloatSlider…"
      ]
     },
     "metadata": {},
     "output_type": "display_data"
    }
   ],
   "source": [
    "display(interactive_plot)"
   ]
  },
  {
   "cell_type": "code",
   "execution_count": null,
   "id": "7d5911ed-75fd-4599-ae66-23f0e69be82f",
   "metadata": {},
   "outputs": [],
   "source": []
  }
 ],
 "metadata": {
  "kernelspec": {
   "display_name": "Python 3 (ipykernel)",
   "language": "python",
   "name": "python3"
  },
  "language_info": {
   "codemirror_mode": {
    "name": "ipython",
    "version": 3
   },
   "file_extension": ".py",
   "mimetype": "text/x-python",
   "name": "python",
   "nbconvert_exporter": "python",
   "pygments_lexer": "ipython3",
   "version": "3.11.7"
  },
  "widgets": {
   "application/vnd.jupyter.widget-state+json": {
    "state": {
     "066d4e37c587425f8c413a536a9fddab": {
      "model_module": "@jupyter-widgets/base",
      "model_module_version": "2.0.0",
      "model_name": "LayoutModel",
      "state": {}
     },
     "1b5a07336dbf4ef2be0ba325371081e6": {
      "model_module": "@jupyter-widgets/controls",
      "model_module_version": "2.0.0",
      "model_name": "FloatSliderModel",
      "state": {
       "behavior": "drag-tap",
       "description": "$\\theta_i$ (rad):",
       "layout": "IPY_MODEL_2f65aef594344f2782ee06ba1c49ad52",
       "max": 1.5707963267948966,
       "step": 0.02,
       "style": "IPY_MODEL_b9cec457200e411db782a5466bc7f05d",
       "value": 0.78
      }
     },
     "2f65aef594344f2782ee06ba1c49ad52": {
      "model_module": "@jupyter-widgets/base",
      "model_module_version": "2.0.0",
      "model_name": "LayoutModel",
      "state": {}
     },
     "31b7bbbffdfa42c49e9fca1529cc66f2": {
      "model_module": "@jupyter-widgets/controls",
      "model_module_version": "2.0.0",
      "model_name": "SliderStyleModel",
      "state": {
       "description_width": ""
      }
     },
     "6e9c1968b362465883037ce3e0b8c90b": {
      "model_module": "@jupyter-widgets/controls",
      "model_module_version": "2.0.0",
      "model_name": "SliderStyleModel",
      "state": {
       "description_width": ""
      }
     },
     "7078ada4f1f442ca985cb5e9fb4bb0e7": {
      "model_module": "@jupyter-widgets/base",
      "model_module_version": "2.0.0",
      "model_name": "LayoutModel",
      "state": {}
     },
     "727fa92fa44f455ca85430e05e15bcb6": {
      "model_module": "@jupyter-widgets/controls",
      "model_module_version": "2.0.0",
      "model_name": "FloatSliderModel",
      "state": {
       "behavior": "drag-tap",
       "description": "$n_O$ :",
       "layout": "IPY_MODEL_efbc6d06614742c7b3b3e6a8f25dad63",
       "max": 2,
       "min": 1,
       "step": 0.02,
       "style": "IPY_MODEL_31b7bbbffdfa42c49e9fca1529cc66f2",
       "value": 1.22
      }
     },
     "b262449c4ea344d6a7435f0815131dd7": {
      "model_module": "@jupyter-widgets/base",
      "model_module_version": "2.0.0",
      "model_name": "LayoutModel",
      "state": {}
     },
     "b868802a96254b10ac6d0e5ce25369e8": {
      "model_module": "@jupyter-widgets/controls",
      "model_module_version": "2.0.0",
      "model_name": "VBoxModel",
      "state": {
       "_dom_classes": [
        "widget-interact"
       ],
       "children": [
        "IPY_MODEL_d95159cb9e764e3fb17d1852a8acdb0a",
        "IPY_MODEL_727fa92fa44f455ca85430e05e15bcb6",
        "IPY_MODEL_1b5a07336dbf4ef2be0ba325371081e6",
        "IPY_MODEL_d02db2df38ec4dde82d9b9eb5d559f84"
       ],
       "layout": "IPY_MODEL_7078ada4f1f442ca985cb5e9fb4bb0e7"
      }
     },
     "b9cec457200e411db782a5466bc7f05d": {
      "model_module": "@jupyter-widgets/controls",
      "model_module_version": "2.0.0",
      "model_name": "SliderStyleModel",
      "state": {
       "description_width": ""
      }
     },
     "d02db2df38ec4dde82d9b9eb5d559f84": {
      "model_module": "@jupyter-widgets/output",
      "model_module_version": "1.0.0",
      "model_name": "OutputModel",
      "state": {
       "layout": "IPY_MODEL_b262449c4ea344d6a7435f0815131dd7",
       "outputs": [
        {
         "data": {
          "image/png": "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",
          "text/plain": "<Figure size 800x800 with 1 Axes>"
         },
         "metadata": {},
         "output_type": "display_data"
        }
       ]
      }
     },
     "d95159cb9e764e3fb17d1852a8acdb0a": {
      "model_module": "@jupyter-widgets/controls",
      "model_module_version": "2.0.0",
      "model_name": "FloatSliderModel",
      "state": {
       "behavior": "drag-tap",
       "description": "$n_E$ :",
       "layout": "IPY_MODEL_066d4e37c587425f8c413a536a9fddab",
       "max": 2,
       "min": 1,
       "step": 0.02,
       "style": "IPY_MODEL_6e9c1968b362465883037ce3e0b8c90b",
       "value": 1.22
      }
     },
     "efbc6d06614742c7b3b3e6a8f25dad63": {
      "model_module": "@jupyter-widgets/base",
      "model_module_version": "2.0.0",
      "model_name": "LayoutModel",
      "state": {}
     }
    },
    "version_major": 2,
    "version_minor": 0
   }
  }
 },
 "nbformat": 4,
 "nbformat_minor": 5
}
