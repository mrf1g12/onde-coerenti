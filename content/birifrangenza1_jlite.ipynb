{
 "cells": [
  {
   "cell_type": "markdown",
   "id": "325f4fbc-596f-4912-8560-68b9ed37106c",
   "metadata": {
    "jp-MarkdownHeadingCollapsed": true
   },
   "source": [
    "### code"
   ]
  },
  {
   "cell_type": "code",
   "execution_count": 2,
   "id": "fe6fbd31-c4cd-47cd-ac39-fb7397f8ce55",
   "metadata": {},
   "outputs": [],
   "source": [
    "%pip install -q \"ipywidgets\"\n",
    "import ipywidgets as widgets"
   ]
  },
  {
   "cell_type": "code",
   "execution_count": 3,
   "id": "7f57d414-3ac7-46f1-a344-cce9436f7a3a",
   "metadata": {},
   "outputs": [],
   "source": [
    "import matplotlib.pyplot as plt\n",
    "#%matplotlib inline\n",
    "import numpy as np\n",
    "from IPython.display import display\n",
    "from scipy.optimize import root"
   ]
  },
  {
   "cell_type": "code",
   "execution_count": 4,
   "id": "9e5441ac-857a-48ac-95f4-24260888aceb",
   "metadata": {},
   "outputs": [],
   "source": [
    "def rootO(q,nO,qi):\n",
    "    return nO*np.cos(q)-np.sin(qi)"
   ]
  },
  {
   "cell_type": "code",
   "execution_count": 5,
   "id": "21bb6e4d-9cc2-4cc6-a5d2-be4b229ca36a",
   "metadata": {},
   "outputs": [],
   "source": [
    "def uN_E(t,t0,nO,nE):\n",
    "    uu = np.array([nO*np.sin(t0)*np.sin(t)+nE*np.cos(t0)*np.cos(t),-nO*np.cos(t0)*np.sin(t)+nE*np.sin(t0)*np.cos(t)])\n",
    "    return uu/np.linalg.norm(uu)"
   ]
  },
  {
   "cell_type": "code",
   "execution_count": 6,
   "id": "39c7887c-325c-4ed9-84ef-7a421be59a19",
   "metadata": {},
   "outputs": [],
   "source": [
    "def uT_E(t,t0,nO,nE):\n",
    "    uu = np.array([-nO*np.cos(t0)*np.sin(t)+nE*np.sin(t0)*np.cos(t),-nO*np.sin(t0)*np.sin(t)-nE*np.cos(t0)*np.cos(t)])\n",
    "    return uu/np.linalg.norm(uu)"
   ]
  },
  {
   "cell_type": "code",
   "execution_count": 7,
   "id": "4daecd64-1b42-4a9b-9410-af3596fe4eee",
   "metadata": {},
   "outputs": [],
   "source": [
    "def uN_O(t):\n",
    "    return np.array([np.cos(t),-np.sin(t)])"
   ]
  },
  {
   "cell_type": "code",
   "execution_count": 8,
   "id": "46939abc-f557-494a-9d1f-d874b9880162",
   "metadata": {},
   "outputs": [],
   "source": [
    "def uT_O(t):\n",
    "    return np.array([-np.sin(t),np.cos(t)])"
   ]
  },
  {
   "cell_type": "code",
   "execution_count": 9,
   "id": "d5171ee6-e459-48e4-8021-57a12e739eca",
   "metadata": {},
   "outputs": [],
   "source": [
    "def update_plot(nE, nO, t0, qi):\n",
    "\n",
    "    xmax = max(nE,nO)\n",
    "    \n",
    "    #rotation\n",
    "    R = np.array([[np.cos(t0),-np.sin(t0)],[np.sin(t0),np.cos(t0)]])\n",
    "    \n",
    "    # straordinario\n",
    "    if t0<=np.pi/2.:\n",
    "        ti = np.arctan(nO/nE*np.tan(t0))\n",
    "    else:\n",
    "        ti = np.pi+np.arctan(nO/nE*np.tan(t0-np.pi))\n",
    "\n",
    "    t = np.linspace(ti, np.pi+ti, 100)\n",
    "\n",
    "    xy = np.array([nO*np.cos(t),-nE*np.sin(t)])\n",
    "    #xyR = np.dot(R,xy)\n",
    "    xyR=np.array([nO*np.cos(t0)*np.cos(t)+nE*np.sin(t0)*np.sin(t),\n",
    "                 nO*np.sin(t0)*np.cos(t)-nE*np.cos(t0)*np.sin(t)])\n",
    "\n",
    "\n",
    "    #ordinario\n",
    "    tC = -np.linspace(0,np.pi,100)\n",
    "    Ox = nO*np.cos(tC)\n",
    "    Oy = nO*np.sin(tC)\n",
    "\n",
    "    #isotropo\n",
    "    tI = np.linspace(0,np.pi,100)\n",
    "    xI = np.cos(tI)\n",
    "    yI = np.sin(tI)\n",
    "\n",
    "    #optical axis\n",
    "    A = [0.1,0.]\n",
    "    B = [-nO-0.1,0.]\n",
    "    AR = np.dot(R,A)\n",
    "    BR = np.dot(R,B)\n",
    "\n",
    "    #incoming ki\n",
    "    I = [-np.sin(qi),np.cos(qi)]\n",
    "\n",
    "    #find O root\n",
    "    #qO = root(rootO,np.pi/2-qi,args=(nO,qi)).x[0]\n",
    "    qO=np.arccos(np.sin(qi)/nO)\n",
    "    xO = nO*np.cos(qO)\n",
    "    yO = -nO*np.sin(qO)\n",
    "\n",
    "    #find E root\n",
    "    qE=2*np.arctan((nE*np.sin(t0)+np.sqrt(nO**2*np.cos(t0)**2-np.sin(qi)**2+nE**2*np.sin(t0)**2))/(nO*np.cos(t0)+np.sin(qi)))\n",
    "    xE = nO*np.cos(t0)*np.cos(qE)+nE*np.sin(t0)*np.sin(qE)\n",
    "    yE = (nO*np.sin(t0)*np.cos(qE)-nE*np.cos(t0)*np.sin(qE))\n",
    "    \n",
    "\n",
    "    fig, ax = plt.subplots(figsize=(8,8))\n",
    "    plt.gca().set_aspect('equal')\n",
    "    ax.clear()\n",
    "    ax.set_xticks([])\n",
    "    ax.set_yticks([])\n",
    "\n",
    "    shift_xmin = 1.\n",
    "    ax.set_xlim(-xmax-0.2,xmax+0.2)\n",
    "    ax.set_ylim(-xmax-shift_xmin,1.2)\n",
    "    \n",
    "    ax.plot(xyR[0], xyR[1], color='orange')\n",
    "    ax.plot(Ox,Oy,c='b')\n",
    "    ax.plot(xI,yI,c='k')\n",
    "    ax.plot([AR[0],BR[0]],[AR[1],BR[1]],c='k',ls='--')\n",
    "\n",
    "\n",
    "    # show angles\n",
    "    if xE!=0:\n",
    "        phEran = np.linspace(np.arctan(yE/xE),-np.pi/2.,100)\n",
    "    else:\n",
    "        phEran = np.linspace(np.pi/2.,-np.pi/2.,100)\n",
    "    rE = .5\n",
    "    if qi!=0:\n",
    "        ax.plot(rE*np.cos(phEran),rE*np.sin(phEran),c='orange')\n",
    "        ax.annotate(r'$\\varphi_E$',(-.18,-rE-.05),c='orange',fontsize=12)\n",
    "\n",
    "    phOran = np.linspace(np.arctan(yO/xO),-np.pi/2.,100)\n",
    "    rO = .3\n",
    "    ax.plot(rO*np.cos(phOran),rO*np.sin(phOran),c='blue')\n",
    "    ax.annotate(r'$\\varphi_O$',(-.18,-rO-.05),c='b',fontsize=12)\n",
    "\n",
    "    phIran = np.linspace(np.pi/2,np.pi/2+qi,100)\n",
    "    ax.plot(rO*np.cos(phIran),rO*np.sin(phIran),c='r')\n",
    "    ax.annotate(r'$\\varphi_i$',(.01,rO),c='r',fontsize=12)\n",
    "\n",
    "    \n",
    "    #plot incoming\n",
    "    #x.plot([I[0],0],[I[1],0],c='r')\n",
    "    ax.annotate('',[0,0],I,arrowprops=dict(facecolor='r', edgecolor='r', width=3, shrink=0.03))\n",
    "    ax.annotate(r'$\\vec{k}_i$',[I[0]/2.+.015,I[1]/2+.015],c='r',fontsize=12)\n",
    "\n",
    "    #plot O outgoing\n",
    "    ax.annotate('',[xO,yO],[0,0],arrowprops=dict(facecolor='b', edgecolor='b', width=3, shrink=0.03))\n",
    "    ax.annotate(r'$\\vec{k}_O$',[xO/2.5+.05,yO/2.5+.01],c='b',fontsize=12,zorder=1)\n",
    "\n",
    "    #plot E outgoing\n",
    "    #ax.plot([0,xE],[0,yE],c='orange')\n",
    "    ax.annotate('',[xE,yE],[0,0],arrowprops=dict(facecolor='orange', edgecolor='orange', width=3, shrink=0.03),zorder=0)\n",
    "    ax.annotate(r'$\\vec{k}_E$',[xE/1.5+0.05,yE/1.5+.01],c='orange',fontsize=12)\n",
    "\n",
    "    # S_E\n",
    "    uE = uN_E(qE,t0,nO,nE)\n",
    "    ax.annotate('',np.array([xE,yE])+uE,np.array([xE,yE]),arrowprops=dict(facecolor='orange', edgecolor='orange', width=3, shrink=0.03))\n",
    "    ax.annotate(r'$\\vec{S}_E$',np.array([xE,yE])+uE/1.5+np.array([0.02,0.02]),fontsize=12,c='orange')\n",
    "\n",
    "    uTE = 0.5*uT_E(qE,t0,nO,nE)\n",
    "    ax.plot([xE-uTE[0],xE+uTE[0]],[yE-uTE[1],yE+uTE[1]],c='m')\n",
    "\n",
    "    # S_O\n",
    "    uO = uN_O(qO)\n",
    "    ax.annotate('',np.array([xO,yO])+uO,np.array([xO,yO]),arrowprops=dict(facecolor='b', edgecolor='b', width=3, shrink=0.03))\n",
    "    ax.annotate(r'$\\vec{S}_O$',np.array([xO,yO])+uO/2.5+np.array([0.02,0.02]),fontsize=12,c='b')\n",
    "\n",
    "    uTO = 0.5*uT_O(qO)\n",
    "    ax.plot([xO-uTO[0],xO+uTO[0]],[yO+uTO[1],yO-uTO[1]],c='m')\n",
    "\n",
    "    \n",
    "    \n",
    "\n",
    "    if qi!=0:\n",
    "        ax.annotate('',I,[0,I[1]], arrowprops=dict(arrowstyle='<->'))\n",
    "        ax.annotate(r'$k_i\\sin\\theta_i$',[I[0]/2.,I[1]+0.04],ha='center')\n",
    "    ax.axvline(I[0],c='k',ls='-.',lw=.5)\n",
    "    ax.annotate('',[0,I[1]],[-I[0],I[1]], arrowprops=dict(arrowstyle='<->'))\n",
    "    ax.axvline(-I[0],c='k',ls='-.',lw=.5)\n",
    "    \n",
    "    ax.scatter(0,0,marker='o',c='k')\n",
    "    ax.axhline(0,c='k',lw=.5)\n",
    "    ax.axvline(0,c='k',lw=.5)\n",
    "    ax.axhspan(-xmax-shift_xmin,0,color='k',alpha=0.05)\n",
    "\n",
    "\n",
    "    \n",
    "    plt.show()"
   ]
  },
  {
   "cell_type": "code",
   "execution_count": 10,
   "id": "bbd6f1cf-0a17-46eb-a9b0-02166a33dc7c",
   "metadata": {},
   "outputs": [],
   "source": [
    "initial_nE = 1.5\n",
    "initial_nO = 1.5\n",
    "initial_t0 = 0.0\n",
    "initial_qi = np.pi/4.\n",
    "\n",
    "# Create sliders for adjusting slopes\n",
    "nE_slider = widgets.FloatSlider(value=initial_nE, min=1, max=2, step=0.02, description='$n_E$ :')\n",
    "nO_slider = widgets.FloatSlider(value=initial_nO, min=1, max=2, step=0.02, description='$n_O$ :')\n",
    "t0_slider = widgets.FloatSlider(value=initial_t0, min=0, max=np.pi, step=0.01, description=r'$\\theta_0$ (rad):')\n",
    "qi_slider = widgets.FloatSlider(value=initial_qi, min=0, max=np.pi/2.-0.00, step=0.01, description=r'$\\theta_i$ (rad):')"
   ]
  },
  {
   "cell_type": "code",
   "execution_count": 11,
   "id": "a6ea9185-2aa9-4b24-abc0-16fc6b6f655f",
   "metadata": {},
   "outputs": [],
   "source": [
    "interactive_plot = widgets.interactive(update_plot, nE=nE_slider, nO=nO_slider, t0=t0_slider, qi=qi_slider)"
   ]
  },
  {
   "cell_type": "markdown",
   "id": "8ca66d88-1a8d-4576-9d74-7a40320d5d16",
   "metadata": {},
   "source": [
    "# Birefringence"
   ]
  },
  {
   "cell_type": "markdown",
   "id": "3049216b-d047-4c38-b4da-6c2bce6db023",
   "metadata": {},
   "source": [
    "Rifrazione di un raggio da un mezzo isotropo in un mezzo uniassiale"
   ]
  },
  {
   "cell_type": "code",
   "execution_count": 12,
   "id": "13f7d330-f4f7-450b-833d-bab509de98aa",
   "metadata": {},
   "outputs": [
    {
     "data": {
      "application/vnd.jupyter.widget-view+json": {
       "model_id": "e6e4fe39bde44d9e98dc18bb6e0269a2",
       "version_major": 2,
       "version_minor": 0
      },
      "text/plain": [
       "interactive(children=(FloatSlider(value=1.5, description='$n_E$ :', max=2.0, min=1.0, step=0.02), FloatSlider(…"
      ]
     },
     "metadata": {},
     "output_type": "display_data"
    }
   ],
   "source": [
    "display(interactive_plot)"
   ]
  }
 ],
 "metadata": {
  "kernelspec": {
   "display_name": "Python 3 (ipykernel)",
   "language": "python",
   "name": "python3"
  },
  "language_info": {
   "codemirror_mode": {
    "name": "ipython",
    "version": 3
   },
   "file_extension": ".py",
   "mimetype": "text/x-python",
   "name": "python",
   "nbconvert_exporter": "python",
   "pygments_lexer": "ipython3",
   "version": "3.11.7"
  },
  "widgets": {
   "application/vnd.jupyter.widget-state+json": {
    "state": {
     "05f80ecac33a4995844a73271d5ea408": {
      "model_module": "@jupyter-widgets/base",
      "model_module_version": "2.0.0",
      "model_name": "LayoutModel",
      "state": {}
     },
     "15ac8756af5c44dda37f4c2ca1dfc8c2": {
      "model_module": "@jupyter-widgets/controls",
      "model_module_version": "2.0.0",
      "model_name": "SliderStyleModel",
      "state": {
       "description_width": ""
      }
     },
     "21fb912964a24f4984e2814297458f49": {
      "model_module": "@jupyter-widgets/controls",
      "model_module_version": "2.0.0",
      "model_name": "SliderStyleModel",
      "state": {
       "description_width": ""
      }
     },
     "41cc659ba66a488d954e139eefa02113": {
      "model_module": "@jupyter-widgets/base",
      "model_module_version": "2.0.0",
      "model_name": "LayoutModel",
      "state": {}
     },
     "43fcda8a53824cff9b0de93d669a4b1e": {
      "model_module": "@jupyter-widgets/controls",
      "model_module_version": "2.0.0",
      "model_name": "SliderStyleModel",
      "state": {
       "description_width": ""
      }
     },
     "46529a9823104c98877681a9cf88e27a": {
      "model_module": "@jupyter-widgets/base",
      "model_module_version": "2.0.0",
      "model_name": "LayoutModel",
      "state": {}
     },
     "6dfbc9563f054924a11330a869e92779": {
      "model_module": "@jupyter-widgets/controls",
      "model_module_version": "2.0.0",
      "model_name": "FloatSliderModel",
      "state": {
       "behavior": "drag-tap",
       "description": "$n_E$ :",
       "layout": "IPY_MODEL_46529a9823104c98877681a9cf88e27a",
       "max": 2,
       "min": 1,
       "step": 0.02,
       "style": "IPY_MODEL_f97782474d7b4039bc5e35445fc7ed67",
       "value": 1.5
      }
     },
     "8ba696bf29ff401b9c8f05f5a5a5193c": {
      "model_module": "@jupyter-widgets/base",
      "model_module_version": "2.0.0",
      "model_name": "LayoutModel",
      "state": {}
     },
     "9ab66b9de301405185576ff44eb169cf": {
      "model_module": "@jupyter-widgets/output",
      "model_module_version": "1.0.0",
      "model_name": "OutputModel",
      "state": {
       "layout": "IPY_MODEL_8ba696bf29ff401b9c8f05f5a5a5193c",
       "outputs": [
        {
         "data": {
          "image/png": "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",
          "text/plain": "<Figure size 800x800 with 1 Axes>"
         },
         "metadata": {},
         "output_type": "display_data"
        }
       ]
      }
     },
     "9b5b82f7617549378ea2db64619f2265": {
      "model_module": "@jupyter-widgets/controls",
      "model_module_version": "2.0.0",
      "model_name": "FloatSliderModel",
      "state": {
       "behavior": "drag-tap",
       "description": "$\\theta_i$ (rad):",
       "layout": "IPY_MODEL_dde3ace0772d496cb8bbb9b2e5ebde84",
       "max": 1.5707963267948966,
       "step": 0.01,
       "style": "IPY_MODEL_43fcda8a53824cff9b0de93d669a4b1e",
       "value": 0.79
      }
     },
     "9b98bb4deaaf42cdb570b8afb532241f": {
      "model_module": "@jupyter-widgets/controls",
      "model_module_version": "2.0.0",
      "model_name": "FloatSliderModel",
      "state": {
       "behavior": "drag-tap",
       "description": "$\\theta_0$ (rad):",
       "layout": "IPY_MODEL_c30085d2d3774869b830af8d4a982535",
       "max": 3.141592653589793,
       "step": 0.01,
       "style": "IPY_MODEL_15ac8756af5c44dda37f4c2ca1dfc8c2"
      }
     },
     "c30085d2d3774869b830af8d4a982535": {
      "model_module": "@jupyter-widgets/base",
      "model_module_version": "2.0.0",
      "model_name": "LayoutModel",
      "state": {}
     },
     "cd92cad6e6254623b4ea59bed00c7d1b": {
      "model_module": "@jupyter-widgets/controls",
      "model_module_version": "2.0.0",
      "model_name": "FloatSliderModel",
      "state": {
       "behavior": "drag-tap",
       "description": "$n_O$ :",
       "layout": "IPY_MODEL_05f80ecac33a4995844a73271d5ea408",
       "max": 2,
       "min": 1,
       "step": 0.02,
       "style": "IPY_MODEL_21fb912964a24f4984e2814297458f49",
       "value": 1.5
      }
     },
     "dde3ace0772d496cb8bbb9b2e5ebde84": {
      "model_module": "@jupyter-widgets/base",
      "model_module_version": "2.0.0",
      "model_name": "LayoutModel",
      "state": {}
     },
     "e6e4fe39bde44d9e98dc18bb6e0269a2": {
      "model_module": "@jupyter-widgets/controls",
      "model_module_version": "2.0.0",
      "model_name": "VBoxModel",
      "state": {
       "_dom_classes": [
        "widget-interact"
       ],
       "children": [
        "IPY_MODEL_6dfbc9563f054924a11330a869e92779",
        "IPY_MODEL_cd92cad6e6254623b4ea59bed00c7d1b",
        "IPY_MODEL_9b98bb4deaaf42cdb570b8afb532241f",
        "IPY_MODEL_9b5b82f7617549378ea2db64619f2265",
        "IPY_MODEL_9ab66b9de301405185576ff44eb169cf"
       ],
       "layout": "IPY_MODEL_41cc659ba66a488d954e139eefa02113"
      }
     },
     "f97782474d7b4039bc5e35445fc7ed67": {
      "model_module": "@jupyter-widgets/controls",
      "model_module_version": "2.0.0",
      "model_name": "SliderStyleModel",
      "state": {
       "description_width": ""
      }
     }
    },
    "version_major": 2,
    "version_minor": 0
   }
  }
 },
 "nbformat": 4,
 "nbformat_minor": 5
}
