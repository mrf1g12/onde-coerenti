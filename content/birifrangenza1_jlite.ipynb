{
 "cells": [
  {
   "cell_type": "markdown",
   "id": "325f4fbc-596f-4912-8560-68b9ed37106c",
   "metadata": {
    "jp-MarkdownHeadingCollapsed": true
   },
   "source": [
    "### Code"
   ]
  },
  {
   "cell_type": "code",
   "execution_count": null,
   "id": "fe6fbd31-c4cd-47cd-ac39-fb7397f8ce55",
   "metadata": {},
   "outputs": [],
   "source": [
    "%pip install -q \"ipywidgets\"\n",
    "import ipywidgets as widgets"
   ]
  },
  {
   "cell_type": "code",
   "execution_count": null,
   "id": "7f57d414-3ac7-46f1-a344-cce9436f7a3a",
   "metadata": {},
   "outputs": [],
   "source": [
    "import matplotlib.pyplot as plt\n",
    "import numpy as np\n",
    "from IPython.display import display\n",
    "from scipy.optimize import root"
   ]
  },
  {
   "cell_type": "code",
   "execution_count": null,
   "id": "9e5441ac-857a-48ac-95f4-24260888aceb",
   "metadata": {},
   "outputs": [],
   "source": [
    "def rootO(q,nO,qi):\n",
    "    return nO*np.cos(q)-np.sin(qi)"
   ]
  },
  {
   "cell_type": "code",
   "execution_count": null,
   "id": "21bb6e4d-9cc2-4cc6-a5d2-be4b229ca36a",
   "metadata": {},
   "outputs": [],
   "source": [
    "def uN_E(t,t0,nO,nE):\n",
    "    uu = np.array([nO*np.sin(t0)*np.sin(t)+nE*np.cos(t0)*np.cos(t),-nO*np.cos(t0)*np.sin(t)+nE*np.sin(t0)*np.cos(t)])\n",
    "    return uu/np.linalg.norm(uu)"
   ]
  },
  {
   "cell_type": "code",
   "execution_count": null,
   "id": "39c7887c-325c-4ed9-84ef-7a421be59a19",
   "metadata": {},
   "outputs": [],
   "source": [
    "def uT_E(t,t0,nO,nE):\n",
    "    uu = np.array([-nO*np.cos(t0)*np.sin(t)+nE*np.sin(t0)*np.cos(t),-nO*np.sin(t0)*np.sin(t)-nE*np.cos(t0)*np.cos(t)])\n",
    "    return uu/np.linalg.norm(uu)"
   ]
  },
  {
   "cell_type": "code",
   "execution_count": null,
   "id": "4daecd64-1b42-4a9b-9410-af3596fe4eee",
   "metadata": {},
   "outputs": [],
   "source": [
    "def uN_O(t):\n",
    "    return np.array([np.cos(t),-np.sin(t)])"
   ]
  },
  {
   "cell_type": "code",
   "execution_count": null,
   "id": "46939abc-f557-494a-9d1f-d874b9880162",
   "metadata": {},
   "outputs": [],
   "source": [
    "def uT_O(t):\n",
    "    return np.array([-np.sin(t),np.cos(t)])"
   ]
  },
  {
   "cell_type": "code",
   "execution_count": null,
   "id": "d5171ee6-e459-48e4-8021-57a12e739eca",
   "metadata": {},
   "outputs": [],
   "source": [
    "def update_plot(nE, nO, t0, qi):\n",
    "\n",
    "    xmax = max(nE,nO)\n",
    "    \n",
    "    #rotation\n",
    "    R = np.array([[np.cos(t0),-np.sin(t0)],[np.sin(t0),np.cos(t0)]])\n",
    "    \n",
    "    # straordinario\n",
    "    if t0<=np.pi/2.:\n",
    "        ti = np.arctan(nO/nE*np.tan(t0))\n",
    "    else:\n",
    "        ti = np.pi+np.arctan(nO/nE*np.tan(t0-np.pi))\n",
    "\n",
    "    t = np.linspace(ti, np.pi+ti, 100)\n",
    "\n",
    "    xy = np.array([nO*np.cos(t),-nE*np.sin(t)])\n",
    "    #xyR = np.dot(R,xy)\n",
    "    xyR=np.array([nO*np.cos(t0)*np.cos(t)+nE*np.sin(t0)*np.sin(t),\n",
    "                 nO*np.sin(t0)*np.cos(t)-nE*np.cos(t0)*np.sin(t)])\n",
    "\n",
    "\n",
    "    #ordinario\n",
    "    tC = -np.linspace(0,np.pi,100)\n",
    "    Ox = nO*np.cos(tC)\n",
    "    Oy = nO*np.sin(tC)\n",
    "\n",
    "    #isotropo\n",
    "    tI = np.linspace(0,np.pi,100)\n",
    "    xI = np.cos(tI)\n",
    "    yI = np.sin(tI)\n",
    "\n",
    "    #optical axis\n",
    "    A = [0.1,0.]\n",
    "    B = [-nO-0.1,0.]\n",
    "    AR = np.dot(R,A)\n",
    "    BR = np.dot(R,B)\n",
    "\n",
    "    #incoming ki\n",
    "    I = [-np.sin(qi),np.cos(qi)]\n",
    "\n",
    "    #find O root\n",
    "    #qO = root(rootO,np.pi/2-qi,args=(nO,qi)).x[0]\n",
    "    qO=np.arccos(np.sin(qi)/nO)\n",
    "    xO = nO*np.cos(qO)\n",
    "    yO = -nO*np.sin(qO)\n",
    "\n",
    "    #find E root\n",
    "    qE=2*np.arctan((nE*np.sin(t0)+np.sqrt(nO**2*np.cos(t0)**2-np.sin(qi)**2+nE**2*np.sin(t0)**2))/(nO*np.cos(t0)+np.sin(qi)))\n",
    "    xE = nO*np.cos(t0)*np.cos(qE)+nE*np.sin(t0)*np.sin(qE)\n",
    "    yE = (nO*np.sin(t0)*np.cos(qE)-nE*np.cos(t0)*np.sin(qE))\n",
    "    \n",
    "\n",
    "    fig, ax = plt.subplots(figsize=(8,8))\n",
    "    plt.gca().set_aspect('equal')\n",
    "    ax.clear()\n",
    "    ax.set_xticks([])\n",
    "    ax.set_yticks([])\n",
    "\n",
    "    shift_xmin = 1.\n",
    "    ax.set_xlim(-xmax-0.2,xmax+0.2)\n",
    "    ax.set_ylim(-xmax-shift_xmin,1.2)\n",
    "    \n",
    "    ax.plot(xyR[0], xyR[1], color='orange')\n",
    "    ax.plot(Ox,Oy,c='b')\n",
    "    ax.plot(xI,yI,c='k')\n",
    "    ax.plot([AR[0],BR[0]],[AR[1],BR[1]],c='k',ls='--')\n",
    "\n",
    "\n",
    "    # show angles\n",
    "    if xE!=0:\n",
    "        phEran = np.linspace(np.arctan(yE/xE),-np.pi/2.,100)\n",
    "    else:\n",
    "        phEran = np.linspace(np.pi/2.,-np.pi/2.,100)\n",
    "    rE = .5\n",
    "    if qi!=0:\n",
    "        ax.plot(rE*np.cos(phEran),rE*np.sin(phEran),c='orange')\n",
    "        ax.annotate(r'$\\varphi_E$',(-.18,-rE-.05),c='orange',fontsize=12)\n",
    "\n",
    "    phOran = np.linspace(np.arctan(yO/xO),-np.pi/2.,100)\n",
    "    rO = .3\n",
    "    ax.plot(rO*np.cos(phOran),rO*np.sin(phOran),c='blue')\n",
    "    ax.annotate(r'$\\varphi_O$',(-.18,-rO-.05),c='b',fontsize=12)\n",
    "\n",
    "    phIran = np.linspace(np.pi/2,np.pi/2+qi,100)\n",
    "    ax.plot(rO*np.cos(phIran),rO*np.sin(phIran),c='r')\n",
    "    ax.annotate(r'$\\varphi_i$',(.01,rO),c='r',fontsize=12)\n",
    "\n",
    "    \n",
    "    #plot incoming\n",
    "    #x.plot([I[0],0],[I[1],0],c='r')\n",
    "    ax.annotate('',[0,0],I,arrowprops=dict(facecolor='r', edgecolor='r', width=3, shrink=0.03))\n",
    "    ax.annotate(r'$\\vec{k}_i$',[I[0]/2.+.015,I[1]/2+.015],c='r',fontsize=12)\n",
    "\n",
    "    #plot O outgoing\n",
    "    ax.annotate('',[xO,yO],[0,0],arrowprops=dict(facecolor='b', edgecolor='b', width=3, shrink=0.03))\n",
    "    ax.annotate(r'$\\vec{k}_O$',[xO/2.5+.05,yO/2.5+.01],c='b',fontsize=12,zorder=1)\n",
    "\n",
    "    #plot E outgoing\n",
    "    #ax.plot([0,xE],[0,yE],c='orange')\n",
    "    ax.annotate('',[xE,yE],[0,0],arrowprops=dict(facecolor='orange', edgecolor='orange', width=3, shrink=0.03),zorder=0)\n",
    "    ax.annotate(r'$\\vec{k}_E$',[xE/1.5+0.05,yE/1.5+.01],c='orange',fontsize=12)\n",
    "\n",
    "    # S_E\n",
    "    uE = uN_E(qE,t0,nO,nE)\n",
    "    ax.annotate('',np.array([xE,yE])+uE,np.array([xE,yE]),arrowprops=dict(facecolor='orange', edgecolor='orange', width=3, shrink=0.03))\n",
    "    ax.annotate(r'$\\vec{S}_E$',np.array([xE,yE])+uE/1.5+np.array([0.02,0.02]),fontsize=12,c='orange')\n",
    "\n",
    "    uTE = 0.5*uT_E(qE,t0,nO,nE)\n",
    "    ax.plot([xE-uTE[0],xE+uTE[0]],[yE-uTE[1],yE+uTE[1]],c='m')\n",
    "\n",
    "    # S_O\n",
    "    uO = uN_O(qO)\n",
    "    ax.annotate('',np.array([xO,yO])+uO,np.array([xO,yO]),arrowprops=dict(facecolor='b', edgecolor='b', width=3, shrink=0.03))\n",
    "    ax.annotate(r'$\\vec{S}_O$',np.array([xO,yO])+uO/2.5+np.array([0.02,0.02]),fontsize=12,c='b')\n",
    "\n",
    "    uTO = 0.5*uT_O(qO)\n",
    "    ax.plot([xO-uTO[0],xO+uTO[0]],[yO+uTO[1],yO-uTO[1]],c='m')\n",
    "\n",
    "    \n",
    "    \n",
    "\n",
    "    if qi!=0:\n",
    "        ax.annotate('',I,[0,I[1]], arrowprops=dict(arrowstyle='<->'))\n",
    "        ax.annotate(r'$k_i\\sin\\theta_i$',[I[0]/2.,I[1]+0.04],ha='center')\n",
    "    ax.axvline(I[0],c='k',ls='-.',lw=.5)\n",
    "    ax.annotate('',[0,I[1]],[-I[0],I[1]], arrowprops=dict(arrowstyle='<->'))\n",
    "    ax.axvline(-I[0],c='k',ls='-.',lw=.5)\n",
    "    \n",
    "    ax.scatter(0,0,marker='o',c='k')\n",
    "    ax.axhline(0,c='k',lw=.5)\n",
    "    ax.axvline(0,c='k',lw=.5)\n",
    "    ax.axhspan(-xmax-shift_xmin,0,color='k',alpha=0.05)\n",
    "\n",
    "\n",
    "    \n",
    "    plt.show()"
   ]
  },
  {
   "cell_type": "code",
   "execution_count": null,
   "id": "bbd6f1cf-0a17-46eb-a9b0-02166a33dc7c",
   "metadata": {},
   "outputs": [],
   "source": [
    "initial_nE = 1.5\n",
    "initial_nO = 1.5\n",
    "initial_t0 = 0.0\n",
    "initial_qi = np.pi/4.\n",
    "\n",
    "# Create sliders for adjusting slopes\n",
    "nE_slider = widgets.FloatSlider(value=initial_nE, min=1, max=2, step=0.02, description=r'$n_E$ :')\n",
    "nO_slider = widgets.FloatSlider(value=initial_nO, min=1, max=2, step=0.02, description='$n_O$ :')\n",
    "t0_slider = widgets.FloatSlider(value=initial_t0, min=0, max=np.pi, step=0.01, description=r'$\\theta_0$ (rad):')\n",
    "qi_slider = widgets.FloatSlider(value=initial_qi, min=0, max=np.pi/2.-0.00, step=0.01, description=r'$\\theta_i$ (rad):')"
   ]
  },
  {
   "cell_type": "code",
   "execution_count": null,
   "id": "a6ea9185-2aa9-4b24-abc0-16fc6b6f655f",
   "metadata": {},
   "outputs": [],
   "source": [
    "interactive_plot = widgets.interactive(update_plot, nE=nE_slider, nO=nO_slider, t0=t0_slider, qi=qi_slider)"
   ]
  },
  {
   "cell_type": "markdown",
   "id": "8ca66d88-1a8d-4576-9d74-7a40320d5d16",
   "metadata": {},
   "source": [
    "# Birifrangenza"
   ]
  },
  {
   "cell_type": "markdown",
   "id": "3049216b-d047-4c38-b4da-6c2bce6db023",
   "metadata": {},
   "source": [
    "### Descrizione\n",
    "Rifrazione di un raggio incidente da un mezzo isotropo in un mezzo uniassiale.</br>\n",
    "È possibile variare:\n",
    "- l'angolo di incidenza $\\theta_i$,\n",
    "- la direzione $\\theta_0$ dell'**asse ottico** del materiale uniassiale,\n",
    "- gli indici di rifrazione $n_E$ ed $n_O$ del mezzo uniassiale.\n",
    "\n",
    "$\\varphi_O$ e $\\varphi_E$ indicano gli angoli di rifrazione del raggio ordinario e straordinario, rispettivamente. $\\vec{S}_O$ ed $\\vec{S}_E$ indicano i vettori di Poynting del raggio ordinario e straordinario.\n",
    "\n",
    "### Utilizzo\n",
    "Per eseguire il notebook, dal menu in alto: `Run > Run All Cells`"
   ]
  },
  {
   "cell_type": "code",
   "execution_count": null,
   "id": "13f7d330-f4f7-450b-833d-bab509de98aa",
   "metadata": {},
   "outputs": [],
   "source": [
    "display(interactive_plot)"
   ]
  },
  {
   "cell_type": "code",
   "execution_count": null,
   "id": "94f5c230-67e5-4123-8eea-fb52db9edf17",
   "metadata": {},
   "outputs": [],
   "source": []
  }
 ],
 "metadata": {
  "kernelspec": {
   "display_name": "Python 3 (ipykernel)",
   "language": "python",
   "name": "python3"
  },
  "language_info": {
   "codemirror_mode": {
    "name": "ipython",
    "version": 3
   },
   "file_extension": ".py",
   "mimetype": "text/x-python",
   "name": "python",
   "nbconvert_exporter": "python",
   "pygments_lexer": "ipython3",
   "version": "3.11.7"
  },
  "widgets": {
   "application/vnd.jupyter.widget-state+json": {
    "state": {},
    "version_major": 2,
    "version_minor": 0
   }
  }
 },
 "nbformat": 4,
 "nbformat_minor": 5
}
