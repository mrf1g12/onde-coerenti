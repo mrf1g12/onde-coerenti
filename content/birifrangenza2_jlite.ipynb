{
 "cells": [
  {
   "cell_type": "markdown",
   "id": "f28249a1-6086-4cd8-9949-eba1714e477c",
   "metadata": {
    "jp-MarkdownHeadingCollapsed": true
   },
   "source": [
    "### Code"
   ]
  },
  {
   "cell_type": "code",
   "execution_count": null,
   "id": "d731021d-e8ef-4e4f-b9db-493b24184c28",
   "metadata": {},
   "outputs": [],
   "source": [
    "%pip install -q \"ipywidgets\"\n",
    "import ipywidgets as widgets"
   ]
  },
  {
   "cell_type": "code",
   "execution_count": null,
   "id": "f2d4e700-3f0f-4a37-bb04-e2f2904bf048",
   "metadata": {},
   "outputs": [],
   "source": [
    "import warnings\n",
    "warnings.filterwarnings(\"ignore\")"
   ]
  },
  {
   "cell_type": "code",
   "execution_count": null,
   "id": "7f57d414-3ac7-46f1-a344-cce9436f7a3a",
   "metadata": {},
   "outputs": [],
   "source": [
    "import matplotlib.pyplot as plt\n",
    "#%matplotlib inline\n",
    "import numpy as np\n",
    "from IPython.display import display\n",
    "from scipy.optimize import root"
   ]
  },
  {
   "cell_type": "code",
   "execution_count": null,
   "id": "21bb6e4d-9cc2-4cc6-a5d2-be4b229ca36a",
   "metadata": {},
   "outputs": [],
   "source": [
    "def uN_E(t,t0,nO,nE):\n",
    "    uu = np.array([nO*np.sin(t0)*np.sin(t)+nE*np.cos(t0)*np.cos(t),-nO*np.cos(t0)*np.sin(t)+nE*np.sin(t0)*np.cos(t)])\n",
    "    return uu/np.linalg.norm(uu)"
   ]
  },
  {
   "cell_type": "code",
   "execution_count": null,
   "id": "39c7887c-325c-4ed9-84ef-7a421be59a19",
   "metadata": {},
   "outputs": [],
   "source": [
    "def uT_E(t,t0,nO,nE):\n",
    "    uu = np.array([-nO*np.cos(t0)*np.sin(t)+nE*np.sin(t0)*np.cos(t),-nO*np.sin(t0)*np.sin(t)-nE*np.cos(t0)*np.cos(t)])\n",
    "    return uu/np.linalg.norm(uu)"
   ]
  },
  {
   "cell_type": "code",
   "execution_count": null,
   "id": "4daecd64-1b42-4a9b-9410-af3596fe4eee",
   "metadata": {},
   "outputs": [],
   "source": [
    "def uN_O(t):\n",
    "    return np.array([np.cos(t),-np.sin(t)])"
   ]
  },
  {
   "cell_type": "code",
   "execution_count": null,
   "id": "46939abc-f557-494a-9d1f-d874b9880162",
   "metadata": {},
   "outputs": [],
   "source": [
    "def uT_O(t):\n",
    "    return np.array([-np.sin(t),np.cos(t)])"
   ]
  },
  {
   "cell_type": "code",
   "execution_count": null,
   "id": "d5171ee6-e459-48e4-8021-57a12e739eca",
   "metadata": {},
   "outputs": [],
   "source": [
    "def update_plot(nE, nO, qi):\n",
    "\n",
    "    xmax = max(nE,nO)\n",
    "    \n",
    "    t = np.linspace(np.pi, 2*np.pi, 100)\n",
    "\n",
    "    #ordinario\n",
    "    Ox = nO*np.cos(t)\n",
    "    Oy = nO*np.sin(t)\n",
    "\n",
    "    #straordinario\n",
    "    Ex = nE*np.cos(t)\n",
    "    Ey = nE*np.sin(t)\n",
    "\n",
    "\n",
    "    #isotropo\n",
    "    tI = np.linspace(0,np.pi,100)\n",
    "    xI = np.cos(tI)\n",
    "    yI = np.sin(tI)\n",
    "\n",
    "    #optical axis\n",
    "    A = [0.1,0.]\n",
    "    B = [-nO-0.1,0.]\n",
    "\n",
    "    #incoming ki\n",
    "    qqi = np.pi/2-qi\n",
    "    IO = [nO*np.cos(qi+np.pi),nO*np.sin(qi+np.pi)]\n",
    "    IE = [nE*np.cos(qi+np.pi),nE*np.sin(qi+np.pi)]\n",
    "\n",
    "    \n",
    "\n",
    "    fig, ax = plt.subplots(figsize=(8,8))\n",
    "    plt.gca().set_aspect('equal')\n",
    "    ax.clear()\n",
    "    ax.set_xticks([])\n",
    "    ax.set_yticks([])\n",
    "\n",
    "    shift_xmin = 1.\n",
    "    ax.set_xlim(-2.2,2.2)\n",
    "    ax.set_ylim(-2.2,1.2)\n",
    "    \n",
    "    ax.plot(Ex,Ey, color='orange')\n",
    "    ax.plot(Ox,Oy,c='b')\n",
    "    ax.plot(xI,yI,c='k')\n",
    "    #ax.plot([AR[0],BR[0]],[AR[1],BR[1]],c='k',ls='--')\n",
    "\n",
    "\n",
    "    #plot incoming\n",
    "    #x.plot([I[0],0],[I[1],0],c='r')\n",
    "    ax.annotate('',[0,0],IO,arrowprops=dict(facecolor='b', edgecolor='b', width=3, shrink=0.03))\n",
    "    ax.annotate('',[0,0],IE,arrowprops=dict(facecolor='orange', edgecolor='orange', width=3, shrink=0.03))\n",
    "    #ax.annotate(r'$\\vec{k}_i$',[I[0]/2.+.015,I[1]/2+.015],c='r',fontsize=12)\n",
    "  \n",
    "    phIran = np.linspace(np.pi+qi,3*np.pi/2.,100)\n",
    "    ax.plot(0.5*np.cos(phIran),0.5*np.sin(phIran),c='k',ls='--')\n",
    "    ax.plot(-0.4*np.cos(phIran),0.4*np.sin(phIran),c='k',ls='--')\n",
    "    ax.annotate(r'$\\theta_i$',(0.65*np.cos(np.mean(phIran)),0.65*np.sin(np.mean(phIran))),c='r',fontsize=12)\n",
    "\n",
    "\n",
    "    # ordinary\n",
    "    xOrfl = nO*np.cos(-qi)\n",
    "    yOrfl = nO*np.sin(-qi)\n",
    "    ax.annotate('',[xOrfl,yOrfl],[0,0],arrowprops=dict(facecolor='b', edgecolor='b', width=3, shrink=0.03))\n",
    "\n",
    "    #find O root\n",
    "    if nO*np.sin(qqi)<=1:\n",
    "        qO=np.arcsin(nO*np.sin(qqi))\n",
    "        \n",
    "    #plot O outgoing\n",
    "        xO = np.cos(np.pi/2-qO)\n",
    "        yO = np.sin(np.pi/2-qO)\n",
    "        ax.annotate('',[xO,yO],[0,0],arrowprops=dict(facecolor='b', edgecolor='b', width=3, shrink=0.03))\n",
    "        phOran = np.linspace(np.pi/2-qO,np.pi/2,100)\n",
    "        ax.plot(0.5*np.cos(phOran),0.5*np.sin(phOran),c='b',ls='-')\n",
    "        ax.annotate(r'$\\varphi_O$',(-0.05,0.55),ha='right',c='b')\n",
    "\n",
    "\n",
    "    # extraordinary\n",
    "    xErfl = nE*np.cos(-qi)\n",
    "    yErfl = nE*np.sin(-qi)\n",
    "    ax.annotate('',[xErfl,yErfl],[0,0],arrowprops=dict(facecolor='orange', edgecolor='orange', width=3, shrink=0.03))\n",
    "\n",
    "    #find E root\n",
    "    if nE*np.sin(qqi)<=1:\n",
    "        qE=np.arcsin(nE*np.sin(qqi))\n",
    "        \n",
    "    #plot E outgoing\n",
    "        xE = np.cos(np.pi/2-qE)\n",
    "        yE = np.sin(np.pi/2-qE)\n",
    "        ax.annotate('',[xE,yE],[0,0],arrowprops=dict(facecolor='orange', edgecolor='orange', width=3, shrink=0.03))\n",
    "        phEran = np.linspace(np.pi/2-qE,np.pi/2,100)\n",
    "        ax.plot(0.4*np.cos(phEran),0.4*np.sin(phEran),c='orange',ls='-')\n",
    "        ax.annotate(r'$\\varphi_E$',(-0.04,0.35),ha='right',c='orange')\n",
    "    \n",
    "\n",
    "    if qi!=0:\n",
    "        ax.annotate('',IO,[0,IO[1]], arrowprops=dict(arrowstyle='<->',color='b'))\n",
    "        #ax.annotate(r'$k_i\\sin\\theta_i$',[IO[0]/2.,IO[1]+0.04],ha='center')\n",
    "        ax.axvline(IO[0],c='k',ls='-.',lw=.5)\n",
    "        ax.annotate('',[0,IO[1]],[-IO[0],IO[1]], arrowprops=dict(arrowstyle='<->',color='b'))\n",
    "        ax.axvline(-IO[0],c='k',ls='-.',lw=.5)\n",
    "        \n",
    "\n",
    "        ax.annotate('',IE,[0,IE[1]], arrowprops=dict(arrowstyle='<->',color='orange'))\n",
    "        ax.axvline(IE[0],c='k',ls='-.',lw=.5)\n",
    "        ax.annotate('',[0,IE[1]],[-IE[0],IE[1]], arrowprops=dict(arrowstyle='<->',color='orange'))\n",
    "        ax.axvline(-IE[0],c='k',ls='-.',lw=.5)\n",
    "       \n",
    "    \n",
    "    ax.scatter(0,0,marker='o',facecolor='r',edgecolor='k',zorder=4)\n",
    "    ax.annotate('A.O.',(-0.02,0.02),ha='right',c='r')\n",
    "    ax.axhline(0,c='k',lw=.5)\n",
    "    ax.axvline(0,c='k',lw=1)\n",
    "    ax.axhspan(-2.5,0,color='k',alpha=0.05)\n",
    "\n",
    "    ax.annotate('$n_E\\,\\omega/c$',(-nE-0.01,0.04),ha='right',c='orange')\n",
    "    ax.annotate('$n_O\\,\\omega/c$',(-nO-0.01,-0.12),ha='right',c='b')\n",
    "    ax.annotate('$n_i\\,\\omega/c$',(np.cos(np.pi/12)+0.02,np.sin(np.pi/12)),ha='left',c='k')\n",
    "\n",
    "    \n",
    "    plt.show()"
   ]
  },
  {
   "cell_type": "code",
   "execution_count": null,
   "id": "bbd6f1cf-0a17-46eb-a9b0-02166a33dc7c",
   "metadata": {},
   "outputs": [],
   "source": [
    "initial_nE = 1.22\n",
    "initial_nO = 1.22\n",
    "initial_t0 = 0.0\n",
    "initial_qi = np.pi/4.\n",
    "\n",
    "# Create sliders for adjusting slopes\n",
    "nE_slider = widgets.FloatSlider(value=initial_nE, min=1, max=2, step=0.02, description='$n_E$ :')\n",
    "nO_slider = widgets.FloatSlider(value=initial_nO, min=1, max=2, step=0.02, description='$n_O$ :')\n",
    "#t0_slider = widgets.FloatSlider(value=initial_t0, min=0, max=np.pi, step=0.01, description=r'$\\theta_0$ (rad):')\n",
    "qi_slider = widgets.FloatSlider(value=initial_qi, min=0, max=np.pi/2.-0.00, step=0.02, description=r'$\\theta_i$ (rad):')"
   ]
  },
  {
   "cell_type": "code",
   "execution_count": null,
   "id": "a6ea9185-2aa9-4b24-abc0-16fc6b6f655f",
   "metadata": {},
   "outputs": [],
   "source": [
    "interactive_plot = widgets.interactive(update_plot, nE=nE_slider, nO=nO_slider, qi=qi_slider)"
   ]
  },
  {
   "cell_type": "markdown",
   "id": "a1141959-def0-40f0-a908-ada08a1b1316",
   "metadata": {},
   "source": [
    "# Birifrangenza"
   ]
  },
  {
   "cell_type": "markdown",
   "id": "7480f07c-7937-4736-8f2c-3b4b8e8b9fe0",
   "metadata": {},
   "source": [
    "### Descrizione\n",
    "Rifrazione di un raggio proveniente da un mezzo anisotropo uniassiale verso un mezzo isotropo.\n",
    "È possibile variare:\n",
    "- l'angolo di incidenza $\\theta_i$,\n",
    "- gli indici di rifrazione $n_E$ ed $n_O$ del mezzo uniassiale.\n",
    "\n",
    "L'asse ottico **A.O.** del materiale uniassiale è uscente dal piano di incidenza</br>\n",
    "$\\varphi_O$ e $\\varphi_E$ indicano gli angoli di rifrazione del raggio ordinario e straordinario, rispettivamente. $\\vec{S}_O$ ed $\\vec{S}_E$ indicano i vettori di Poynting del raggio ordinario e straordinario.\n",
    "\n",
    "### Utilizzo\n",
    "Per eseguire il notebook, dal menu in alto: `Run > Run All Cells`"
   ]
  },
  {
   "cell_type": "code",
   "execution_count": null,
   "id": "13f7d330-f4f7-450b-833d-bab509de98aa",
   "metadata": {},
   "outputs": [],
   "source": [
    "display(interactive_plot)"
   ]
  },
  {
   "cell_type": "code",
   "execution_count": null,
   "id": "7d5911ed-75fd-4599-ae66-23f0e69be82f",
   "metadata": {},
   "outputs": [],
   "source": []
  }
 ],
 "metadata": {
  "kernelspec": {
   "display_name": "Python 3 (ipykernel)",
   "language": "python",
   "name": "python3"
  },
  "language_info": {
   "codemirror_mode": {
    "name": "ipython",
    "version": 3
   },
   "file_extension": ".py",
   "mimetype": "text/x-python",
   "name": "python",
   "nbconvert_exporter": "python",
   "pygments_lexer": "ipython3",
   "version": "3.11.7"
  },
  "widgets": {
   "application/vnd.jupyter.widget-state+json": {
    "state": {},
    "version_major": 2,
    "version_minor": 0
   }
  }
 },
 "nbformat": 4,
 "nbformat_minor": 5
}
