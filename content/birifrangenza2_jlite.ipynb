{
 "cells": [
  {
   "cell_type": "markdown",
   "id": "f28249a1-6086-4cd8-9949-eba1714e477c",
   "metadata": {
    "jp-MarkdownHeadingCollapsed": true
   },
   "source": [
    "### Code"
   ]
  },
  {
   "cell_type": "code",
   "execution_count": 1,
   "id": "d731021d-e8ef-4e4f-b9db-493b24184c28",
   "metadata": {},
   "outputs": [],
   "source": [
    "%pip install -q \"ipywidgets\"\n",
    "import ipywidgets as widgets"
   ]
  },
  {
   "cell_type": "code",
   "execution_count": 2,
   "id": "f2d4e700-3f0f-4a37-bb04-e2f2904bf048",
   "metadata": {},
   "outputs": [],
   "source": [
    "import warnings\n",
    "warnings.filterwarnings(\"ignore\")"
   ]
  },
  {
   "cell_type": "code",
   "execution_count": 3,
   "id": "7f57d414-3ac7-46f1-a344-cce9436f7a3a",
   "metadata": {},
   "outputs": [],
   "source": [
    "import matplotlib.pyplot as plt\n",
    "#%matplotlib inline\n",
    "import numpy as np\n",
    "from IPython.display import display\n",
    "from scipy.optimize import root"
   ]
  },
  {
   "cell_type": "code",
   "execution_count": 4,
   "id": "21bb6e4d-9cc2-4cc6-a5d2-be4b229ca36a",
   "metadata": {},
   "outputs": [],
   "source": [
    "def uN_E(t,t0,nO,nE):\n",
    "    uu = np.array([nO*np.sin(t0)*np.sin(t)+nE*np.cos(t0)*np.cos(t),-nO*np.cos(t0)*np.sin(t)+nE*np.sin(t0)*np.cos(t)])\n",
    "    return uu/np.linalg.norm(uu)"
   ]
  },
  {
   "cell_type": "code",
   "execution_count": 5,
   "id": "39c7887c-325c-4ed9-84ef-7a421be59a19",
   "metadata": {},
   "outputs": [],
   "source": [
    "def uT_E(t,t0,nO,nE):\n",
    "    uu = np.array([-nO*np.cos(t0)*np.sin(t)+nE*np.sin(t0)*np.cos(t),-nO*np.sin(t0)*np.sin(t)-nE*np.cos(t0)*np.cos(t)])\n",
    "    return uu/np.linalg.norm(uu)"
   ]
  },
  {
   "cell_type": "code",
   "execution_count": 6,
   "id": "4daecd64-1b42-4a9b-9410-af3596fe4eee",
   "metadata": {},
   "outputs": [],
   "source": [
    "def uN_O(t):\n",
    "    return np.array([np.cos(t),-np.sin(t)])"
   ]
  },
  {
   "cell_type": "code",
   "execution_count": 7,
   "id": "46939abc-f557-494a-9d1f-d874b9880162",
   "metadata": {},
   "outputs": [],
   "source": [
    "def uT_O(t):\n",
    "    return np.array([-np.sin(t),np.cos(t)])"
   ]
  },
  {
   "cell_type": "code",
   "execution_count": 8,
   "id": "d5171ee6-e459-48e4-8021-57a12e739eca",
   "metadata": {},
   "outputs": [],
   "source": [
    "def update_plot(nE, nO, qi):\n",
    "\n",
    "    xmax = max(nE,nO)\n",
    "    \n",
    "    t = np.linspace(np.pi, 2*np.pi, 100)\n",
    "\n",
    "    #ordinario\n",
    "    Ox = nO*np.cos(t)\n",
    "    Oy = nO*np.sin(t)\n",
    "\n",
    "    #straordinario\n",
    "    Ex = nE*np.cos(t)\n",
    "    Ey = nE*np.sin(t)\n",
    "\n",
    "\n",
    "    #isotropo\n",
    "    tI = np.linspace(0,np.pi,100)\n",
    "    xI = np.cos(tI)\n",
    "    yI = np.sin(tI)\n",
    "\n",
    "    #optical axis\n",
    "    A = [0.1,0.]\n",
    "    B = [-nO-0.1,0.]\n",
    "\n",
    "    #incoming ki\n",
    "    qqi = np.pi/2-qi\n",
    "    IO = [nO*np.cos(qi+np.pi),nO*np.sin(qi+np.pi)]\n",
    "    IE = [nE*np.cos(qi+np.pi),nE*np.sin(qi+np.pi)]\n",
    "\n",
    "    \n",
    "\n",
    "    fig, ax = plt.subplots(figsize=(8,8))\n",
    "    plt.gca().set_aspect('equal')\n",
    "    ax.clear()\n",
    "    ax.set_xticks([])\n",
    "    ax.set_yticks([])\n",
    "\n",
    "    shift_xmin = 1.\n",
    "    ax.set_xlim(-2.2,2.2)\n",
    "    ax.set_ylim(-2.2,1.2)\n",
    "    \n",
    "    ax.plot(Ex,Ey, color='orange')\n",
    "    ax.plot(Ox,Oy,c='b')\n",
    "    ax.plot(xI,yI,c='k')\n",
    "    #ax.plot([AR[0],BR[0]],[AR[1],BR[1]],c='k',ls='--')\n",
    "\n",
    "\n",
    "    #plot incoming\n",
    "    #x.plot([I[0],0],[I[1],0],c='r')\n",
    "    ax.annotate('',[0,0],IO,arrowprops=dict(facecolor='b', edgecolor='b', width=3, shrink=0.03))\n",
    "    ax.annotate('',[0,0],IE,arrowprops=dict(facecolor='orange', edgecolor='orange', width=3, shrink=0.03))\n",
    "    #ax.annotate(r'$\\vec{k}_i$',[I[0]/2.+.015,I[1]/2+.015],c='r',fontsize=12)\n",
    "  \n",
    "    phIran = np.linspace(np.pi+qi,3*np.pi/2.,100)\n",
    "    ax.plot(0.5*np.cos(phIran),0.5*np.sin(phIran),c='k',ls='--')\n",
    "    ax.plot(-0.4*np.cos(phIran),0.4*np.sin(phIran),c='k',ls='--')\n",
    "    #ax.annotate(r'$\\varphi_i$',(.01,rO),c='r',fontsize=12)\n",
    "\n",
    "\n",
    "    # ordinary\n",
    "    xOrfl = nO*np.cos(-qi)\n",
    "    yOrfl = nO*np.sin(-qi)\n",
    "    ax.annotate('',[xOrfl,yOrfl],[0,0],arrowprops=dict(facecolor='b', edgecolor='b', width=3, shrink=0.03))\n",
    "\n",
    "    #find O root\n",
    "    if nO*np.sin(qqi)<=1:\n",
    "        qO=np.arcsin(nO*np.sin(qqi))\n",
    "        \n",
    "    #plot O outgoing\n",
    "        xO = np.cos(np.pi/2-qO)\n",
    "        yO = np.sin(np.pi/2-qO)\n",
    "        ax.annotate('',[xO,yO],[0,0],arrowprops=dict(facecolor='b', edgecolor='b', width=3, shrink=0.03))\n",
    "        phOran = np.linspace(np.pi/2-qO,np.pi/2,100)\n",
    "        ax.plot(0.5*np.cos(phOran),0.5*np.sin(phOran),c='b',ls='-')\n",
    "        ax.annotate(r'$\\varphi_O$',(-0.05,0.55),ha='right',c='b')\n",
    "\n",
    "\n",
    "    # extraordinary\n",
    "    xErfl = nE*np.cos(-qi)\n",
    "    yErfl = nE*np.sin(-qi)\n",
    "    ax.annotate('',[xErfl,yErfl],[0,0],arrowprops=dict(facecolor='orange', edgecolor='orange', width=3, shrink=0.03))\n",
    "\n",
    "    #find E root\n",
    "    if nE*np.sin(qqi)<=1:\n",
    "        qE=np.arcsin(nE*np.sin(qqi))\n",
    "        \n",
    "    #plot E outgoing\n",
    "        xE = np.cos(np.pi/2-qE)\n",
    "        yE = np.sin(np.pi/2-qE)\n",
    "        ax.annotate('',[xE,yE],[0,0],arrowprops=dict(facecolor='orange', edgecolor='orange', width=3, shrink=0.03))\n",
    "        phEran = np.linspace(np.pi/2-qE,np.pi/2,100)\n",
    "        ax.plot(0.4*np.cos(phEran),0.4*np.sin(phEran),c='orange',ls='-')\n",
    "        ax.annotate(r'$\\varphi_E$',(-0.04,0.35),ha='right',c='orange')\n",
    "    \n",
    "\n",
    "    if qi!=0:\n",
    "        ax.annotate('',IO,[0,IO[1]], arrowprops=dict(arrowstyle='<->',color='b'))\n",
    "        #ax.annotate(r'$k_i\\sin\\theta_i$',[IO[0]/2.,IO[1]+0.04],ha='center')\n",
    "        ax.axvline(IO[0],c='k',ls='-.',lw=.5)\n",
    "        ax.annotate('',[0,IO[1]],[-IO[0],IO[1]], arrowprops=dict(arrowstyle='<->',color='b'))\n",
    "        ax.axvline(-IO[0],c='k',ls='-.',lw=.5)\n",
    "        \n",
    "\n",
    "        ax.annotate('',IE,[0,IE[1]], arrowprops=dict(arrowstyle='<->',color='orange'))\n",
    "        ax.axvline(IE[0],c='k',ls='-.',lw=.5)\n",
    "        ax.annotate('',[0,IE[1]],[-IE[0],IE[1]], arrowprops=dict(arrowstyle='<->',color='orange'))\n",
    "        ax.axvline(-IE[0],c='k',ls='-.',lw=.5)\n",
    "       \n",
    "    \n",
    "    ax.scatter(0,0,marker='o',facecolor='r',edgecolor='k',zorder=4)\n",
    "    ax.annotate('A.O.',(-0.02,0.02),ha='right',c='r')\n",
    "    ax.axhline(0,c='k',lw=.5)\n",
    "    ax.axvline(0,c='k',lw=1)\n",
    "    ax.axhspan(-2.5,0,color='k',alpha=0.05)\n",
    "\n",
    "    ax.annotate('$n_E\\,\\omega/c$',(-nE-0.01,0.04),ha='right',c='orange')\n",
    "    ax.annotate('$n_O\\,\\omega/c$',(-nO-0.01,-0.12),ha='right',c='b')\n",
    "    ax.annotate('$n_i\\,\\omega/c$',(np.cos(np.pi/12)+0.02,np.sin(np.pi/12)),ha='left',c='k')\n",
    "\n",
    "    \n",
    "    plt.show()"
   ]
  },
  {
   "cell_type": "code",
   "execution_count": 9,
   "id": "bbd6f1cf-0a17-46eb-a9b0-02166a33dc7c",
   "metadata": {},
   "outputs": [],
   "source": [
    "initial_nE = 1.22\n",
    "initial_nO = 1.22\n",
    "initial_t0 = 0.0\n",
    "initial_qi = np.pi/4.\n",
    "\n",
    "# Create sliders for adjusting slopes\n",
    "nE_slider = widgets.FloatSlider(value=initial_nE, min=1, max=2, step=0.02, description='$n_E$ :')\n",
    "nO_slider = widgets.FloatSlider(value=initial_nO, min=1, max=2, step=0.02, description='$n_O$ :')\n",
    "#t0_slider = widgets.FloatSlider(value=initial_t0, min=0, max=np.pi, step=0.01, description=r'$\\theta_0$ (rad):')\n",
    "qi_slider = widgets.FloatSlider(value=initial_qi, min=0, max=np.pi/2.-0.00, step=0.02, description=r'$\\theta_i$ (rad):')"
   ]
  },
  {
   "cell_type": "code",
   "execution_count": 10,
   "id": "a6ea9185-2aa9-4b24-abc0-16fc6b6f655f",
   "metadata": {},
   "outputs": [],
   "source": [
    "interactive_plot = widgets.interactive(update_plot, nE=nE_slider, nO=nO_slider, qi=qi_slider)"
   ]
  },
  {
   "cell_type": "markdown",
   "id": "a1141959-def0-40f0-a908-ada08a1b1316",
   "metadata": {},
   "source": [
    "# Birefringence"
   ]
  },
  {
   "cell_type": "markdown",
   "id": "6837868a-31a0-43a0-b4ae-0c580825340d",
   "metadata": {},
   "source": [
    "Rifrazione di un raggio da un mezzo uniassiale in un mezzo isotropo"
   ]
  },
  {
   "cell_type": "code",
   "execution_count": 11,
   "id": "13f7d330-f4f7-450b-833d-bab509de98aa",
   "metadata": {},
   "outputs": [
    {
     "data": {
      "application/vnd.jupyter.widget-view+json": {
       "model_id": "5b59874727364b6389d3804de58428a1",
       "version_major": 2,
       "version_minor": 0
      },
      "text/plain": [
       "interactive(children=(FloatSlider(value=1.22, description='$n_E$ :', max=2.0, min=1.0, step=0.02), FloatSlider…"
      ]
     },
     "metadata": {},
     "output_type": "display_data"
    }
   ],
   "source": [
    "display(interactive_plot)"
   ]
  },
  {
   "cell_type": "code",
   "execution_count": null,
   "id": "7d5911ed-75fd-4599-ae66-23f0e69be82f",
   "metadata": {},
   "outputs": [],
   "source": []
  }
 ],
 "metadata": {
  "kernelspec": {
   "display_name": "Python 3 (ipykernel)",
   "language": "python",
   "name": "python3"
  },
  "language_info": {
   "codemirror_mode": {
    "name": "ipython",
    "version": 3
   },
   "file_extension": ".py",
   "mimetype": "text/x-python",
   "name": "python",
   "nbconvert_exporter": "python",
   "pygments_lexer": "ipython3",
   "version": "3.11.7"
  },
  "widgets": {
   "application/vnd.jupyter.widget-state+json": {
    "state": {
     "0816b22f26fe40279baea23edc931c61": {
      "model_module": "@jupyter-widgets/controls",
      "model_module_version": "2.0.0",
      "model_name": "FloatSliderModel",
      "state": {
       "behavior": "drag-tap",
       "description": "$\\theta_i$ (rad):",
       "layout": "IPY_MODEL_4b796854ed904e1199bd311ad73121e9",
       "max": 1.5707963267948966,
       "step": 0.02,
       "style": "IPY_MODEL_4b32f6dbc26e4c6fbac72f1b5ca57b66",
       "value": 0.78
      }
     },
     "13a197c3c75d4517bbad2d359ce2a286": {
      "model_module": "@jupyter-widgets/controls",
      "model_module_version": "2.0.0",
      "model_name": "FloatSliderModel",
      "state": {
       "behavior": "drag-tap",
       "description": "$n_E$ :",
       "layout": "IPY_MODEL_c17d867df3b14cd29bd8f59baabf2f6b",
       "max": 2,
       "min": 1,
       "step": 0.02,
       "style": "IPY_MODEL_a52ac159cf34455e8ddd2cfa048e87d0",
       "value": 1.22
      }
     },
     "28101ac72caa4cfab2dceb33ea4c37da": {
      "model_module": "@jupyter-widgets/base",
      "model_module_version": "2.0.0",
      "model_name": "LayoutModel",
      "state": {}
     },
     "4b32f6dbc26e4c6fbac72f1b5ca57b66": {
      "model_module": "@jupyter-widgets/controls",
      "model_module_version": "2.0.0",
      "model_name": "SliderStyleModel",
      "state": {
       "description_width": ""
      }
     },
     "4b796854ed904e1199bd311ad73121e9": {
      "model_module": "@jupyter-widgets/base",
      "model_module_version": "2.0.0",
      "model_name": "LayoutModel",
      "state": {}
     },
     "5b59874727364b6389d3804de58428a1": {
      "model_module": "@jupyter-widgets/controls",
      "model_module_version": "2.0.0",
      "model_name": "VBoxModel",
      "state": {
       "_dom_classes": [
        "widget-interact"
       ],
       "children": [
        "IPY_MODEL_13a197c3c75d4517bbad2d359ce2a286",
        "IPY_MODEL_7b2bb4af8c0c4446a092bcc432cf40f6",
        "IPY_MODEL_0816b22f26fe40279baea23edc931c61",
        "IPY_MODEL_971c14309dd7413290dbf2d42bb2b1e3"
       ],
       "layout": "IPY_MODEL_96851a56db394e8392c2c078beac4745"
      }
     },
     "7b2bb4af8c0c4446a092bcc432cf40f6": {
      "model_module": "@jupyter-widgets/controls",
      "model_module_version": "2.0.0",
      "model_name": "FloatSliderModel",
      "state": {
       "behavior": "drag-tap",
       "description": "$n_O$ :",
       "layout": "IPY_MODEL_c949bd89e07646ee8e76cadcf9448ddc",
       "max": 2,
       "min": 1,
       "step": 0.02,
       "style": "IPY_MODEL_c0977adec7c54f1491681b2422962388",
       "value": 1.22
      }
     },
     "96851a56db394e8392c2c078beac4745": {
      "model_module": "@jupyter-widgets/base",
      "model_module_version": "2.0.0",
      "model_name": "LayoutModel",
      "state": {}
     },
     "971c14309dd7413290dbf2d42bb2b1e3": {
      "model_module": "@jupyter-widgets/output",
      "model_module_version": "1.0.0",
      "model_name": "OutputModel",
      "state": {
       "layout": "IPY_MODEL_28101ac72caa4cfab2dceb33ea4c37da",
       "outputs": [
        {
         "data": {
          "image/png": "iVBORw0KGgoAAAANSUhEUgAAAoAAAAHzCAYAAACwk6zRAAAAOXRFWHRTb2Z0d2FyZQBNYXRwbG90bGliIHZlcnNpb24zLjguMCwgaHR0cHM6Ly9tYXRwbG90bGliLm9yZy81sbWrAAAACXBIWXMAAA9hAAAPYQGoP6dpAACOgUlEQVR4nOzdd1gU1/7H8ffu0jvSRUSxIFYsgL3XqFGjpqhJ1CQa0/sv9d7c5KbHJDfNxFhiikk09hZrLNiwgF2soAioIE36lt8fGzCGRSnLDgvf1/PwBHZmZ74YzvDhzJlzVAaDwYAQQgghhKg31EoXIIQQQgghLEsCoBBCCCFEPSMBUAghhBCinpEAKIQQQghRz0gAFEIIIYSoZyQACiGEEELUMxIAhRBCCCHqGQmAQgghhBD1jE1FdtLr9SQnJ+Pq6opKparpmoQQQgghRCUZDAZycnJo2LAhavWt+/gqFACTk5MJCgoyS3FCCCGEEKLmXLx4kUaNGt1ynwoFQFdX19IDurm5Vb8yIWq5vLw8nJyclC5D1KC4uDj69OnDtm3bCA8PV7ocUYOkPYv6Ijs7m6CgoNLcdisVCoAlt33d3NwkAIp64a677mLTpk1KlyFqkIuLS+l/5bpWt0l7FvVNRYbryUMgQpjw66+/Kl2CEMJMpD0LUZYEQCFMaNu2rdIlCCHMRNqzEGVJABRCCCGEqGckAAohhBBC1DMSAIUQQggh6hkJgEKY8PTTTytdghDCTKQ9C1GWBEAhTEhOTla6BCGEmUh7FqIsCYBCmDBmzBilSxBCmIm0ZyHKkgAohAnvvvuu0iUIIcxE2rMQZUkAFMKEo0ePKl2CEMJMpD0LUZYEQCGEEEKIekYCoBBCCCFEPSMBUAgTQkJClC5BCGEm0p6FKEsCoBAmfPnll0qXIIQwE2nPQpQlAVAIEz7//HOlSxBCmIm0ZyHKkgAohAmRkZFKlyCEMBNpz0KUJQFQCBPeeustpUsQQpiJtGchypIAKIQQQghRz0gAFEIIIYSoZyQACiGEEELUMxIAhTBh27ZtSpcghDATac9ClCUBUAgTHn/8caVLEEKYibRnIcqSACiECZs2bVK6BCGEmUh7FqIsCYBCmNCwYUOlSxBCmIm0ZyHKslG6ACFqI71er3QJ4jZ0Oh2XL18mJSWF1NTU0o/09HQyMzPJzMwkIyOD7OxsCgoKbvrQ6/VotVoA+vTpg52dHQ4ODjd9uLm54enpiYeHBx4eHnh5eeHv71/6ERAQgJ+fHxqNRuF/CXE70p6FKEsCoBCi1tLpdJw/f57jx49z8uRJzpw5Q0JCAufPnycxMZHi4uJqn+P69etVfq+trS3BwcE0bdqUJk2a0Lx5c8LCwggLC6Np06YSDoUQtZYEQCFErZCZmUlcXByxsbHExsZy6NAh4uPjKSwsLPc9arUaPz+/0h45f39/vL29S3vtPD09cXNzw9HREQcHBxwdHbG3t0ej0XDs2DHuuusuli5dSqtWrSgsLCQ/P5+CggLy8/PJzs4mIyOjtDcxLS2N1NTU0h7Hy5cvU1xczJkzZzhz5kyZ2uzt7QkNDaVDhw507NiRTp06ER4ejru7e03+MwohRIVIABTChAkTJihdQp2m1+s5fvw4u3fvZteuXezatYtTp06Z3NfBwYFWrVoRFhZGixYtSnvbmjZtSmBgIDY2VbuMlfT8BQcHExYWVun3a7VaLl26xPnz50t7JU+fPs2JEyc4efIkBQUFHD58mMOHD/Pjjz+Wvq9ly5Z079699CMsLAy1WoZj1yRpz0KUJQFQCBPc3NyULqFOMRgMnDhxgi1btrB582a2bt1KZmZmmf2Cg4Pp2LFj6UebNm0IDg6ulbdSbWxsCA4OJjg4uMw2nU5HYmIix44dK+3RjI2NJTExkVOnTnHq1Cm+//57ADw8POjbty8DBgygf//+hIWFoVKpLPzd1G3SnoUoSwKgECa0aNFC6RKsXlZWFhs2bGDNmjWsX7+e1NTUm7Y7OzsTFRVFt27d6N69O1FRUXh5eSlUrXlpNBpCQkIICQlh5MiRpa+np6ezd+/e0l7PmJgYMjMzWb58OcuXLwfA39+fIUOGMHz4cAYPHiy3jM1A2rMQZakMBoPhdjtlZ2fj7u5OVlaW/CUl6oVx48bx+++/K12G1bl48SJLlixhxYoVREdHlz5pC8ZbuT179izt6erUqVOVb9+aw8GDB+ncuTMHDhygU6dOitSg1Wo5ePBgac9odHQ0BQUFpdttbGzo2bMno0aNYuzYsQQFBSlSp7WT9izqi8rkNQmAQpjg7+9fpsdKmJaYmMjixYv5/fff2bt3703bQkNDGT58OHfccQc9evTAwcFBoSrLqg0B8J8KCgrYuXMna9euZfXq1WXGRXbt2pVx48Yxbtw4k7eehWnSnkV9IQFQiGqSXxi3lpmZyeLFi/nxxx/ZsWNH6esqlYqePXty1113MWLECJo3b65glbdWGwPgP505c4bVq1ezdOlSoqOj+fvlulevXjzwwAOMGzcODw8P5Yq0AtKeRX0hAVCIapJfGGXp9Xo2b97MnDlzWLFiRen0LCqVij59+jB+/HjGjBlDQECAwpVWjDUEwL9LSUlh2bJlLF68mG3btpWGQXt7e0aNGsXDDz/MgAED5IliE6Q9i/qiMnlNHgIRwgQfHx+lS6g1UlNT+f777/nuu+84d+5c6ett2rThgQceYMKECTRq1EjBCuuHgIAAHnvsMR577DGSkpL4+eef+fHHHzl27BiLFi1i0aJFhISE8MgjjzBlyhT8/PyULrnWkPYsRFnSAyiECWlpaXh7eytdhqL27dvHZ599xqJFi0of5nB3d+f+++9n6tSphIeHW/V0JdbWA2iKwWAgLi6OuXPn8uOPP5KdnQ0YHx65++67eeaZZ4iIiFC4SuVJexb1RWXymtwrEMKEKVOmKF2CIrRaLYsXL6ZHjx5ERkaycOFCtFotXbt2Zf78+SQnJ/PFF1/QsWNHqw5/dYVKpaJjx458+eWXJCcnM2/ePLp27YpWq2XhwoVERkbSo0cPFi9efNMT2fVNfW3PQtyKBEAhTJg8ebLSJVhUYWEhs2fPJjQ0lLvvvptdu3Zha2vL/fffz/79+9m9ezeTJ0/GyclJ6VJFOZydnZkyZQq7d+9m//793H///dja2rJr1y7uvvtuQkNDmT179i2X1qur6lt7FqIi5BawECbUl0Hjubm5fPvtt8ycOZPk5GQAvLy8eOyxx5gxY4bVPNBRFXXhFvDtpKSkMGvWLL7++mvS09MBaNiwIc8//zzTp0/H2dlZ4Qoto760ZyHkFrAQ4pYKCgr47LPPCAkJ4fnnnyc5OZnAwEA+/fRTEhMTeeutt+p0+KsvAgICeOutt0hMTOTTTz8lMDCQ5ORknn/+eUJCQvjf//5308TTQoj6QwKgEPVIcXEx33zzDc2bN+fZZ5/lypUrhISEMGfOHM6ePcszzzxTb3qF6hNnZ2eeeeYZzp49y5w5cwgJCeHKlSs888wzNG/enG+++Ybi4mKlyxRCWJAEQCHqAYPBwLJly2jTpg0zZszg0qVLNGrUiNmzZ3Py5Ekeeugh7O3tlS5T1DB7e3seeughTp48ybfffkujRo24dOkSM2bMoE2bNixfvpwKjAoSQtQBEgCFMGHhwoVKl2A2+/bto0+fPtx1112cPn0aX19fPv/8c06fPs0jjzyCra2t0iUKC7O1tWXatGmcPn2azz//HB8fH06fPs2YMWPo27cv+/btU7pEs6pL7VkIc5EAKIQJ7777rtIlVNvly5eZPHkykZGR7NixAwcHB1577TVOnz7Nk08+WavW5RXKcHBw4Mknn+TMmTO8+uqrODg4sH37diIjI5k8eTKXL19WukSzqAvtWQhzkwAohAmbNm1SuoQq02q1fPHFF4SGhrJgwQIA7r//fk6dOsV///tfeZJflOHm5sY777zDqVOnuP/++wFYsGABoaGhfPHFF1Y/h6A1t2chaooEQCFMaNGihdIlVElMTAxdunThqaeeIisri06dOrF7925++OEHgoKClC5P1HJBQUH88MMP7N69m06dOpGVlcVTTz1Fly5diImJUbq8KrPW9ixETZIAKIQJOTk5SpdQKbm5uTz77LN07dqVQ4cO4enpyaxZs4iJiaFr165KlyesTNeuXYmJieHrr7/G09OTQ4cO0a1bN5577jlyc3OVLq/SrK09C2EJEgCFsHIbN26kbdu2fPbZZxgMBiZNmkR8fDyPPvooGo1G6fKEldJoNMyYMYP4+HgmTpyIXq/n008/pW3btmzcuFHp8oQQ1SQBUAgrlZuby4wZMxg8eDAJCQk0btyYdevW8eOPP+Lj46N0eaKO8PHx4aeffmLt2rU0btyYhIQEBg8ezGOPPWaVvYFCCCMJgEKYMHToUKVLuKVdu3bRoUMHvvnmGwCefPJJjh07VuvrFtZr2LBhHDt2jCeeeAKAWbNmER4ezu7duxWu7PakXQhRlgRAIUyIjIxUugSTtFotb7zxBr169eLs2bMEBQWxefNmPv/8c1xcXJQuT9RxLi4ufPHFF2zatIlGjRpx5swZevbsyRtvvFGrnxSure1ZCCVJABTChKKiIqVLKOPChQv07duX//73v+j1eh544AGOHDlC//79lS5N1DMDBgzgyJEjPPDAA+j1ev773//Sr18/Lly4oHRpJtXG9iyE0iQACmHC8ePHlS7hJsuXLyc8PJydO3fi5ubGr7/+yoIFC3B3d1e6NFFPeXh4sGDBAn799Vfc3NyIjo4mPDyc5cuXK11aGbWtPQtRG0gAFMKElStXKl0CYLzl+8ILLzBmzBgyMjKIiIggNjaWe+65R+nShADgnnvuITY2li5dupCRkcGYMWN48cUXa9Ut4drSnoWoTSQAClFLXblyhUGDBjFz5kwAnnvuOaKjowkJCVG4MiFuFhISws6dO3nuuecA+Pjjjxk8eDBXrlxRuDIhRHkkAApRC8XExNC5c2e2bt2Ki4sLv//+OzNnzsTOzk7p0oQwyc7OjpkzZ7J48WJcXFz4888/6dy5s1WvICJEXSYBUAgTHB0dFTv3woUL6d27N0lJSYSGhhITE8PYsWMVq0eIyhg3bhwxMTGEhoaSlJRE7969+eWXXxStScn2LERtJQFQCBPOnz9v8XPq9Xr+9a9/MXHiRAoLC7nzzjuJiYkhLCzM4rUIUR1hYWHExMRw5513UlhYyIQJE/j3v/+NXq9XpB4l2rMQtZ0EQCFMGDhwoEXPl5+fz7333svbb78NwEsvvcSyZctwc3OzaB1CmIubmxtLly7lxRdfBOCtt97ivvvuIz8/3+K1WLo9C2ENJAAKYUJJELOEa9euMWjQIBYvXoytrS3z5s3jgw8+QK2W5imsm0aj4cMPP2Tu3LnY2tqyaNEiBg0axLVr1yxahyXbsxDWQn7DCGHCmDFjLHKeCxcu0LNnT3bu3Im7uzsbN25kypQpFjm3EJYydepUNmzYgLu7Ozt37qRnz54WnTTaUu1ZCGsiAVAIhRw5coRu3bpx4sQJAgMDiY6Opk+fPkqXJUSN6Nu3Lzt27CAwMJATJ07QrVs3jhw5onRZQtRbEgCFUMC+ffvo06cPycnJtGnTht27d9O2bVulyxKiRrVr147du3fTunVrkpOT6dOnD/v27VO6LCHqJQmAQljYjh07GDBgABkZGXTt2pUdO3YQFBSkdFlCWERQUBDR0dF07dqVjIwMBgwYQHR0tNJlCVHvSAAUwoSS1TfMbePGjQwZMoScnBz69evHxo0b8fT0rJFzCVFbeXp6smHDBvr27UtOTg6DBw9m48aNNXa+mmrPQlgzCYBCmLBs2TKzH3Pjxo2MHDmS/Px87rjjDtasWYOLi4vZzyOENXB1dWXt2rUMGzaM/Px8Ro4cyaZNm2rkXDXRnoWwdhIAhTDhk08+MevxtmzZUjop7qhRo1i2bJmsTiDqPUdHR5YvX86oUaMoLCxk5MiRbNmyxeznMXd7FqIukAAohAmjRo0y27G2bdvGiBEjKCgoYOTIkSxatEjW9BXiL3Z2dixatOimNrJt2zaznsOc7VmIukICoBAmpKSkmOU4MTExDB8+nPz8fIYNG8bixYsl/AnxD3Z2dvz+++8MHTqUvLw8hg8fTkxMjNmOb672LERdIgFQiBpy4sQJhg0bRm5uLgMGDGDp0qXY29srXZYQtZK9vT3Lli1jwIAB5Obmcscdd3DixAmlyxKizpIAKEQNSExMLF3yKjIykuXLl+Pg4KB0WULUag4ODixbtoyIiAjS09MZPHiwRVcMEaI+kQAohAkRERFVfm96ejpDhgzh0qVLhIWFsXbtWnnaV4gKKnk6OCwsjKSkJAYPHkx6enq1jlmd9ixEXSUBUAgTJk+eXKX3FRQUMHr0aOLj42ncuDEbNmzAy8vLvMUJUcd5e3uzYcMGgoKCiI+PZ/To0RQUFFT5eFVtz0LUZRIAhTBh//79lX6PXq9nypQpREdH4+7uztq1a2nUqFENVCdE3deoUSPWrVuHm5sb0dHRTJkyBb1eX6VjVaU9C1HXSQAUwkxef/11fv31V2xsbFi6dClt2rRRuiQhrFqbNm1YunQpNjY2/Prrr7zxxhtKlyREnSEBUAgT5s+fX6n9f/75Z9577z0A5syZQ//+/WuiLCHqnQEDBvDdd98B8O6777Jw4cJKH6Oy7VmI+kACoBDVtH//fh5++GEAXn75ZR588EGFKxKibpk8eTIvv/wyAA899BAHDhxQuCIhrJ8EQCGqITU1lTFjxlBQUMDw4cP573//q3RJQtRJ//3vf7njjjtKH7S6fPmy0iUJYdUkAApRRVqtlrvvvpukpCRCQ0P5+eef0Wg0SpclRJ2k0WhYuHAhLVu2JCkpifHjx6PVapUuSwirJQFQCBNSU1Nvu89rr73Gjh07cHV1ZcWKFbi7u1ugMiHqL3d3d1asWIGrqys7duzg9ddfr9D7KtKehahvJAAKYcLAgQNvuX3lypV8+OGHAMybN4/Q0FBLlCVEvdeqVSvmzp0LwAcffMDq1atv+57btWch6iMJgEKYMG/evHK3JSQklD7o8fTTTzNu3DhLlVVvpabCpEkwdy488QS4ucEdd0BmptKVCSWMHz+ep556CoAHHniAhISEW+5/q/YsRH0lAVAIEyIjI02+rtVqmTBhApmZmXTt2rW0F1DUnLw8GDAAcnOhQQOYNw9WrYK9e+Gdd5SuTijlo48+IioqioyMDCZOnHjL8YDltWch6jMJgEJUwjvvvMPu3btxc3Pjl19+wc7OTumS6ryZMyE/H37+GQ4ehO7doU8fGDIEYmNv7PfDD9ClC3ToAL16weHDytUsap6dnR2//vorbm5u7Nq1i3fffVfpkoSwKhIAhaigXbt28dZbbwHwzTff0KRJE2ULqicWL4bJk8HJyRj4wsONr2s04OJi/Hz2bPjpJ9i0CQ4dgrfegrvuguJipaoWltCkSRNmzZoFwFtvvcXu3bsVrkgI6yEBUIgKyMnJYdKkSej1eiZNmsR9992ndEn1Qn4+HDlyI/TFxUHHjsbPDx6EHj0gKwv++19jD6GHh3Fbv37g6AgnTypQtLCoCRMmMHHiRHQ6HRMnTiQnJ0fpkoSwChIAhTChZNWBEv/3f//H+fPnCQ4O5ssvv1SoqvqnZFhXfj6kpcGlS8YwuHs3nD4NY8fCwoXQvz/4+Nz8Xjs7yM62eMlCAV999RXBwcGcP3++TNuFsu1ZCCEBUAiTjh8/Xvr5li1bSm8zzZs3T+b7syBXV2Pg+/xzWLECbG3hzBkYP974AEhICBw7Bu3a3fy+/Hw4exZat1akbGFh7u7upU/6fv3112zZsuWm7X9vz0IIIwmAQpgwZcoUwHjrd+rUqQDMmDGD/v37K1lWvfTjj8ZAN22asUfwmWfglVfgxReN2z08oLDw5vcsXAijR4Onp4WLFYrp378/jz76KGBcL/j69eul20rasxDiBgmAQphQcsvotddeIzExkeDgYD744AOFq6qf2rY1jvebMMEYAs+fh8cfv7F9+HBj4MvKMn69Zw989BG8/bYy9QrlfPjhhzRu3JiEhAReffXV0tflFrAQZUkAFMKE+Ph49u3bVzre77vvvsPV1VXhquq3I0fK3uoF6NbNODl0r17Qvj38+9+wbBkEBVm+RqEsV1dX5syZA8CXX37J/v37AWN7FkLcTAKgEOWYPn06BoOBiRMnMmjQIKXLqde0WuMTvaYCIMCjjxrn/Tt8GNavh7Awy9Ynao9BgwYxYcIEDAYD06dPv+UE0ULUZxIAhTAhLy+P2NhYPDw8mDlzptLl1Hs2NlBQAL17K12JsAYzZ87E3d2dgwcP8vXXXytdjhC1kgRAIf4hNTWV3NxcAN5//338/PwUrkgIURn+/v68//77ALz++us0bdpU4YqEqH1slC5AiNrmtddeQ6/XExERwSOPPKJ0OaIGFBfDt98aP58zB5o2Na4q4uZmfHLY1xcaNgQ/P+OKI8L6TJs2jblz57J//368vb2VLkeIWkdlMBgMt9spOzsbd3d3srKycHNzs0RdQijiwIEDREREYDAY2LVrF926dVO6JFEDcnPBxeUg0Bk4AHQyuZ+NDTRuDM2bQ6tWxieSO3QwjkV0dLRkxaIqdu/eTffu3QFj2+7UyfT/ZyHqisrkNQmAQvzFYDDQq1cvdu7cSadOnThw4IDSJYkaUlgIkyYd5PffOzN69AFcXTuRm2ucSiY9Ha5cgcuXQacz/X4bG2MQ7NED+vQxfnh5WfZ7EBUzceJEFi5cSM+ePdm+fTsqlUrpkoSoMRIAhaiCJUuWMG7cOJycnHBycuLq1atKlyRq0MGDB+ncuXO5PUM6HSQnG+cdPHXK+BTykSMQGwv//NFQqaBLF+OchKNGGcOh5AzzMOgN5OXkkXMti7ysbPKysijMyaIoNwttfja6giwoykKlzUKtz8bWkIXeoKHNlNm4+3iQlJRE0F9zAi1ZsoS77rpL4e9IiJojAVCIStJqtbRt25b4+HjeeOMNZs+eTWpqqtJliRp0uwBYHoMBLlwwrkccHQ1//gn/XGksJATuuQcmToQ2bcxceB2169dF2Fz8AQd1Bk42mTjbZeJsdx1n++to1Ppy36fVadAbjM8zqlQGbNRacgrcMIy6gLu3cdlGFxcXcnNzCQ0N5ejRo9jYyPB3UTdVJq/JU8BCAPPnzyc+Ph5vb29eeOEFpcsRtZhKBcHBcO+98OWXxrWIL10yPkwyapRxbOC5c/Dee8YxgxER8M03kJOjdOW1W1HyHiID19A+YBfNfY4T4J6Mm2P2LcMfgI1Gh51NMXY2xdhqtKhUcMT+q9LwB+Ds7IyXlxfx8fF8//33NfydCGEdJACKei8vL48333wTME4ZIb3corIaNoSHHoLly423h3/7zRgGbWxg/36YMQMCA+Gpp+DMGaWrrZ3a3vMK1wtcqnUMrU5DzKXhdJ8w8abXVSoVr7/+OgD//ve/ycvLq9Z5hKgLJACKeu+bb74hOTmZ4ODg0sXkY2JiFK5KWCtnZ7j7bmMYTE6GTz6B0FBjD+AXX0DLlsbtcXFKV1q7eAf6sL/4LfSGqg2e1Bsgv9iJxuNmo1LffIyYmBhmzJhBcHAwycnJfFsyB5AQ9ZgEQFGv5eXl8eGHHwLwxhtvYG9vD8DUqVOVLEvUET4+8OyzcOIEbNgAw4YZxxAuXgwdO8KYMXD0qNJV1h7dH3ycpIym6PSV/9WkVsEh2y/xb9qwzLapU6dib29f2gv44Ycfkp+fX+16hbBmEgBFvTZ79mwuX75McHAwDzzwQOnrmzZtUrAqUdeoVDBoEKxda1yv+N57ja8tXw7t28PkycZxhPWdnYMdlxt9fttxf/+k1WnYd2kYPSbeb3J7SXt+4IEHCA4OJjU1ldmzZ1e7XiGsmQRAUW/l5+fzwQcfAPDqq69ia2tbus3f31+pskQd164d/PKL8eGRceOMPYILFhhvDb/7rnGOwvqqMK+Q3ORjleoB1BugoNiRRmO/K3Prt0RJe7azs+OVV14B4IMPPpBeQFGvSQAU9db3339PamoqQUFBTJ48WelyRD0TFma8FbxnD3TvDnl58Nprxh7BrVuVrs6yDHoDe39fztX5ofR2f7lSPYBqFcTZfEFASGCF9p8yZQpBQUGkpKSwYMGCqpYshNWTACjqJZ1Ox8yZMwF44YUXsLOzU7giUV9FRRnnE/zpJ/D3N0463a8fTJ9eP6aOObXvCHGf9CeqaAwB7hdRq247NW2pYp2G/ZcG02PSgxV+j52dHc8//zwAM2fORFfeci9C1HESAEW9tHz5cs6ePYunp6c88CEUp1IZJ40+cQL+ehCd2bONK4rs3KlsbTUl7dJVtn/8KM3jO9DWbwdApXr+DAYoLHYg8K655d76Lc9DDz2Ep6cnZ86cYcWKFZV6rxB1hQRAUe8YDAY++ugjAB577DFcXMrOPTZlyhRLlyUsSa+FC4uNn19cDgkLIWkVXN0JOWdAq8w8cR4eMGuWcXWR4GDjMnS9e8N//lP+usTWpqigiK3fforD+hC6+81BrTZgqyn7zWl1GsAY9ExRqSBW8zkBzRrd9pz/bM8uLi7MmDEDgI8//riS34EQdYMEQFHv7N27l71792JnZ8eTTz6pdDmiMvJTYdckODsX9j0Bi9zgzzugKLNyx9EXwrH3jZ8ffRt2TYTtd8LGnrCqBSxyhiW+sKE77HkITn4Gl7dB8XVzf0cm9e1rfFr4gQdAr4c334ShQ8uuQWxNDHoDMctWkzonjN4uz+PicB0bE8FPrzf25p1Ja0uc158kXGtR5qGQYp0NBy4NpOf9Vf9D7cknn8TOzo7du3ezd+/eKh9HCGslAVDUO1999RUA9913H35+fib36dKliyVLEhWhzYMtA0CbC3YN4Nw86LMK0vfCsXcqeTA1+PUzfurTE/z6Q4Mu4NwUbJyNrxdehbTdxvMcfBY294XfPeCPLhD7IqRsAF2BGb/Bm7m5GZ8O/uEHcHKCTZugc2c4eLDGTlljzhw8zsGZg4jMH0mgR0K54/x0ejXX8ryI1s6n5VMHCR/Sl/QmX9x0a9hggCKtHQFj5lX41q+p9uzv78+9994L3LgmCFGfqAyG8jrYb6jM4sJC1GZXrlwhKCiIoqIiYmJiiIiIMLnfyJEjWbVqlYWrE7d05G04Nx+GH4Vj7xnD2YBNsHMCFFwxfn5iJpz8FOy9je9RqWDQTrBxKnO4gwcP0rlzZw4cOECnTp1ubDAYoDgLrp+HnNOQdQwyD0H6fsj/x2R9GidoOAyCxkGjkTfCo5kdO2acNPr0aeNawz//bPy6tstIvcbhn/9FT79Z6A1qbDVak/sV62wwGFTsvPY8XR58FVdP15u27/voDsL9N5a+f0fhd/Sa8nCF6yivPcfExBAVFYWdnR1JSUn4+PhU4rsTovapTF6zsVBNQtQKc+bMoaioiMjIyHLDH8C+ffssWJWokIuLIWSyMcxlxIJnuPF1lQZs/xrHmXUUunwJQaOrfh6VCuw8oEFH48ff5SUZbwVf3gIpf0B+MlxcYvywcYbG46HZI+DdzXgcM2nTBmJijBNIr18PY8cal5h75hmzncKsiguL2fXDN3RUv04P31w0aj0ayj7godVpsNHoOJAyksCRM+kX1tTk8bwGf4rqcBsMBohN7k/P5x+qVD3lteeS68C+ffuYM2dO6RyBQtQHcgtY1Bt6vb509v/HH39c4WpEpWjzIfPIjdCXEQeef4WzjIPg3cP4eeZR8Gxfc3U4NYKmE6HrXBidBEP3Q5tXwSXEeGv63PewsQes6whn54POfLM6e3jA6tXw2GPGTspnn4VXXin/IQml7F+1nqTZbejt9BRujtmmx/n9VfP5a62I8/qTri8tJaic8AcQ0iGU6LRnuF7giu+dFb/1WxEl14Jvv/0Wvb5yK5AIYc0kAIp6Y8uWLSQmJuLh4cH48eOVLkdUhuGvW4e6fChIM96K9QyHq7uNt2kbjzUmoZxTsP0uWBtu/EheX3M1qVTQoDN0eAdGnoFB0cYeSo2D8Zbx3qmwshnEf262sYI2NvDll/Dee8av338fHn/c+KCI0s4dimffR3fQJWcojT3PltsBqtOrycrzZHvhbEIeO0T4kL4VOn6fpz9CP+oijUKDzVc0cPfdd+Pu7k5iYiJ//vmnWY8tRG0mAVDUG/PmzQNgwoQJODo63nLfgIAAS5QkKsrW1Rj44j+HSytAbQvXz0D0eGj/jrEH7vo5cAuDO+JufDQcYpn6VCrw6QFd58PoSxD+ATg2NAbVA0/DyuZwZg7oqz+Xi0oFL78M331n/HzWLOOk0UqFwKyrmWz95FkaH25DuP9GwPR8fsU6DcU6G3ZcfRb1mPP0nvIIGltNhc+jUqtw93avUo23as+Ojo5MmDABuHGNEKI+kAAo6oWMjAyWLl0KUKGJn2Vy2Fqo24/GHsCYacZ5/A48A21egdYvGrdnHQW3UEVLBMC+AbR+Ce48BxHfgFOQMQjGPAJ/dITLW81ymocfNj4hrFbDnDnwxBOWvR2sLdKyfe43GFY0pZfv59hodCYf8iiZzy82dRiXwo/T99mPqxzkqup27bnkmrBkyRIyMjIsUZIQipMAKOqF3377jcLCQtq1a3fzE5/leO655yxQlagUj7Yw7CAET4Dm02DUeWj5t7GcmbUkAJbQ2EOL6TDyNHT6BOw8jeMYN/eDXQ8Yb2VX06RJxhBY0hNoqWcYYtdtIXFWe3o7zsDdMdNkj5/BYPy4kNGcgx4biXxxFU3atbBMgf9wu/bcuXNn2rZtS2FhIb/99puFqhJCWRIARb2wcOFCAB544AFUFXg6c4w1zLFRX2UeAY92ZV/POganv7kx/m/zQEtXZprGHlo9awyCzR8FVJDwI6xpDReXVvvwEyfCt98aP//gA/jss2ofslyJR8+w96NRdMwYQHCDeMD0w85anYasfHe2539F40eP0ukOZf9f3K49q1QqHnzQuJ7wL7/8YomShFCczAMo6rykpCSCgoIAuHDhQunnt+Lv709qampNlyYqS6+FRS7QfwP49q7WocqdB7Cmpe2FvQ8bb1kDhEyBzp/fmMqmit5/39gDqFLB77/DXXeZoda/ZKdnc/CHt+nh9RmouOV8fioMRF99gvBJ/8bD19N8RVRDRdrzhQsXCA4ORqVSceHCBRo1uv0SczVt8uTJ+Pv78/777ytdirASlclr0gMo6rySWzq9evWqUPgTtZjaBu4tqHb4U5R3lHH6mNYvAyrj5NbrIyDreLUO+3//BzNmGG+73n8/xMZWv1RdsY4d8+egXdqUXj6fYGujNRn+SpZqi0sdwIV2R+n73Ge1JvxVVOPGjenZsycGg4FFixYpXQ56vZ41a9YwatQopUsRdZQEQFHn/frrr4Bx6TchagWNPYS/BwP+ND4tnH0S1kfCxeVVPqRKBZ9/DkOGQF4ejB4NadUYZnho43bOftWRXvaP4OF0zeQ4PzAGzosZIex3WUfEi38QEt6q6idVWMk14la3gc+cOYNKpWLNmjUMGDAAJycnQkNDK7Se8BNPPEHPnj1NbmvSpAnvvHNjScOdO3eiVquJiooqfe3q1atMmzYNPz8/HB0d6dChA9u3b6/otyfETSQAijrtwoUL7N+/H7VazdixY5UuR4ib+fWBYbHGdYm1ubBjDBz/sMqP89rYwK+/QosWcOEC3Hcf6Co580zSyQT2fDiWDlf7EOJl7JU0Ne+yVqchO9+N7bn/I3DacbrcObRKNdcmY8eORaVSsX//fi5evGhyn0OHDqFSqZg5cyavv/46hw4donHjxrz88su3PPbx48eZNWsWH3zwgcntYWFhxMXFlX69cuVKRo4ciVpt/DWdmJhI+/btycjIYMWKFRw+fJgnn3wSV1dXk8cT4nYkAIo6beXKlQD06NEDX1/fCr9v2bJlNVWSEDdz8IV+66HFX080x/0f7H+iynMGenjA0qXg5ASbNsHfOpVu6Xrmdf787FV8Y1rSOcA4bYqpVTyKdTbo9Gp2XnkU7R3n6DPtKWztbatUq6VUtD37+fnRo4dxVZmSa8c/HTp0CHd3d3777Tf69etHixYtGD16NFevXgVg06ZNfPrpp2Xe99FHHxEREVF6/H9q0KABly9fLv165cqVN93+nTFjBq1atWLRokV07dqVFi1a8PDDD9OxY0dThxPitiQAijpt+fLlAJUeR/PGG2/UQDVClENtCxFfQqfPABWc/hp2P2B86KUK2raFb74xfv6f/0B0dPn76nV6on9YQMFvIfT2/gA7m2JsTQS/knF+h1P7cD7sMH2e/5IGAV5Vqs/SKtOeS64VJdeOfzp06BAjR47Ex8en9LVz587RvHlzAAYOHMizzz5703u0Wi1Lliy56S7E9OnTmTt3bunXOTk5ODs7A3DixAmSkpIYOND49PSFCxdYt24dn3zySYVmMRCiIiQAijorIyODbdu2AZUPgJs2baqJkoS4tVZPQ49fQGUDiQth531VDoH332/80OuN/83JKbvPkS27iP+8Cz1tJtPAOa3ccX56g4pLmcHEOK6i0/Mbad65TZVqUkpl2nPJtWLr1q1kZmaW2X7o0CG6det202uxsbGEh4cDMGzYME6cOHHT9rNnz5KTk0O7dsbpi/R6PYsXL8bF5caT34cPHyYsLAww9v4NGjSodMWi2NhY7OzspLdPmJUEQFFnbdiwAa1WS+vWrUv/Oq+opk3LX5heiBoVfA/0WgpqO7j4O+x+sMq3g7/8Epo0gYQEePHFG68nn7nIrg/vpV1qD1p4HwZArS477lCr03C9wIXtOR/j//BJIseMQGVqQGAtV5n23KJFC1q3bo1Wq2XDhg03bcvKyiIxMbFMEIuLiysNgKdPn6ZFi5snvC4JkiWBb/369WRkZGBnZwdATEwMiYmJjB49GjCuXHLnnXeWvt/W1hatVkteXl6Fvw8hbkcCoKiz1q9fDxj/Iq+s/Px8c5cjRMU1Ggk9f7/RE3jgqSo9GOLmBvPnGz//9lvYsC6PrV+8SYOdLYgM+B0ob5yfBr1exa7LD1Ew5Bx9H30OOwe7an1LSqpsex461PhAS8k1pMShQ4fQaDR06NCh9LXExEQyMjIIDw8nKysLFxcXbGxsbnpfyfyCv/zyC7GxsTz//PPccccdrFixgtjYWKZPn07//v3p3bs3V65cYd++fYwYMaL0/VFRUbi7uzNjxgxOnDjB8ePH+eabbzh58mRl/ymEKCUBUNRJBoOh9OI9ZMgQhasRogoajYTuP1E6JvDEh1U6TN++MH26gQndf6bd+Wb08nwbB9tCk8FPpzf27h273IMzLePo/cK3eAf6lNmvriu5Zqxfv56/r5Vw6NAhWrVqVXprFoy3Zz08PGjSpAlHjx6lTZuyt8f9/f155513+Omnnxg2bBjPPfcc7733Htu2baNnz56EhoayePFiAFatWkVUVNRND615eXmxatUqTp8+TUREBD179mT58uX4+fnV1D+BqAdkJRBRJx09epR27drh4ODAtWvXbrpgV4SsBFL3KbYSSGWd/B8cfMb4ea9lEDS6Um8/tj0Gw74naBuwD71eZfJWLxjH+aVkBnHR7zOi7hptlbd6y1PZ9pyfn0+DBg0oKCgoN9SZ8u2333Lt2jVeqcaizHfeeSc9e/bkpZdeqvIxRP0lK4GIem/jxo0A9OnTp9LhD7hp/I0Qimr1NLR8wvj57vsrvGJIyrlLRH80iTZJUbTyPQiUP84vt9CJ7Vnv4z3lFF3HjalT4Q8q354dHR3p3du42kzJtaQijh07Rtu2bSt1rn/q2bOnTFovLEICoKiTSmbH79+/f5Xe37p1a3OWI0T1dPr0r8mir8OOsVB8vdxd86/ns/XL/+K5vTld/Y2r4Ji63avVadAbVOxOfZDc/mfp+9hL2DvZ19i3oKSqtOeSa0dlVtr4/PPPGTlyZKXP9XcvvfSSLFkpLEICoKhz9Ho9O3bsACj9K76ySp7OE6JWUNtAj19vLBt34Kkyuxj0Bnb9uojMH1vQ2+NfONgV3HKc3/ErUcQ33U+vF+fiG+xf49+CkqrSnkuuHdu3b6cCI6WEsDoSAEWdc+LECdLT03Fycqry2K6YmBgzVyVENTn4QveFgArOzYeLS0s3ndh5gKOf9qC7/h58XZPLH+enV3ElpyG7NYto92w0Yd1r8dhHM6pKe+7cuTOOjo6kp6eXmddPiLpAAqCoc0pu2XTr1q3KPXl//PGHOUsSwjz8+kDrv9acjXmUK6eOs+OjKYQmRBDmaww5mnLG+eUXObA982087j9Nt3vG17lxfrdSlfZsZ2dXOuFzyYTyQtQlEgBFnbNnzx4AunfvrnAlQtSAdv+mwCGcrbGtcdnZhW7+P6JWGcod5wewJ3UCWX3O0veJ13B0qfxDUfVVybq9e/fuVbgSIczP5va7CGFdSm73REVFKVyJEOZl0BvYu3QNQVfS6N3q0C1v9arVBuKvdoIuX9JzQqSFK60bIiON/24yJETURRIARZ2SlZVFfHw8ABEREVU+jqurq7lKEsIs4vceomDHk3RtuAOdu7rc8KfTq0m77ssZt5l0f+a+enWrtzxVbc8l15CTJ0+SnZ0t8+CKOkVuAYs65cCBAxgMBoKDg2+aSb+yTp8+bcaqhKi6q0lX2P7xNFqc7khrv10AaNT6MvsV6zQUFNuzI+NfuE44S48JEyT8/aWq7dnPz4/GjRtjMBg4cOCAmasSQlkSAEWdcvCgccLbLl26VOs4AwcONEc5QlRZUUERW7+ZidPGELr7zUOtNmB7i3F+ManjudbjNH2f/DdObk6WLrdWq057LukFLLm2CFFXSAAUdcqRI0cAblqsvSpeffVVc5QjRKUZ9AZilq3i8pxW9HZ9EWf7XJMPeOj/ms/vdFp7jgTsoseLv9CwuUwgbEp12nP79u2BG9cWIeoKGQMo6pTDhw8D0K5du2odZ8KECbIWsLC4MweOkf3nU0Q23ILOQ41aVf44v4xcL046fUz3pyah1sjf8rdSnfZcci0pubYIUVdIABR1hlarLZ2wtboBUAhLupaSzpGF/6Kn3zfo/Yw9e6bH+dlgMKjYlfESXR58mZ4eLpYutd4puZYcP34crVaLjY382hR1g/wkizrjzJkzFBYW4uTkRNOmTZUuR4jbKi4sZteCr+lk8wY9fPPQqPVoTOyn1Wmw0ejYnzKaoDs/om+rJpYutd4KCQnBycmJvLw8zp49S2hoqNIlCWEWct9A1BmnTp0CIDQ0FLVafrRF7bZv5TouzW5NL+dncXXIMT3O7687wGfT23DIdzvdXlpMIwl/FqVWq2nZsiVw4xojRF0gPYCiziiZ6qFFixbVPtZXX31V7WMIYcq5uJNc2/g0EYEb0HneepxfZp4nx+0/pPvjD6KxNdU3KCqiuu25RYsWxMXFyfRQok6RbhJRZ5gzAH7//ffVPoYQf5d5JYOtM5+m8ZG2dPDfApQ/n1+x1obtaS9gO/YcvR6cKuGvmqrbnkuuKRIARV0iPYCizjhz5gxgngA4f/78ah9DCABtkZadP8ymA6/S0+86Nuqyt3rhxji/g6kj8L9jJv3aNLNwpXVXddtzyTWl5BojRF0gPYCizjh//jxgHLRdXf369av2MYQ4uHYTid+0o7fj47g7ZpkMf4a/7gAnXAsltsEWol5cTrCEP7Oqbntu1sz4/+PcuXPmKEeIWkF6AEWdoNfrSUpKAqBx48bVPt7Vq1erfQxRfyUcOc2VP54jMnA1Wk81qnJWZNPp1eQUuHFY/T49HntYbvXWkOq256Ag4wTbly5dwmAwoCrvf6gQVkR6AMWt7Z4McS8rXcVtpaWlUVRUhEqlomHDhkqXI+qprLQstn76Ao3iWtPRfx0ANhrT4/y0Og07rjyNatR5ek+dLuGvFmvYsCEqlYrCwkLS0tKULkcIs5AeQFE+gx6S10DvlUpXclsXL14EwN/fH1tbW4WrEfWNrljHzp/m0U77f/TyyTL5cAeAVqfGRqMnNnUoPkM+oW/7lhauVFSFnZ0dfn5+pKamcvHiRXx8fJQuSYhqkx5Aa5BzBhaq4NIa2DwAfnOCVaGQtrdyx9n3BGzsaXrbiiZw9J2bX7u6E1Rq8I4yfl1wFfZOg6V+8JsjrO0AV7ZX+tupCZcuXQKgUaNGZjlez57l/DsJ8Q9x67dy7usO9LafhrtThsnwZzAYPy5mNOeA23oiX1xNUwl/FmOO9lxybSkZaiKEtZMAaA0yDgEqODkT2r4Oww6Bc+PK3ZrNOg5nZkH4B6a3u4VBRtzNr11aCYEjjSEwNxHWtoeiDOi9AoYdhpZPgo1rVb8rs7py5QoAfn5+ZjnemDFjzHIcUUm7doFGA0OHVmz/1auhb19wdQUnJ4iIAAtN4XPh+Dn2fDiG8PR+NG1wEgC1iaFhWp2G7AJ3tud/SdCjx+g8YrBF6hM3mKM9l1xbZHywqCvkFrA1yDwEtu7Q4zdw+OvWQ6PRcHqW8fMTM+Hkp2DvbfxapYJBO8HG6cYxTnwEDSLAp4fpc9g1gLyLN7+WtBI6fmz8PGYGuLWCnosoHdHuVv3pVsylZFyOt7e3WY4n830pZN48ePJJmDMHLlyAWz3Q88UX8Mwz8H//B19/DXZ2sGIFPPooHD0KH39cIyXmZOSwf8E79Gwwk4AA42umVvEo1tmgVumJvvIYHSa+SR//BjVSj7g9c7TnkmuLjAEUdYUEQGuQccjYE+fwt3En18+Ba3Pj51lHocuXEDTa9Pv1WriwBNq+ceO1mOngFQnNHjJ+rc0BG+cb27NOQF4S+A+E3AuQsg6GHqTcxxkVZu4AmJ2dbZbjiErIzYVFi2DfPkhNNfbk/etfpve9eBGef94YAN9998brzz9vDIJPPQXjx0NUlNnK0+v07PxpAWGFL9Hb+1q54/x0ejUatZ5Dqf3wHPg/+k4KM1sNomrM0Z4lAIq6Rm4BW4PMQ+DT7ebXMmLBI/yv7UfBs335779+1hjwPNoZvzbo4cJisHH52zkOG28Dl7i0EgIGgY2j8VxqO2jQ0SzfTk0ouS1jrsHZCxcuNMtxRCX89huEhho/Jk2C+fNvTJL3T7//DsXF8MILZbdNnw4uLvDLL2Yr7fCmaE5/3pFetlNp4JRebvjTG1QkZTRln/Maury4gWYdJfzVBuZozyXXFrkFLOoKCYC1XVGWcfyd5z/CV0YceIYbf0HmnILtd8HacONH8vp/HCPT+N+SwJey3jiWT21n/DotxniOv/cgJq2AwDuNn6tswaAFbZ45vzOzyszMBMDDw0PROkQ1zJ1rDH5gHAN4/Tps3mx631OnwN2d0nuwf2dnByEhxn2qKSk+kd0fjqf9lV408z4GgFpdNpRqdRpyClzZcf0TGk47QcSoO6p9blG7eHp6AjeuNUJYO7kFXNtlHgKVBjw63HgtN9EY4DzDjbeC3cJgyJ7yj+EcDKgg8Rfjbd6Dz0PDO4whz7kJ7JsOfv3Bt7dx/4IrkL4Pei83fu0dZRyDuG8GtH4ZMBif/vXtC+6tauK7rrTr168D4OpaOx5KEZUUHw8xMbB0qfFrGxu45x7jmMCBAyt/PIOhWsMVcrNy2bfgfbp5fIhfgLG3z/Q4Pw0alZ5dlx+hzYS36dPQPEMQRO3j4mL8A7rkWiOEtZMAWNtlHDI+fGHjeOO1a7Fg6wEuTYwhzi301sdw9IcO78Dx9+HiEmj/X+P4v+2jjLeCA0dCxNc39r+0yhj6HHyNX9t7QZ9VEPsirI8w9hx6RULwPeb+bqus5KJccpGuLrVaOsctau5c0GohMPDGawYD2NpCRgb81ftSqmVLyMqC5GT458TfRUVw7hz071/pMvQ6Pbt++ZnQ3Bfo1SDttuP8jl7uhXOfz+k9qV2lzyUsxxztWQKgqGskANZ2oU8aP/4uaPSN27WZR28fAAHavGL8+LtR503v+/fbvyV8esDgXRWpWBHmDoDJyclmOY6oAK0WfvgBZs6Ewf+YImXsWPj5Z3jiibKvv/SS8T0zZ9687ZtvjA+U3Hdfpco4unUP6oNP0NP/AHpnlclbvWAc55eSFcQl//8R+dydqEzN/SJqFXO0ZwmAoq6RAGjtso7B1WhIXGT82t4bBmyq3jF9ekJw5X55Kq3kouzs7HybPStm4MCBbNpUzX9HUTGrVxt7+R56yDiu7+/GjTP2DkZGwgMPGMcEBgYap4f58EPjQyAODnD//cbewhUr4NVXjU8DlzwB/OWXsGzZTeMJdTod+/fvB2BfzD6yN35O36AFaH2My7GVN86vUOvAvoI36TblSRo52dfMv4cwO3O0ZwmAoq6RAGjtetTA06qtXzL/MWtYcXExYFyyyRy++uorsxxHVMDcucZxfv8Mf2Ds6Xv3XYiONo4T/Ov/MwDPPgvNmhnn+/vf/0CngzZtYNYsmDLlxn5paXD2bOmXS5cu5fmnnybhrxUdHp3xKI091HzyIIyNLGecn1rPrstTCLv7v/RtbJ7JxoXlmKM9lywxWfz3n0EhrJjKYChvnoUbsrOzcXd3JysrCzc3N0vUJUSl+Pr6cvXqVY4cOULbtm2rfTx/f39SU1PNUJmoTZYuXcq4ceMYYTDwKtAWOAq8A6wBfn8G7oow7ls6n19KTxx6fEFo13CFqhbVZY72fOTIEdq3b4+vry+XL182U2VCmFdl8pr0AAqzyc/JR1usxdndGbXGsg9RaLVaAGxs5EdamKbT6Xj+6acZYTCwnBtzYHUFVgCjgRd+gFGdQYWKy9kNSfT+jK7P3iXj/ETptaXkWmNJep2e3KxcbGxtcHR1vP0bhKiASv221Ol06HRlb5EIAeDlbSC/yJUzhxNp0rqRRc9dclFWqVRm+xmVn/W6ZevWrSQkJfELZSdAVQOvAN2vwcajdtg3+jeRDzxNpLMDeoMe5EfB6lW3Pav+mlZIq9Va/Npw/uhFWoQ3wck+l+xc+WEU5avMz2alAuD48eOlh0WUq0irBmyY8mg2Tq4OFj13bm4uANOmTcPRsfp/IWdkZDB8+PBqH0fUHikpKYDxtq8pJa//64/2NPDfDqu3W6QuUfPM0Z7z8owT4efm5lr82pCXkw+4U1RczPDhtx21JeqxyvRQV2oM4Pnz52WlBVGukEYGMnI92ffnYZqHN7bouQsKCtBqtTg5OZllzq85c+bw8MMPm6EyUVtER0czcuRIdmO87ftPu4HuwMwXX2Lqq6+Y2ENYK3O0Z71eT15eHjY2Njg4WPYP3NOxiUT270ADl2ucvShzlIryZWZm0rRpU/OPAVSr1Wg0mmoVJ+ouG00BAHodFv85Mdf0LyViY2PlZ72O6dmzJ8ENG/JuSgrLDYabbgPrgXeBJg3g6fYf8ucCJ6KmPqdQpcLczNGeNRoN7qaeVLcA/V939Ww0OjQaW0VqENahMh0g8qeEMJuSpbJ0WtOrJ1iTRx99VOkShBkY9AbOHTzO3jnvk/FDJK/dUcRqYLRKxW4gB2PP3yiMTwF/NEmFRg0Dfd5k79yPlCxdmJG1t+eSa6qNxvIPoIi6SwKgMJuSAKgttv5Byi+88ILSJYgqMugNnN57iJjv3ibrxw50uNSVvt4f0MTrNN1aNeXHH3/kcEAA3QE3jLd9jzaARU+pGBd1Y0TMQN+32TvnAwx6GXNl7ay9PWtLAqDa+q+tovaQACjMxvavv06Liqy/BzAhIUHpEkQlGPQG4nceIObbf3P959Z0utKLPj6fENQgATD+cWIwqEh1uJs777yTuGPH+N///gfAm088w5n/cVP4KzHQ7x1i5r4nIdDKWXt7Li40Bj9bG+kBFOYjj/SKW3r0UQf8/PT85z9Ft93XxdE4BjDvusyUL2qeXqcnfuc+rh9fQRvXxXRxu0yxn03pHyIlPdKlVNC0zyjAOJ6rY8eOAPS/+y62nQylr9NjqFUmQqD/+2yaqyfyoddkPkChiNwc4zW15BorhDlID6Aol14P69druOOOiv3V6exYCEBujvyVKmqGtkjLsS3R7J/1IsW/tSAyaxC9/L/Bz824MoNtOWOkdHoVR1K64Rvsb3J7xL0T2Zo/C73BdMAb6P8h++a8JT2BQhG5141/zJRcY4UwBwmAtdzZsyrc3Fz54w8NI0c64ufnQqdOzuzbV7X/dc8/b8/gwabnyWvb1pmPPrqxlu6ePRrUaoiIuHFLNy1NxVNP2dOsmTO+vi507+7Ezp3Gp+tcnEoCoPWPUwkLC1O6BPE3J6NjODDrWVjajK65d9AzYC7erleB8kPf36mANOe7b7lPxD0T2FrwLXqDClOTYw0ImMm+796UEGiFrL09l/xR7eJ0+zsxQlSUBMBa7uhRDSqVgS+/tOPFF4vYuTOXoCA9b75pX+ljnTypZu5cW956y/RFpGVLPUeO3PiRWLvWhmHDtJQ8VX7hgopu3ZzIzFTxyy/57NqVy/Tpxbi4GH8hOjsZb1PkXrf+MYDWPmi8LtHr9LS8NJa+jebi6ZwBVCz0/VOzfiNvu0/E3feyrXAOhvJCYMNP2f/dGxICrYy1t+fc6zdfY4UwBwmAtdyRI2rc3eH77wvo3VtH8+YGhg/XkpZ241bVwoU29OnjRPfuTgwZ4sjRo6b/t/7vf3Z06qSna1fTPXSengauXLlx3LVrbRg+/MYv2mefdaBlSz0LFhQQGamneXMDDz5YTIcOxsDn6mzc93qO9f9yXLVqldIliL+oNWoOO89Gq9Og11d+DJ5Or+ZQSi+8An0qtH+X8ePZpp2HwaDCVM7r3/Bz9s9+TUKgFbH29nz9rwDo4iTDa4T5SACs5Y4eVTN0qBZv7xu/bBIS1ISEGEPX/Pm2/PabLStW5LFrVx6vvVbExImOFP/jD0WtFlautGHUqBsbnn7anh9+uDGp6PXrKpycjJ/Hx6tJTlbRt68xLF68qGLjRhvefbcQVTm/g93djBenjEzrHygfEBCgdAnib8JHDGOX5if0BnWlQ6BKZeCa261v//5Tl7Fj2a77HoNBbToEBn7JgW//T0KglbD29pz51zXVw10CoDAfCYC13NGjGiIjb+6xO3xYTbt2erKy4KOP7Jg7t4CSFfp699bh6Gjg1Kmb/9eeP68iJ0dF69bG4KjXw7Jltjg73/gFduyYmtBQ4/a1a23o109LybK6hw9rsLMzlPb2meLVwLgtPd36Hy6fNWuW0iWIf+g4cjg7VT9iwHTPXHkMBhUt+ld+7dbOd40h2vBDuSGwX6NvOPDtS+h11j/koa6z9vaclma8ppZcY4UwBwmAtVhWFly4oKZ9+38GQA3t2+tZvNiW3r11N/UOAtjZQU7Ozb0kJX9BurgYv960SUNmpgq7v5752L9fzYULakaMMP6FuWaNzU1P/9rYGNBq4a/10E3y9jGeIy3DrvydhKiGTqNGsEP/PRWdjUWrUxOb3A9Pf6+qnW/0nUTzE3q96dvPfQO/JXb2CxICRY1KyzCO+S65xgphDhIAa7GjRzVoNAbatbvxy+XCBRWZmSratdNx4oSaNm1uDof5+XD+vJrQ0Jtfb9zYgEplYPFiGw4dUvPaa/YMHqxlzRrj188840CfPlp69NBx9aqKgwfVDB164xhduuhwczOOA4yPV5c+UPL3nkYvb+NfqemZTjXxzyEEep0eVeoWkw9omKJR68luML5a5+w0akS5t59VKugTOIe42c9KCBQ1puSa2sBH1gEW5iMBsBY7ckRNy5b60tuwYOz98/AwEBxswN3dQGHhzb+QFi+2ZfhwLZ6eNx/Lz8/Av/5VxKJFtowd68gTTxTz5puF7NypYcgQJ5o317NgQT4A69bZ0KWLDh+fG79lvbxg0aJ8zp5V07evE4MHO7F6tQ0+Pjd+6TXwdQAgLdPVzP8SQhjDX9y3T9E78Ptyx6H+k1ZvQ4v+w6p97o4jh7PbZiE6Q9meQJUKegfOJ+7bpyQEihqRlmW8pnr5VH72ByHKozIYbv+3dHZ2Nu7u7iQmJuL5z2QhFLN3r5qnnnJgw4Y83N0hJkbNjBkOrFiRT6NGVR+cfs89jnTrpuOZZyo359Spg4l06dsWd6csLqZa998WaWlpeHt7K12G+ItOq+Pw7Cfp2ejnMqt16PUq1OqyP+9anYaDKYMJm/GbyWPGxcXRu3dvtm/fTnh4eIXqiFuznq5F96FR68qcU29QEZ00ifbTPkdjo6nYNyYswtrbc5C/nqw8d/ZvPUrLTsFKlyNqsYyMDIKDg8nKysLNze2W+1r3b+l6LipKz7RpxQwd6kS3bk68+649CxcWVCv8AXTrpmPcuMrPN+Uf3ACArDx3rmfmVqsGpU2ZMkXpEsRfdFodR2Y/bjL86fQqdHqNyRU8bDQ6cr3HmbWW8OFD2Ovwm/Gc/+gJVKsM9Gz0E0dmP45Oa/2Todcl1tyeczKuk5XnDkBA06qNZRXCFAmAVu6hh4rZvTuP3bvzWL48v/Qp3up45pmiKoVINy9X3ByzAEg5n1btOpT022+me42EZWmLtByd/Sg9Gv1STvizIcbpd7bmf13mvUVaW0IHDDF7TR2GDSLGcTFavQ06EyGwR6NfODJ7BtoimbKjtrDm9pxyPh0Ad6csXD1dFK5G1CUSAIVZBflcAeBSQrbClVRP+/btlS6h3tMWaTk+ZxrdGy0yGf60Olv2uyyh/ZD+RNwzkS25N0KgVqfhQMpQXBvc+hZIVbUfOoB9zr+j1dui0998GTWGwN84Nme6hMBawprb86Xzxj+qg3wuK1yJqGskAAqzCvTNBOBSYoGyhQirVlxYzIk5D9MtcImJ8KemWGfHQbeltBvUt/T1iHsnsTnnS8B4+7cwoHpP/95O+8H9OOCyBK3OdE9g98DfOT7nEQmBolqSLxjXWA/0yVS2EFHnSAAUZtXI3zhR4KUkeRpSVE1xYTHxc6fSNXBZmQctjOHPllj3pbQd2LvMeyMnPMDmnC85cTmcsAGDarzWdoP6cNB9GcU6u7I9gWoD3QKXcmLOVIoLZQ1XUTVJf11LAwNuMQmrEFUgAVCYVXCw8Rfd+QSZDFpUXlFBEfFzJxMVuNJ0+NPacchzBW0H9Cr3GJETHqDRw9txcnOu6XIBaDugF3EeyynWmg6BXQNXED93CkUFlXuqXgiA8wnGqV+aNJaeZGFeEgCFWTVrYZyo9MwF654uaOrUqUqXUO8UFRRxet6DRAauMRn+irR2HPJeSet+3RWqsHxt+vfgkNcKisoJgZGBqzk970EJgQqx5vZ85oIHcOPaKoS5SAAUZhXSyjhdwdlL1r34ek5OjtIl1CuF+YWcmX8/EYHr0KhvHj6g06sp1NpzxGcVrft0VajC22vdtxtHfFZRqLVHq7v50qpR64kIXMeZ+Q9QmF+oUIX1lzW357PJDQEICXNXuBJR10gAFGbVpLU/AGk53mSmZSlcTdX169dP6RLqjYLcAs59P4kuDdeXCX9anZqCYgeO+a0irHeUQhVWXFjvKI76rqJQ61CmJ1Cj1tOl4R+c+36ShEALs9b2nHElk/Qc49x/TVpb9x/VovaRACjMysXDmQDPVADOH7PeaQu++eYbpUuoFwpyC0j4YQKdG240Ef40FBQ7ctx/Na16RipUYeWF9YrkuP8qCoodTPYEdm64kfPfT6AgV56UtxRrbc8l19CGDVJwdpc11oV5SQAUZteiUQoAp45Ybw/g4cOHlS6hzsu/ns+FH+6lU8Mt5fT8OXIycA2tenZRqMKqa9UzghMBaygodjQZAjs13EziD/eRfz1foQrrF2ttz6eOGudTLbmmCmFOEgCF2bVpmQnA8WPVW5JO1F15OXkk/XQP4Q23muz5yy9yJj5oLaHdOylUYfWF9uhMfKO1FBQ7odXdvDawRq2nY8M/ufjTveTlyPQewrTjR43X0JJrqhDmJAFQmF2bNsZf6Mfia2YVBmHd8nLySP75bjoEbDcZ/vKKnDkdvJaWXcOVKdCMWnbrSHzQWvKLTIfA8IBtXPr5HgmBwqRjp4zX0DZtFC5E1EkSAIXZhXUwXrSOnmukcCVV16iR9dZem+Vl55KycBztA6JNhr/cImfONl1Hi6gOClVofi27hnO6yTryipxNhsAOATtI/nk8edm5ClVY91lrez56LgiAsHBXhSsRdZEEQGF2rboYL7bJ1wK4djlT2WKq6LvvvlO6hDonN/M6qb+Mpa3/bpPh73qhC+ebrad5RDuFKqw5LSLbcy7kD64XupgMge38d5H6yzhyM68rVGHdZo3tOT01g5QM46wKrToHKVyNqIskAAqzc/V0oanfBQCOx1xSuJqqee+995QuoU65npHDlUV30cZvLzZq3U3bjOHPlcQW62nWue7e62rWpS2JLdZzvdC1TAi00eho47eHK7+N5XqG9c5ZV1tZY3suuXaG+CXi4mGZVW1E/SIBUNSIjqFJAMTutc4ejb59+ypdQp2Rcy2btMVjaO27DxtN2fCXU+DGhZbrCenUWqEKLSekU2sutFxPToGbyRDY2i+GtMV3kXMtW6EK6yZrbM+xMcYhAR1bJSlciairJACKGtG5o3FQ+/4465y76q233lK6hDohOz2La7+PIcz3gMnwl13gTlKr9TTtGKZQhZbXtGMYSa3Wk13gbjIEhvnu59rvYyQEmpE1tuf9scZrZ+dOMlWQqBkSAEWN6BTlAsD+48EKVyKUkp2eRebS0bTyPWgy/GXme5LcegNNwlspVKFymoS34lLYerLyPUyGwFa+B8lYMprsdOudS1NUz/7jTQDoFCkPgIiaIQFQ1Ij2PYJRqfRcTAvkSmKa0uUIC8tKyyR76Z2E+sSZDn95Dbjcbj3B7VsqVKHymnQIJaXtBjLzGlBsIgSG+sSStXQUWWmZyhQoFHM58SpJ6Q1Rq3S07yF/RIuaIQFQ1AhXTxfCGp0D4GC0jGGpTzKvZnB9+Uha+Bw2Gf4y8ry43GE9jdu2UKjC2iO4XQsud1hPZp6XyRDY0ucQOcvvJPNqhkIVCiUc3GF8ACQs6Jw8ACJqjARAUWOi2hsvYnuiixSupPJ+//13pUuwSpmXr5G3YiTNvY+aDH/Xcr25Gr6exm2aK1Rh7dO4TXOuhq8nI9fbZAhs4X2EvBUjybx8TaEKrZ+1tec9O43XzMh2yQpXIuoyCYCixnTvYQwA0ft9Fa6k8t544w2lS7A6Ganp5K8eQTPvY2XCX7FOQ9p1X9I7byCodTOFKqy9glo3I63Teq7l+pgcE9jM+xj5q0eQkZquUIXWzdrac/Q+PwB69NTfZk8hqk4CoKgx3QcZJ4Q+eKYV1zOta5WDVatWKV2CVbmWkkbhmuGEeJ0oJ/z5kRmxnkatmipUYe0XFBZCRpcNXM3xpVhnc9M2G42OEK8TFK6REFgV1tSer2fmcvCM8cGo7oMCFa5G1GUSAEWNCQoNoLF3ElqdLQe2nlO6nEoJC6s/05JUV3pyGtp1d9DUK95E+LMhLcef7KgNBIY2UaZAK7Jyyzq6/VvN5SzTt4Obep2kaO0dXEuRB6sqw5ra8/4/z6HT2xDsc5FGLQOULkfUYRIARY3q2fE8ADu3Wtdi98XFxUqXYBXSL11Fv34owQ1Om+z5u5IdQE63DTRs0VihCq2DVqvlhRde4P/+7/9ITLvEBwdHczUnwGRPYJMGp9D9MYz0S1cVqtb6WFN73rXNeK0suXYKUVMkAIoa1bOH8cK7bbf1jQMUt5Z28QqGDUMJ8jxn8oGPy9mB5PZYT0BzWcf0VtLT0xk9ejSzZ88GjJMWv/PZB1zvvoHL2Q1NhsDGnmcwbBhK2sUrSpQsatDWv66VPXtoFa5E1HUSAEWN6jvCOA4wJr41mWkyqW1dcfXCZVSbh9LI8xy2mpt/URXrNKRkN6Kg1wYCmjVSqELrYW9vT2pqKi4uLixcuJBnnnkGlUpFQLNG5Pdcz+XsQJO3g4M8z6HaPJSrFy4rVLkwt4wrmcScNK6H3Xek/OEkapYEQFGjGrUMoFWjs+j0NkSvOqt0ORU2evRopUuota4kpKDZMoRAj/PYmrjtm5LVmKLeG/Br2lChCmu/wsJCtFpjcHZxceGnn35iy5YtjBgx4qb9/EMCKey9gZSsxiZ7AgM9EtBsGcKVxFSL1W6NrKU9R68+h96gIazRGQKb+ytdjqjjJACKGjeweyIAmzYZFK6k4gICZPC1KZfPJ2O3bQgNPS6YCH82JGc2objvenybyL9fefbt20efPn344osvSl9r1aoVrVqZXhLPt0kAxX3Xk5zZuExPoK1GS0OPRGy3DuFKQkqN1m3NrKU9b95k/O/AHheULUTUCxIARY3rN8gOgE27m2PQW0cI9PHxUbqEWif13CXsdwzB3z2pzG1frU7Dpcwm6Pr/gW+w9FyYkp6ezrPPPsvAgQM5fvw4s2fPJj8/v0Lv9Q32R9d/PZcym5oIgToC3C9it30wqecu1UTpVs8a2rNBb2DjHuME6SXXTCFqkgRAUeO6D22BvW0BF9IaEX8wUelyKmTr1q1Kl1CrpJxNwjF6CP5upsPfhYxmMGg9Po39FKqw9iosLOTLL7+kY8eOzJ07F4PBwL333kt0dDSOjo4VPo5PYz8MA/7gYkYzkz2B/m6XcIweQspZWXrxn6yhPZ/cn8DFtEDsbQvoPlSWSRQ1TwKgqHHO7k7073gIgHVLrGPA+vbt25UuodZIPn0Bl12D8XNLNjnm70JGc9RD/sArsPb3sljazp076dixI6+++iqZmZm0adOGNWvWMHv2bLy8vCp9PO8gX9RD/uBiRvMyK4bYarT4uV3CeecQUs5cNNe3UCdYQ3tet8T4RPeATodwcnNSuBpRH0gAFBYxfOh1AFZtlNuD1uTSqUTc9g7GxzXVZM/f+avN0Axdh1dDb4UqrH0MhhvDHBo1akRqaioNGzbkiy++IDo6ml69elXr+F4NvdEMXUfCtZYmQqAOX7cUXHcP5tIp6+htF0arNxnHKQ4fal2rJgnrJQFQWMTQ8SGoVHr2n2pLyjmZu8waXIpPwCNmMN4ul02Gv5PJTen+76t8/8sPN4We+shgMLBnzx5mzJjB/fffX/p6cHAwS5YsITY2lgcffBCNRnOLo1RcgwBv7O5Yy/n0UJM9gd6uqbjHDOFSfIJZzidqVvLZy+w/3QaVSs+QcbJcorAMCYDCInyDvYlqdRSAPxYnKFtMBXh4eChdgqIunjiH5/7BeLlcKXPbV6vTcC49jO+TRpJ+PYM333yT5557rnRak/rCYDAQGxvLW2+9RYcOHRg8eDA///wzK1euJDHxRu9bv379KjXWr6I8/b2wH76Gc+lhJnsCvV0u47l/MEknZUWJ2t6e/1hs/Hnp2uoovsHSmy4sQwKgsJgRg4w9fyvXuitcye1Zw5ihmnLx+Fm8Dw6hgfNVk+HvbFobHEes5t/v/of33nsPlUrF3LlzGT9+PNnZ2QpVbVnff/89rVq1ok+fPnz88cckJCTg4uLCxIkT2bhxI40bW2bpO09/LxxHrOZsWhuTIbCB81W8Dgzm4nHrmYOzJtT29rxqnfGaWHKNFMISJAAKixl5XyAAf8Z15OrFdIWrubVJkyYpXYIiLhw9jU/cYBo4p5kMf6fT2uE0ahUefg0AePzxx/npp59wcnIiOzsbe3t7Jco2K4PBQEZGBocOHWLJkiW888473HfffcTFxZXuY2trS0pKCs7OzowaNYp58+Zx+vRpZs2aRVRUFCqVymL1evg1wGnUKk6ntSsnBKbhEzeEC0dPW6ym2qY2t+criWn8GdcRgJETZOUcYTk2t99FCPNo2qYRXVoeZf+ptqz86SwPvVL5pyAt5dFHH1W6BItLPHIa/6NDcHfKMLm276mrHXAbsxx3b4+bto0cOZL169fj5+dXGgD1ej1qde3++/Kf4xa3b9/OE088wZUrV8jLyyuzf+/evQkPDwdgyJAhLFu2jB49euDg4GCJcm/Jw8cT1eiVnF42ihY+h2/6/2ej0eHhlI7qyBASDesJblf/phipze155c/n0BuaEtHyKE1aBytdjqhHavcVWtQ540cal6xavKJ2j3N57LHHlC7BohIOxRNwdDAejhkme/7ir4bjfteKMuGvRIcOHfD3v/GE9+uvv8706dOt6pawSqUiISGhNPx5e3sTGRnJ/fffz3vvvUf//v1L9/X29mbAgAG1IvyVcPf2wO2ulcRfDTfZE+jhmEHA0cEkHj6lUIXKqc3tefEK4/RJ4++U5fyEZUkPoLCo0fc35eVP9Ow63oGkU6do1NI6lmiqy87HnqBR/DDcHLNM9vydvNKJBuOW4drArULHO3fuHLNmzUKn07Fr1y6++uorevfuXROlV8s/b9O2b9+eDRs24OPjQ0BAAE5O1jcXm5uXO6qxKzj5+xha+R4s0xPo7piJ6vhgEvR/0CTc9NJzwnIuxqew+0R7VCo9ox+Qp3+FZUkPoLCogBBferU1Tgq99AdZ71Jp52KP0/jUENwcTIe/E1e64DV+eYXDH0BISAhr164lODiYxMRERowYwTPPPENmZqaZqzcvd3d3unbtSrNmzawy/JVwbeCG1/jlnLjSpUxPoI1Gh5tDFo1ODuFc7HGFKhQllv1ovAb2bheHfxNfhasR9Y0EQGFx947NAOCnpU2tZm3guujsgWMEnxqKi31O2fCnV3P8ciTe45fi4ula6WN369aNXbt2MWXKFADmzZtHREQEv/32W72fM9ASXDxd8R6/lOOXI02GQFeHbIJPDeXsgWMKVSgMegM/LgkB4N6xmcoWI+olCYDC4u58sBVO9rmcTGrG/s3xSpdj0tdff610CTXq7P6jND1jOvzp9GqOpXbD954lVQp/JVxdXfnf//7H6tWrad68OZcvX+bll1+2qnGB1szF0xXfe5Zw7HJXtPqyIdDFPoemZ4Zydv9RhSq0nNrYnvdtjif+UghO9rncOTlM6XJEPSQBUFicm5crY/sdAODn+WWftqwNvvnmG6VLqDGnYw4Tcm4ozvbXTYa/wyk98L/vd5w9XMxyvt69e7N7927eeOMN3n77bdzdjXOe6fV6zpw5Y5ZzCNOcPVzwv+93jqR0R6e/+XJvo9HhbH+dkHNDOR1zWKEKLaM2tuef5xmvfeP6H8DV0zxtTYjKkAAoFDHxQeN0IYs3dyQ3q/aFwJ9++knpEmrEqT1xtEgYhpNdrsnwdyilFw0nLsbJzdms57W3t+fFF1+8aT62lStX0rlzZ6ZMmcKxY3IrsqY4uTnTcOJiDqX0MhkCnexyaZEwjNN7DylUYc2rbe05NyuPxZs7ATeuhUJYmgRAoYhuw8Jo5p9ATr4bKxfUvsHotfGp1eqK33WQ0It34GiXZzL8xaX0odGkRTi5WuYBiH379mEwGFiyZAndunVj7NixbNmyRcYI1gAnVycaTVpEXEofkyHQ0S6PlheGcWp3rEIV1qza1p5XfH+M6wWuNA9IoOtQuf0rlCEBUChCpVbx4Fjj7b/vfvBRuJqyavsTq5UVv/MArS4Nx8HWdPiLTe5H0KRfcXQx/5q15XnnnXeIjo5mzJgxqFQqNm7cyOjRo+nSpQtffvmlBEEzc3RxJGjSr8Qm9zMZAh1s8whNuoP4nQcUqrDm1Lb2POcHPwAeHHsGldpyq8YI8XcSAIViJj3RAjubQvafakvstvo3Oa2lnIzeR1jKcBxs87HR6G/aptOrOZg8gOAHfrFo+CvRvn17FixYQGxsLNOnT8fFxYXTp0+zdu3am+bpKywstHhtdZGjiyPBD/zCweQBJkKgHgfbAsJShnMyep9CFdZ9B/+MZ//pNtjZFDLx8fq3KouoPSQACsV4BzZgXL8YAOZ8latwNXXTiR0xtEkdgYNtgcnwdyB5EE0nL8TBWdkVLUJCQvjoo4+Ij4/ns88+49lnny3dlpqaSpMmTbjvvvv44YcfSE5OVrBS6+fg7EDTyQs5kDzIZE+gvU0BrVNHcjI6RqEK67Y5XxvHPI/vvxfvwAYKVyPqMwmAQlGPPG7sdVq0OZL05AyFq7mhto0Zqorj2/bQ7soI7G0L0ajLhr/9yUMJmfwT9o61ZxC6q6srU6dOZdCgQaWvbdy4kdzcXNasWcMTTzxBq1atiIyM5Pnnn+f3338nLS1NwYqtk72jPSGTf2J/8pByewLbpI7kxPa9ClVoXrWlPaddusaizVEAPPK49U42LuoGCYBCUZ36tqRz8+MUFjvw4xe15zZw3759lS6hWo7/uYv2aXdiZ1NUJvzp9Sr2XbqD5lN+qFXhrzyTJk0iOjqaV199lc6dO6NSqTh58iTfffcdU6dOZc+ePaX7Hj58mAULFhAdHU1SUhI6ne4WR67f7B3taT7lR/ZduqNMCNSo9djbFtLu6kiOb92tUIXmU1va809fnqZIa0+XFsfo1C9U6XJEPScBUChKpVbx6FTjIuizFralMK92jPW6evWq0iVU2bEt0XS4Nrrc8Lf30khaPrQAOwc7hSqsHJVKRfv27Xn55Zf5888/OXfuHD/++COPPvooHTt2pEuXLqX7rl69mieffJI77riD1q1b4+3tTWhoKD179mTkyJGcPXu2dN+dO3cq8e3UKnYOdrR8aAExl0ag19/8MIJGrcfOpogO6aM4tsW6/61qQ3suzCvk65/bATB9ymWFqxFCAqCoBcY83IHABimkZPiz5LvaMSFtSkqK0iVUydFN2wnPHINtOeFvz6XRhD40H1t7W4UqrD4vLy9GjRrFhx9+yLZt2/D39y/dFhwcTP/+/WnSpAk2NjbodDpSUlI4fPgw27Ztu6lH8MSJE0qUX+vY2tsS+tB89lwaZTIE2toUEZ45mqObdyhUYfXVhvb8++zDpGb6EdgghTEPd1C6HCEkAArl2TnY8dj9xomAP5/dGL1Of5t31Lzly5crXUKlHdm4lU7Zd2GrMRH+DCp2X7qLVg/NserwdzsTJ05k+fLlHD58mKtXrxIfH8+2bdv4/fff+e6772jYsGHpvp06dVKw0trF1t6WVg/NZfelu0yHQE0xnbLGcGTjNoUqrB6l27Nep+fz2Y0BePzBY1bT+y7qNgmAolZ44JkwXB2zOX6xOZt/P6J0OVbn8PotdLk+FhuNFo365vnz9AYVu5LG0frh7+p0+PsnjUZDQEAAHTt2ZPDgwdxzzz24uNxYcksC4M1s7W1p/fB37Lo0Dr2hbAi00WjpnDOWwxv+VKhC67V58WFOJDXHzTGLB55qrXQ5QgASAEUt4e7lxsN3Gece++x/5l2GrK47tG4TEXnj0ai1Jnv+dibdQ5uHv8XGzkahCoW1sLGzoc3D37Iz6Z5yQmAxEbnjOPzHZoUqtE6ffu4KwMN37cfNy1XhaoQwkgAoao1HX2yCnU0hO452ZNcaZZeHs7W1jp6yuLUbiSq4Gxu16Z6/nUn30W7aLAl/osJs7GxoN20WO5PuMxECDWjUWiLzx3No3UaFKqw8JdvzztXHiD4ajp1NIdNfbKJYHUL8kwRAUWsEhPgyecQuAN5/X9kAZg0PCMStWU/XonvQqHWoTYS/6KRJtJv2FRobjUIVCmulsdHQbtpXRCdNKicE6ogquIe4NRsUqrBylGzP779vHO835c5dBIT4KlaHEP8kAVDUKs+8HoitpoithzqxZ51yvYAjR45U7NwVEbd6HV2L70OjKhv+DAbYkXQ/HaZ/IeFPVJnGRkOH6V+wI+l+/rkss/qvENi1+F7iVq9TpsBKUKo97157nG2HO2GrKeKZ1xspUoMQ5ZEAKGqVRi0DeGD4X72A7yl32/Ltt99W7Ny3E7tqDd20E8oNf9suTSV8+ueoNdK8RfWoNWrCp3/OtktTTIdAlY5u2gnErlqjTIEVpFR7fv994zXswRG7CGzuf5u9hbAs+Q0hap1nXw/ARlPMlrjO7F6rTC/guHHjFDnv7RxcsZruukmoVfoy4Q9g26WH6TjtEwl/wmzUGjUdp33KtksPmwyBapWe7rpJHFyxWpkCK0CJ9rx77XH+jOuMraaIZ19vePs3CGFh8ltC1DqNWzVk8gjjygP//o8jBn3ZoFMfHVi2gp6UH/7+TJpGx2kfS/gTZmcMgR+z9dK0stv+CoE9mcTB5SsVqK72MegN/OtN41q/D47YRVBogMIVCVGW/KYQtdJLbwfhaJfHnhPt+WPhIaXLUdyBpcvopX4QVbnh71E6T/9Iwp+oMWqNms7TP+LPpEfLblMbUKn09FQ9wIFlyy1fXC2z7uc49p5sh5N9Lv/338ZKlyOESfLbQtRK/k18eeI+4yL0/3kvAJ1Wd5t31F37lyyht2ayMfypym7fcukJOk//AJWpjUKYkUqtovP0D9hy6Yky29QqUKn09FY/yP4lSxSornbQFmn5z3vGW75P3LcHv2AfhSsSwjQJgKLWevLfoXg6Z3D8YnN+++qgRc/9r3/9y6LnK8/+xYvpYzMVlcpgOvwlP02Xae9I+BMWo1Kr6DLtHbYkP11mmzEEGuhjM5X9ixcrUJ1plmzPv30dy4mk5jRwucaT/25lsfMKUVkSAEWt5eHtzovTDgDw9qdh5GblWezcW7dutdi5yrNv0a/0sX8YlcqAykS+25z8LF0eeUvCn7A4lVpFl0feYnPys2W3lYRA+4fZt+hXBaory1Lt+XpmLm9/FgbAi48cxN3LzSLnFaIqJACKWu3hlzrQxPcil64F8Pmbllsj+JVXXrHYuUzZ99vP9HWYjrq88JfyPBGPvCnhTyhGpVYR8cibbE55vuw2Fagw0NdhOvt+W6hAdTezVHv+/M2jJF8LoKnfBR56qYNFzilEVUkAFLWag7MD775xHoBPf+jBhZPJFjnvI488YpHzmLLv15/o7zQDtcr008+bUl8i4uF/SfgTilOpVUQ8/C82pb5UdpsK1CoDfR1nsO/XnxWo7gZLtOcLJ5P59MeeALz7RgIOzg41fk4hqkMCoKj1ht8fTt8OBykoduTfL6ZZ5JxJSUkWOc8/xSz8gf7Oj5W7fVPqK0Q+9JqEP1FrqNQqIh96jU2ppnvZ1CoD/Z1nELPwBwtXdoMl2vO/XkinsNiBfuEHuGNSeI2fT4jqkgAoaj2VWsX7H2lQq3Qs2daDXWuUWyKuJsX8PJ8BrmWfriyx6fJrRD3yioQ/Ueuo1CqiHnmFTZdfK3efAa5PEPPzfAtWZTk7Vx9j6fbuqFU63vvIRtqosAoSAIVVaN01hIdG7QDguZe8KCooUrgi84r5aS4D3Mo+VVli05U3iHr4/yxYkRCVF/Xw/7Hpyhvlbh/g9jQxP821YEU1r6igiOde8gbg4VHbaR0VonBFQlSMBEBhNV77qBk+blc5frE5X/8ntkbP1b59+xo9/t/t/XE2A9zLPk1ZYtPVN4l66EWL1SNEdUQ99CKbrr5Z7vYB7s+y98fvLFcQNduev/qPcdoXH7ervPpR8xo7jxDmJgFQWI0Gfh6898pRAN6d3YOE45dq7FyPPlp2tYOasHfBLAZ6vFDu9k1pbxM19TmL1CKEuURNfY5NaW+Xu32gx/Ps/eEbi9VTU+35/LEk3pvdA4D3Xz1KAz+PGjmPEDVBAqCwKuNndKZf+AEKih158YnsGlsn+M8//6yR4/7d3gVfMbBB+bd1N6W/Q9SU8m8LC1GbRU15mk3p75S7faDnS+xd8JVFaqmJ9mzQG3jpyRwKih3pH36AcY92Nvs5hKhJEgCFVVGpVXz8uQN2NoWs3x/J8jk1s0KIq6trjRy3xN7vv2Bgg/LnJtt07T2iJj9ZozUIUdOiJj/Jpmvvlbt9YINX2Pv9FzVeR0205+VzDrJ+fyR2NoV8/IWDPPghrI4EQGF1WoQ35qWpxgdCnv9PW9KS0s1+jnnz5pn9mCX2zvuMgV7lPy256doHRD34eI2dXwhLinrwcTZd+6Dc7QO9XmPv/P/VaA3mbs9XL6bz3H/aAfDS1B0079DYrMcXwhIkAAqr9Mx/O9K+STxpOd688KhlJoc2h73zPmGgT/nrkm7K/JioB2dYsCIhal7UgzPYlPlxudsHer/B3nmfWLCiqjPoDTz/aDLpOV50aHqSZ/7bUemShKgSCYDCKtk52DFrVh4atZal27uzYu4BpUu6rb1zP2Kgz5vlbt+c9SlR90+zXEFCWFDU/dPYnPVpudsH+rzJ3rkfWbCiqlkx9yDLd3THRlPMrFkF2DnYKV2SEFUiAVBYrXY9mvPSlK0APPuvmrkVbA4GvYG9cz5goG/5T0Vuzv6cyEkPWbAqISwvctJDbM7+vNztA33fZu+cD2rs4a7qSktK59k3/7r1O2Ubbbs3U7giIapOAqCwas+/15F2wadIy/HmqYdSzfaL4/Dhw2Y5jkFvIGbuewz0K/9pyM05XxI5cbJZzidEbRc5cTKbc74sd/tAv3eImfu+WUOgOdqzQW/gyamXSc/xon2TeJ57V279CusmAVBYNTsHO2bPzsPOppDVu7uy4ON9ZjnuPffcU+1jGMPfOwz0f9/kdr1BxZbcr4mc8EC1zyWENYmc8ABbcr9GbzD95OxA//eImfvObUOgXqev0PnM0Z6//2gfa/ZEYWdTyLff5sutX2H1JAAKq9emWzPeesr4VPD/fdiNUwcTq33M+fOrt2apQW9g35y3GOj/YdltBmP425o/i4h7J1XrPEJYq4h7J7E1f9YtQuCH7JvzVrkhMHbVWvg9mPhdt58Kqrrt+dTBRP7vw+4AvP30Dtp0k1u/wvpJABR1wqNvRDCw037yi5x4eKoNhXmF1Tpe165dq/xeg97Avu/eZEDAzLLbDGBAxdaCb4m4Z0J1ShTC6kXcM4GtBd+iN6gwmMh5AwJmsu+7N8uEwLg1f9BdNxF3pyxyDv182/NUpz0X5hXy8FQbCoodGdR5H9Nfj6jysYSoTSQAijpBrVHz9feeeLmmE3euFW8/Y54xfJVl0BvY/90bDGhY9mlHgwEMBhXbCucQcfe9ClQnRO0Tcfe9bCucg6G8ENjwU/Z/96/SEBi3ZgNdiyegVhlv/4Z7/o62SFtj9b319GHizrXCyzWdr7/3Qq2RX5uibpCfZFFn+DfxZdaHxwH4/Nf+rPkh1qLnN+gN7J/9Gv0bln3KUV8S/rTz6DJ+vEXrEqK26zJ+PNu088oNgf0b/o/9s18jbu1Guhbdi0alQ6027ujpnMGJbTtrpK7VC2L54rf+AMz68Dh+wT41ch4hlCABUNQpQyeG88x9mwF49KUOnD+WZJHzGvQGDnz7f/QPLPt0ozH8qdmu+54uY8dapB4hrE2XsWPZrvsevUGNqWF//QO/pId2HBr1jfAHUKyzoejMUrPXc/5YEo++1AGAZyduZujEcLOfQwglSQAUdc4bn3ekW9hhsvLcmTwRCnILKn2MGTMqvhqHXqfnwLcv0a/RN2W3/RX+og0/0PmuMZWuQ4j6pPNdY4g2/IChnBCoVhluCn8AthotHb2WUFxYXO5xK9OewXjNmDwRsvPd6d76EK9/JlO+iLpHAqCoc2ztbZm/0Alv1zRiz4XxyvRjlT5GSkpKhfbT6/TEzn6BvoHflt2mV6HXa4jmJzqNvrPSNQhRH3UafSfR/IRer0GvN/2E8D+5O2ZzfMu2crdXtD2XeGX6MWLPheHtmsa8n52xtbet1PuFsAYSAEWd1LCZH3M/j0el0jN3ZV8WfBRTqfePHDnytvvodXriZj9Ln8A5qP7xe0qvV6E3qNml+YlOo0ZU6txC1HedRo1gl+Yn4+3gCoTAYp0N+vPl3wauSHsu8f2HMcxd2ReVSs+8L0/RsJlfhd8rhDWRACjqrH5j2/Ofx7YA8Oy7vdmz7niF3/vxx+UvXA9/hb9vn6J34HyT4U9n0LDbZiEdRw6vdN1CCLBz9kCrt8HA7QOgrUZLJ5/lFOabnv7pdu25xJ51x3nuvd4AvPX4FvqOaVfxgoWwMhIARZ329DuRjO8XjVZny8RHQkg6VbFbQSdOnCh3m06r49C3T9Kr0Y+mw59ewx7bXwgfMaw6pQtRbx3fupvwjDHYaorRqCu22oeLw3VObNlqctut2nOJpFMpTHwkBK3OlvH9onnqv5GVKVkIqyMBUNRpKrWKz39oQXjISa5m+zDxbh152XlVPp5Oq+PI7Mfp2egn1KqbB6OXhL+9Dr8RPnxIdUsXol46vm0P7dNHYWtTVOHwB8bbwCQuqdI587LzmHi3jqvZPnQMOcEXP7ZApa7Y+EMhrJUEQFHnObs78fNv6tKHQqbfew6dVlfp42iLtByZPYMejX4pE/50ehVavQ0xjovpMGyQuUoXol45sSOGdldHYVfJ8AfG28Cd/VaQfz2/Uu/TaXVMu+ccsefC8HG7ys+LNDi5OVXqGEJYIwmAol4ICg3gl7nnsLMpZEV0N/792K3XD23SpMlNX2uLtBybM50ejX4rJ/zZss/5d9oPHWDu0oWoN9RH38fJPh8wvf7v7TjZ5XNyy+Yyr/+zPf/dv2YcZOXObtjZFLJwznkatQyo0rmFsDYSAEW9ETU0jNnv7waMK4XMebf8J4P/PmhcW6Tl+JxpdA/83UT4U6PV2XLAZQntB/ermcKFqCe8R81mc+YnHEntjt6gQm9QodNX/NdUsc4GTVLZ28DlPQTy3Tt7S1f6+O793UQNData4UJYIQmAol65a1pn3np8EwAvfNCX9QvjTO73zTfGSZ2LC4s5MWcq3QKXlJmAVqdXU6yz5aD7MtoN6lOjdQtRH3g19Cby/odpNn0diR1P82fO/ziU0gudXo3eoEKru/WvLFuNls7+q8nLzr3p9ZL2/Hd//BzHix8a/2h7+4lNjJnW2XzfiBBWQAKgqHeefieSqSO2oTdoeOCpzsRsKPuEYOfOnSkqKCJ+7hS6Bq4wHf60dsR5LKftgF6WKl2IesM7yJfIiZNp8egqLkWdZWve18Sm9Eer02AwgFanMfk+B9tCTmzedNNrnTvfHO72/nGCB5/ujN6gYerIrfLEr6iXJACKekelVvHR/HYMi9xLfpET4x5syfE9527a54MPPiBuwbt0C1ppMvwVae045LWCNv17WLJ0IeolT38vIu6dSKsZS0npcY4/C2ZzMGUwxVob4OYwqNVpsE/5/ab3f/DBB6WfH99zjnGTQ8kvcmJY5F4+mtdenvgV9ZIEQFEv2drbMn9pE7q3PkRmrgej7/Yn4film/axb9wTre7m5ah0ejWFWnsOe6+kdd9uli5biHrPw8eTiLvvJWzGb1ztk8CfRfPZl3wHhcV2AGjUOjoFrON6Rk6Z954/lsTou/3JyjOu8Tt/aRNZ5k3UWxIARb3l5ObELysb0C74FKmZfowe5cjlxKul2zsMG8gu9Y8YUP01x5+agmIHjvquwrtJE/Z+/wXXUtIU/A6EKecOHifmp3nkZl6v9rFyM68T89M8zh2s+CoywjKupaRxfOUCGnfuTtvHfiajfwJbtT+yK2ksV3ICyM+5eb7Py4lXGTPaidRMP9o3iefX1V4y3Yuo1yQAinrN09eDpattaOp3gXOXgxl1h560pPTS7R3vHEG0wRgCC4od2GP7M9ePLSPwQDu6OH5EztVrClYvTMm8cJZezi9is649e7//okpBMDfzOnu//wKbde3p5fwimRfO1kClojpy0jLo7PAxgQfbs++bl8nNzKHzmFG0f2w+Hg8cwafxjTV89To9dw7Tc+5yMCF+iSxZZYuHt7uC1QuhPAmAot7zC/Zh+fJcAhukcPxic+4cVsTCBb+Wbu80eiR/6hez4+IEeujupZPnz0RnvEzuwCMEt2+pYOXClE6jR5LQ/hBHM8fQ2/3NSgXBvwe/3u5vcjRzDAntD9Fp9EgLVC4qI7hdC/IGHSY642U6evxSGgSvJNy83GPapWt42P3IiaTmBDZIYfmKfPyCfRSqWojaQ2UwGG4742Z2djbu7u4kJibi6elpibqEsLgzhy4w/E4vUjL8cXHoxpHDv+Hl78ne7z6gv++7GFBxJcefjHxfDNgoXa6oABtVIV5OqXi7XqVYa0OM8435GuPi4ujduzfbt28nPDycIxu3EXF9DLY2WtJyfEjP80drsFf4OxAVoUKLp+MVfF1TUWFg89VX6Prwy6SnZjBqcD6HEx4nwPMn1q66RrP2QUqXK0SNycjIIDg4mKysLNzc3G65r/wWE+IvzTs0ZvXyRO4YpeZy5m7uGnqCZetV2Hi1IKfADXenLLQ6WzKKm1Ks8lK6XHEbBgw4k4QXqQCk5/ri1iyw3P3d/BuSfsgXf/dkALKKG5JLI1TIE6K1na0hHVe7DDRqPVl57tg2aMm1y5ncNTSXwwlh+HksZPWKqzRr31jpUoWoNSQACvE3LToGs3pZAlH92xN7LpVRg0+ybE0f9L7n+XPFUpoa3qdH0DJ2XxyJQ8TLNI9op3TJ4h8MegOH/thEg0vv0cZ/P3HJPTjt9z1thvekyS2m+whu1wJDmxPs/jMax+R3iWy0nmOpXbgW+Aodhg6UqUJqoTP7jlCw7326Ba0iIb05fxbMIXzMXTS+nMWdg/I4nBCGr/tVdJq2tAiXcZxC/J2MARTiH0I7N8HDQ4u/x2UOnW/FsEF6riZdo8v4u3GfEMOW/O8IcDpBx9QenNodq3S54h/2LZxPL91YivX27HZaQ8gja2k7oFeFApxKraLtgF6EPLKW3Y6rKdbb00s3ln0L51ugclEZp/bE0TG1BwFOJ9iS/x3uE2LoMv5urlxM547Beg4nhOLvcZnVy1JRayS8C/FP0gMohAk2thrWLU3nztFa4i+FMHTIBVauvERwWCARd9+Dtmgse6L3ENKuldKlin9o1m8k+xPDaTm8Y5V77VRqFW0H9sbQvxf7dx+kWSe5dVjbBLUNZU/MWkKHdCXCzvirLOH4Je6805mEK0E09k5i5cpsQto2UbZQIWop6QEUohzN2gfxx7pcmgckcP5yY4YMcyf+QAIANnY2tOnfE0cXR2WLFGV4BfoQ2r2TWW7ZqtQqQnt0xitQnhqtbRxdHGnTvyc2f4W/+AMJDL3DnYQrQTQPSOCPP/IIaSsPfAhRHgmAQpgwfvx4AIJCA1i3QU+bxqdJvhbA4BGN2PtH2bWDhRDK2fvHCQaNCCL5WgBtGp9m3QY9jVoGlG4vac9CiBskAAphgqura+nnfsE+rN5kT9eww2TkejJyYjvW/CBj/4SoDVYviGXExPZk5nrQLewwqzfZl5nn7+/tWQhhJAFQCBOaNWt209de/p4s3+jHiG57KCh2ZOKTPZj/QYxC1QkhAOa9H8PEp3pSWOzAyO67Wb7ZHy//snPV/rM9CyEkAAph0urVq8u85uTmxA+rQnnozq3oDRqefmcAb86IQafVKVChEPWXTqvjzRkxPPPuAAwGNQ+P2sqCla3KHZNrqj0LUd9JABTChN27d5t83cbOhk9+6MQb0zcB8MnPA7h/+EmuZ+Zasjwh6q3rmbncP/wkn/w8AIB/PbqJmQs6lT4MYkp57VmI+kwCoBCVpFKrePGjKL7/eCv2tgWs3t2VYX0ySTqVcvs3CyGqLOlUCkN7Z7F6d1fsbQtY8PFWXvgwSibpFqIKJAAKUUV3TevMukVH8PO4wqHzreg30IN9G08qXZYQddK+jSfpN9CDwwmh+Hlc4Y/FRxkzrbPSZQlhtSQACmGCl1fF1vrtMqAVf27KpH2TeC5n+jL07g7M/yAGg95QwxUKUT8Y9AbmfxDD0Ls7cDnTlw5NT/Lnpkw69w+t8DEq2p6FqE8kAAphwpo1ayq8b6OWAazb5saY3rso1tnx9DsDePK+OPKv59dghULUffnX83ni3jiefmcAxTo77uq9i3XbPG6a468iKtOehagvJAAKYcLjjz9eqf1dPV34fmVb3nl6E2qVjh/W9WZYrzQunEyuoQqFqNsunExmaM90fvyjN2qVjnef3cT8lW1x8XCu9LEq256FqA8kAAphwoQJEyr9HpVaxZNvR7FyQQzermkcPNuaXv18WfujTBotRGWs+SGWnv38iD0XhrdrGqt+jOGJ/1T9YY+qtGch6joJgEKY8Pzzz1f5vb1Ht2X7n9eIaHmUjFxP7n28N/83ZT8FuQVmrFCIuqcgt4CXJu/nvid6k5nrQUTLo2z/8xq97mxbreNWpz0LUVdJABSiBjRqGcC66ACenbgZgFlL+jG4Rzqn4y4oXJkQtdPpuAsM6p7ON0v7AfDsxM2siw6o9Hg/IUTFSAAUoobYOdjxn1mRLPkuGm/XNOLOtaL3oGB+nLlPnhIW4i8GvYEfPo6h96BgDp1vhbdrGkvnRPOfWZHYOdgpXZ4QdZYEQCFq2KB7OrBrZxZ9Oxwkt9CFx//Tn3sHn+By4lWlSxNCUZcTr3Lv4BM88dYAcgtd6NvhILt2ZjHw7g5KlyZEnScBUAgT5s6da9bj+TfxZfnWZrz37CbsbApZFxNFVDcPVs47aNbzCGEtVs47SFQ3D9bFRGFvW8D7z21i+dZm+DfxNfu5zN2ehagLJAAKYcLHH39s9mOqNWoe/08UO/6Ip2PICa5db8CkZ/rw8OhDpCWlm/18QtRGaUnpPDz6EJOe6cO16w3oGHKCHetP89ibUag1NfMrqSbasxDWTgKgECasWrWqxo4dFtmUjXt8eXmqcc7ARVt6EhHlyqKv9svYQFFnGfQGFn21ny6Rbiza0hONWssrD21i4x5fWnVpUqPnrsn2LIS1kgAohAnh4eE1enw7Bzte/SyKbasO0aHpSdJzvHj4lX6MHxjPxfiUGj23EJZ24WQy4wfG8/Ar/bh2vQEdmp5k68rDvPJplEUe9Kjp9iyENZIAKIQJ169ft8h5OvRuwZYYX956fBP2tgVs2B9BZM+GfPH6XooKiixSgxA1paigiC9e30tUr0A27I/A3raAt5/YxJYYXzr0bmGxOizVnoWwJhIAhVCYrb0tz7wXxe4tZ+nVNpbcQhde+3wgPTtlsn35UaXLE6JKti0/Qs9Ombz2+UByC13o1TaW3VvO8vS7Udja2ypdnhD1ngRAIWqJ5h0as2pHCLPf2YKP21VOJjVjxAPdmDLyMJfOpCpdnhAVculMKlNGHmbkA905mdQMX/erfPfuFlZHN6N5h8ZKlyeE+IsEQCFMGDhwoCLnVWvU3PtkBAfiCnls3BbUKh1LtvWgc7eGvP/cXq5n5ipSlxC3cz0zl/ee3UunroEs2dYDtUrH4+O3sD+2kHueiKjyOr7moFR7FqI2kwAohAmdO3dW9Pwe3u68Py+CnX8coUebOPIKnXl3zkA6tVfx0yf70Gl1itYnRAmdVsePM/fRsb2a9+YOJL/IiR5t4tj5xxHemxuBh7e70iUq3p6FqI0kAAphQlFR7XgAo023ZqzdGcLC/22jmX8CqZl+PPZmf3p1vMLGX+Nk2hihGIPewMZf4+jV8QqP/6c/lzN9aeafwML/bWPtzhDadGumdImlakt7FqI2kQAohAnx8fFKl1BKpVYxYkon9h525cMXNuHpnMHRxJaMndaLId0S2LFSHhQRlrVj5VGGdEtg7LReHE1sSQOXa3z04ib2HnZlxJROit7uNaU2tWchagsJgEKYsHbtWqVLKMPOwY5H/xVF3KHrPDdxM452eew50Z7hk7pxZ6/TxGw8qXSJoo6L2XCCO3udZvikbuw50R5Huzyem7iZ2Lhcpr9hmTn9qqI2tmchlCYBUAgr4+nrwZuzIjl8IJUZY//EVlPE1kOdGDg2grv6xrNz9TG5NSzMxqA3sHP1Me7qG8/AcZFsPdQJOxvjQ0qHD6Ty5qxIPH09lC5TCFFJEgCFsFJ+wT58ML8LcXsSmDpiGxq1lk0HuzBsQleGdEtgwy8yRlBUnUFvYP3COAZ3TWTYhK5sOtgFjVrL1JFbiduTyPvzIvAL9lG6TCFEFUkAFMIEBwcHpUuosKDQAD5b2Im43WeYftef2NsWsOdEe8ZN70XPDqn89uU+CvMKlS5TWInCvEJ++3IfPTukMv7RXuw92Q572wKm3/Unh/ac5bOfO9OoZYDSZVaKNbVnISxFAqAQJhw9an0PVgSHBfLR9104djCF5ydtxtUxmyOJLXnk1f60a6Xj45f2kpaUrnSZopZKS0rnoxf30raVnkde7c+RxJa4OmbzwgObOXYwhY++70LjVg2VLrNKrLE9C1HTJAAKYcLIkSOVLqHKfIO9+ffXkRw9ksVbj2+iYYMUUjP9eOubgYR18Oepew9yeMdppcsUtcThHad56t6DhHXw5+1vB3I505fABim89fgmjh7J4l9fRuIb7K10mdVize1ZiJqiMhgMtx0klJ2djbu7O4mJiXh6elqiLiEUtXfvXqKiopQuwyyKC4tZteAwX872Zv+ptqWvd2lxjCkTLjPmoda4eDgrWKEy4uLi6N27N9u3byc8PFzpciwqJ+M6y+edYP5CP/afblP6epeWR3liWhojH2xfp9brrUvtWYhbycjIIDg4mKysLNzc3G65rwRAIUxo3rw5Z86cUboMszLoDezfHM+3XxWyfHsERVp7AFwccrh3yAEmTXWhY5+WtW4Ot5pS3wKgQW8gdtspfpp3nV/Xd+Z6gSsAdjaFjO69j+mP29NlQGid/P9fF9uzEKZUJgDaWKgmIYTCVGoVEYNaETEI3r+Uym+zTzP/txBOJYcwZ0Vf5qyAlg3Pcd+d5xg/Nchqx3uJm104mczieRf5ZWUIp5K7lL7esuE5ptxzjnumtcA7sIOCFQohlCABUIh6yDuwAY//J4rH/m1g19o9LJhXzIrtnTmVHMJ/vgnhP99Az7Zx3D06neH3NcMnyEvpkkUlXL2YzppfzrJouRfRR8OBUAAc7fIY1fsAD061pfsdrVGpZRoXIeorCYBC1GMqtYoeI9rQYwTMzMhizU97+HWxO38e6kj00XCij8LT7+jp1fYQo4dfY8SEJvg38VW6bGFCasIVVi9MYPmaBuw42gGDoQkAKpWefh1iuXd8FsMnheHqGa5onUKI2kECoBAmvPPOO0qXYHGuni7c+2QE9z4JyWfPseT7BJat82f/qbZsP9KR7Ufg+Q/0RLU6ytC+Vxg8yps2XUPq5Jgxa2DQGzi25xwbVqTxx1Zf9pxoDzQr3R7R8iijh6UydnITGjZrqVyhtUB9bM9C3I4EQCFMWL16Nffcc4/SZSimYTM/nnzbjyffhovxp1j1ywWWrzOGDOMHvDkLAhukMKRHPIOHquk+LAQPb3elS6/TMtOy2LXuHBv+0LN+ZyiXroXftL1r2GFGD7vCyPsaExQaDAQrUmdtU9/bsxCmyFPAQphw8eJFgoKClC6j1kk+e5mNSxNZv8mZzQfak1/kVLpNrdLRucUJ+nS9TJ+BjkT0b4aTm9MtjqYsa3gKOC87j5jNZ9m+OZ+te/w4eDoMvUFTut3RLo8BnQ8zZGAug+4KpmEzPwWrrb2kPYv6QqaBEaKaevTowc6dO5Uuo1bLv57PzrWn2LC2mM17mnA6uelN2+1sCunUIp6u4VeJ7G5LRN9GtWrt2NoYAC8nXmXflovE7NGyJ86Hg6dDS6frKdGy4Tn6d01kyHA7etzREgdnWebsdqQ9i/pCpoERopouX76sdAm1nqOLIwPv7sDAu41fXzpzmug/LrJ9uw1/7mtOUnrD0tvF/GLcp4nvRbq0vkCHtvm06+RI+66BeDeqn08YpyWlc3jPJY4czCfuiCMHTjQm4UoIEHLTfo28kukXcYbevbX0HBpEYHN/oPYEaWsg7VmIsiQACiHMIrC5P/c84c89TxgfUEg4cYL921LZuwf2HgrgSEILEq4EkXAliN+33nhfwwYpdGh+gdBm1wltpaJFW1dadPDH09dDqW/FrDKuZHL6UCqnj+YQf9JA/FkXDp1pTPK1JkCTm/ZVq3S0a3KaqA4pRHWFLn38aRIWiErdUYnShRB1mARAIYTZqdQqmrZpRNM2jRj/mPG17PTLxO5I4PD+POKOOHAoviGnU5qQfC2A5JgA1sXcfAw/jyuEBKTSJDCLxkGFNGmipnEzRxo2ccc3yBNXTxfLf2Mm5GRc58rFDJITsrhwNp+EBD0XLtqTcMmdcyn+XM4MAsqOP1Op9LQISKBDaDLh7Qpo38WJjr2a4OYVCARa/PsQQtQvEgCFMKFz585Kl1DnuHm50md0O/qMvvFaTsZlju+9yPFDOcTHq4g/68bJxEAuXQvgcqYvlzN92X3C9PGc7a/j75mGX4MsfL1y8XQrxsNDi7ubAXcPFe4eapxdbbB3UOPgaIO9owZHJ1ts7TWgUnEhPhWAC/GpOBsSKS7UkZ9XTGG+joJ8LYUFenJztGRl6snKNJCVrSIz04aMbFuupDtz+Zo7qRne5BYGAAG3/N4DG6TQKvgSoc2yCQ010LqDK62jgnD19EFu59Y8ac9ClCUBUAgTJkyYoHQJ9YKrpwtRQ8OIGnrz69npyZw9msLFs9dJPFdMwgUbLiQ5kZDizaV0H64XuJJb6MLZVBfOplb17IUATHqkGdC2Ot8GLg45BHpdpUlAGo0b5dGksZbgEFuCmrnQrG0Abl6ulKzGISxP2rMQZUkAFMKEgwcPMmrUKKXLqLfcvFzp2MeVjn1Mb7+emcqVpGtcTbrOleR8rlzW3tRLl5ljS2a2PXkFdhQW2VJQZEtBkR0FRXYUFtsBoNVlk1MArg7Z2GgysLctwsGu5KMYe7tinByK8HArxMP15t5FXz8bfBs64tPIBd9GDXDxcMbYkye9ebWRtGchypIAKP6/vbt3rXLNwjj8qgebo3A6UbQZhBAQOdjZHEzpR/6CVGojdkJAUEQUwUqt/ADriKJdmGYQbG0CYqcoCIqdjRtBEJIpBmaKtRDhLFlOnutqdvMWCzZ3+BF2suH/zo4/fp92/PH79I+/8Yu7Fy+2TX/9NU3//Ne26c8/f5v+8+Pw1/2/hQCVtnYfAL+ilZWV7hOAIvYMkQAEABiMAAQAGIwABAAYjACExJs3b7pPAIrYM0QCEBKLi4vdJwBF7BkiAQiJO3fudJ8AFLFniAQgJBYWFrpPAIrYM0QCEABgMAIQAGAwAhAAYDACEBLnzp3rPgEoYs8QCUBIvHr1qvsEoIg9QyQAIbG0tNR9AlDEniESgJC4fPly9wlAEXuGSABCwldHweZhzxAJQACAwQhAAIDBCEBI7N+/v/sEoIg9QyQAIXHlypXuE4Ai9gyRAITEyspK9wlAEXuGSABCYm5urvsEoIg9QyQAIXHr1q3uE4Ai9gyRAAQAGIwABAAYjAAEABiMAITEs2fPuk8AitgzRAIQEmfPnu0+AShizxAJQEisrq52nwAUsWeIBCAkfHUUbB72DJEABAAYjAAEABiMAAQAGIwAhMTS0lL3CUARe4ZIAAIADEYAQuLQoUPdJwBF7BkiAQiJBw8edJ8AFLFniAQgJNbW1rpPAIrYM0QCEABgMAIQAGAwAhASu3bt6j4BKGLPEAlASDx8+LD7BKCIPUMkACFx4cKF7hOAIvYMkQCExIkTJ7pPAIrYM0QCEBIXL17sPgEoYs8QCUAAgMEIQACAwQhAAIDBCEBIrKysdJ8AFLFniAQgJK5du9Z9AlDEniESgJBYXV3tPgEoYs8QCUBIHDhwoPsEoIg9QyQAIfH169fuE4Ai9gyRAAQAGIwABAAYjACExLFjx7pPAIrYM0QCEBJzc3PdJwBF7BkiAQiJ7du3d58AFLFniAQgJNbW1rpPAIrYM0QCEBJPnz7tPgEoYs8QCUAAgMEIQACAwQhASOzYsaP7BKCIPUMkACHx4sWL7hOAIvYMkQCExOLiYvcJQBF7hkgAQmJ5ebn7BKCIPUMkACFx+vTp7hOAIvYMkQAEABiMAAQAGIwABAAYjACExI0bN7pPAIrYM0QCEBIPHjzoPgEoYs8QCUBI3L59u/sEoIg9QyQAIXH8+PHuE4Ai9gyRAITEp0+fuk8AitgzRAIQAGAwAhAAYDACEBKHDx/uPgEoYs8QCUBInDhxovsEoIg9QyQAIfH27dvuE4Ai9gyRAITEbDbrPgEoYs8QCUBIPH78uPsEoIg9QyQAAQAGIwABAAYjACGxdatpwGZhzxBZBSRev37dfQJQxJ4hEoCQWFxc7D4BKGLPEAlASNy8ebP7BKCIPUMkACFx9OjR7hOAIvYMkQAEABiMAAQAGIwABAAYjACExPnz57tPAIrYM0QCEBJra2vdJwBF7BkiAQiJM2fOdJ8AFLFniAQgJJaXl7tPAIrYM0QCEBLv3r3rPgEoYs8QCUAAgMEIQACAwQhASMzPz3efABSxZ4gEICR8aBw2D3uGSABCYnV1tfsEoIg9QyQAIbF79+7uE4Ai9gyRAITE3bt3u08AitgzRAIQAGAwAhAAYDACEABgMAIQEs+fP+8+AShizxAJQEicPHmy+wSgiD1DJAAh8ejRo+4TgCL2DJEAhMTBgwe7TwCK2DNEAhAAYDACEABgMAIQAGAwAhASp06d6j4BKGLPEAlASMxms+4TgCL2DJEAhMTCwkL3CUARe4ZIAELi3r173ScARewZIgEIiZcvX3afABSxZ4gEIADAYAQgAMBgBCAk9u7d230CUMSeIRKAkLh//373CUARe4ZIAELi+vXr3ScARewZIgEIiSNHjnSfABSxZ4gEICSuXr3afQJQxJ4hEoAAAIMRgAAAgxGAAACDEYCQePLkSfcJQBF7hkgAQuLSpUvdJwBF7BkiAQiJ1dXV7hOAIvYMkQCExPz8fPcJQBF7hkgAQuLbt2/dJwBF7BkiAQgAMJjffuShjY2NaZqmaTabTdu2bfupB8GvYH19ffr8+XP3GfxEX758+e+r93pzs2dGMZvNpmn6X7d9z5aNH3jqw4cP0759+/7+ZQAA/FTv37+f9u7d+91nfigA19fXp48fP047d+6ctmzZUnYgAAA1NjY2ptlsNu3Zs2fauvX7n/L7oQAEAGDz8EcgAACDEYAAAIMRgAAAgxGAAACDEYAAAIMRgAAAgxGAAACD+TfYba4/kKM0FgAAAABJRU5ErkJggg==",
          "text/plain": "<Figure size 800x800 with 1 Axes>"
         },
         "metadata": {},
         "output_type": "display_data"
        }
       ]
      }
     },
     "a52ac159cf34455e8ddd2cfa048e87d0": {
      "model_module": "@jupyter-widgets/controls",
      "model_module_version": "2.0.0",
      "model_name": "SliderStyleModel",
      "state": {
       "description_width": ""
      }
     },
     "c0977adec7c54f1491681b2422962388": {
      "model_module": "@jupyter-widgets/controls",
      "model_module_version": "2.0.0",
      "model_name": "SliderStyleModel",
      "state": {
       "description_width": ""
      }
     },
     "c17d867df3b14cd29bd8f59baabf2f6b": {
      "model_module": "@jupyter-widgets/base",
      "model_module_version": "2.0.0",
      "model_name": "LayoutModel",
      "state": {}
     },
     "c949bd89e07646ee8e76cadcf9448ddc": {
      "model_module": "@jupyter-widgets/base",
      "model_module_version": "2.0.0",
      "model_name": "LayoutModel",
      "state": {}
     }
    },
    "version_major": 2,
    "version_minor": 0
   }
  }
 },
 "nbformat": 4,
 "nbformat_minor": 5
}
