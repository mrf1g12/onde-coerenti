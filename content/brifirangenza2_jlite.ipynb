{
 "cells": [
  {
   "cell_type": "code",
   "execution_count": null,
   "id": "d731021d-e8ef-4e4f-b9db-493b24184c28",
   "metadata": {},
   "outputs": [],
   "source": [
    "%pip install -q \"ipywidgets\"\n",
    "import ipywidgets as widgets"
   ]
  },
  {
   "cell_type": "code",
   "execution_count": 1,
   "id": "7f57d414-3ac7-46f1-a344-cce9436f7a3a",
   "metadata": {},
   "outputs": [],
   "source": [
    "import matplotlib.pyplot as plt\n",
    "#%matplotlib inline\n",
    "import numpy as np\n",
    "from IPython.display import display\n",
    "from scipy.optimize import root"
   ]
  },
  {
   "cell_type": "code",
   "execution_count": 2,
   "id": "21bb6e4d-9cc2-4cc6-a5d2-be4b229ca36a",
   "metadata": {},
   "outputs": [],
   "source": [
    "def uN_E(t,t0,nO,nE):\n",
    "    uu = np.array([nO*np.sin(t0)*np.sin(t)+nE*np.cos(t0)*np.cos(t),-nO*np.cos(t0)*np.sin(t)+nE*np.sin(t0)*np.cos(t)])\n",
    "    return uu/np.linalg.norm(uu)"
   ]
  },
  {
   "cell_type": "code",
   "execution_count": 3,
   "id": "39c7887c-325c-4ed9-84ef-7a421be59a19",
   "metadata": {},
   "outputs": [],
   "source": [
    "def uT_E(t,t0,nO,nE):\n",
    "    uu = np.array([-nO*np.cos(t0)*np.sin(t)+nE*np.sin(t0)*np.cos(t),-nO*np.sin(t0)*np.sin(t)-nE*np.cos(t0)*np.cos(t)])\n",
    "    return uu/np.linalg.norm(uu)"
   ]
  },
  {
   "cell_type": "code",
   "execution_count": 4,
   "id": "4daecd64-1b42-4a9b-9410-af3596fe4eee",
   "metadata": {},
   "outputs": [],
   "source": [
    "def uN_O(t):\n",
    "    return np.array([np.cos(t),-np.sin(t)])"
   ]
  },
  {
   "cell_type": "code",
   "execution_count": 5,
   "id": "46939abc-f557-494a-9d1f-d874b9880162",
   "metadata": {},
   "outputs": [],
   "source": [
    "def uT_O(t):\n",
    "    return np.array([-np.sin(t),np.cos(t)])"
   ]
  },
  {
   "cell_type": "code",
   "execution_count": 344,
   "id": "d5171ee6-e459-48e4-8021-57a12e739eca",
   "metadata": {},
   "outputs": [],
   "source": [
    "def update_plot(nE, nO, qi):\n",
    "\n",
    "    xmax = max(nE,nO)\n",
    "    \n",
    "    t = np.linspace(np.pi, 2*np.pi, 100)\n",
    "\n",
    "    #ordinario\n",
    "    Ox = nO*np.cos(t)\n",
    "    Oy = nO*np.sin(t)\n",
    "\n",
    "    #straordinario\n",
    "    Ex = nE*np.cos(t)\n",
    "    Ey = nE*np.sin(t)\n",
    "\n",
    "\n",
    "    #isotropo\n",
    "    tI = np.linspace(0,np.pi,100)\n",
    "    xI = np.cos(tI)\n",
    "    yI = np.sin(tI)\n",
    "\n",
    "    #optical axis\n",
    "    A = [0.1,0.]\n",
    "    B = [-nO-0.1,0.]\n",
    "\n",
    "    #incoming ki\n",
    "    qqi = np.pi/2-qi\n",
    "    IO = [nO*np.cos(qi+np.pi),nO*np.sin(qi+np.pi)]\n",
    "    IE = [nE*np.cos(qi+np.pi),nE*np.sin(qi+np.pi)]\n",
    "\n",
    "    \n",
    "\n",
    "    fig, ax = plt.subplots(figsize=(8,8))\n",
    "    plt.gca().set_aspect('equal')\n",
    "    ax.clear()\n",
    "    ax.set_xticks([])\n",
    "    ax.set_yticks([])\n",
    "\n",
    "    shift_xmin = 1.\n",
    "    ax.set_xlim(-2.2,2.2)\n",
    "    ax.set_ylim(-2.2,1.2)\n",
    "    \n",
    "    ax.plot(Ex,Ey, color='orange')\n",
    "    ax.plot(Ox,Oy,c='b')\n",
    "    ax.plot(xI,yI,c='k')\n",
    "    #ax.plot([AR[0],BR[0]],[AR[1],BR[1]],c='k',ls='--')\n",
    "\n",
    "\n",
    "    #plot incoming\n",
    "    #x.plot([I[0],0],[I[1],0],c='r')\n",
    "    ax.annotate('',[0,0],IO,arrowprops=dict(facecolor='b', edgecolor='b', width=3, shrink=0.03))\n",
    "    ax.annotate('',[0,0],IE,arrowprops=dict(facecolor='orange', edgecolor='orange', width=3, shrink=0.03))\n",
    "    #ax.annotate(r'$\\vec{k}_i$',[I[0]/2.+.015,I[1]/2+.015],c='r',fontsize=12)\n",
    "  \n",
    "    phIran = np.linspace(np.pi+qi,3*np.pi/2.,100)\n",
    "    ax.plot(0.5*np.cos(phIran),0.5*np.sin(phIran),c='k',ls='--')\n",
    "    ax.plot(-0.4*np.cos(phIran),0.4*np.sin(phIran),c='k',ls='--')\n",
    "    #ax.annotate(r'$\\varphi_i$',(.01,rO),c='r',fontsize=12)\n",
    "\n",
    "\n",
    "    # ordinary\n",
    "    xOrfl = nO*np.cos(-qi)\n",
    "    yOrfl = nO*np.sin(-qi)\n",
    "    ax.annotate('',[xOrfl,yOrfl],[0,0],arrowprops=dict(facecolor='b', edgecolor='b', width=3, shrink=0.03))\n",
    "\n",
    "    #find O root\n",
    "    if nO*np.sin(qqi)<=1:\n",
    "        qO=np.arcsin(nO*np.sin(qqi))\n",
    "        \n",
    "    #plot O outgoing\n",
    "        xO = np.cos(np.pi/2-qO)\n",
    "        yO = np.sin(np.pi/2-qO)\n",
    "        ax.annotate('',[xO,yO],[0,0],arrowprops=dict(facecolor='b', edgecolor='b', width=3, shrink=0.03))\n",
    "        phOran = np.linspace(np.pi/2-qO,np.pi/2,100)\n",
    "        ax.plot(0.5*np.cos(phOran),0.5*np.sin(phOran),c='b',ls='-')\n",
    "        ax.annotate(r'$\\varphi_O$',(-0.05,0.55),ha='right',c='b')\n",
    "\n",
    "\n",
    "    # extraordinary\n",
    "    xErfl = nE*np.cos(-qi)\n",
    "    yErfl = nE*np.sin(-qi)\n",
    "    ax.annotate('',[xErfl,yErfl],[0,0],arrowprops=dict(facecolor='orange', edgecolor='orange', width=3, shrink=0.03))\n",
    "\n",
    "    #find E root\n",
    "    if nE*np.sin(qqi)<=1:\n",
    "        qE=np.arcsin(nE*np.sin(qqi))\n",
    "        \n",
    "    #plot E outgoing\n",
    "        xE = np.cos(np.pi/2-qE)\n",
    "        yE = np.sin(np.pi/2-qE)\n",
    "        ax.annotate('',[xE,yE],[0,0],arrowprops=dict(facecolor='orange', edgecolor='orange', width=3, shrink=0.03))\n",
    "        phEran = np.linspace(np.pi/2-qE,np.pi/2,100)\n",
    "        ax.plot(0.4*np.cos(phEran),0.4*np.sin(phEran),c='orange',ls='-')\n",
    "        ax.annotate(r'$\\varphi_E$',(-0.04,0.35),ha='right',c='orange')\n",
    "    \n",
    "\n",
    "    if qi!=0:\n",
    "        ax.annotate('',IO,[0,IO[1]], arrowprops=dict(arrowstyle='<->',color='b'))\n",
    "        #ax.annotate(r'$k_i\\sin\\theta_i$',[IO[0]/2.,IO[1]+0.04],ha='center')\n",
    "        ax.axvline(IO[0],c='k',ls='-.',lw=.5)\n",
    "        ax.annotate('',[0,IO[1]],[-IO[0],IO[1]], arrowprops=dict(arrowstyle='<->',color='b'))\n",
    "        ax.axvline(-IO[0],c='k',ls='-.',lw=.5)\n",
    "        \n",
    "\n",
    "        ax.annotate('',IE,[0,IE[1]], arrowprops=dict(arrowstyle='<->',color='orange'))\n",
    "        ax.axvline(IE[0],c='k',ls='-.',lw=.5)\n",
    "        ax.annotate('',[0,IE[1]],[-IE[0],IE[1]], arrowprops=dict(arrowstyle='<->',color='orange'))\n",
    "        ax.axvline(-IE[0],c='k',ls='-.',lw=.5)\n",
    "       \n",
    "    \n",
    "    ax.scatter(0,0,marker='o',facecolor='r',edgecolor='k',zorder=4)\n",
    "    ax.annotate('A.O.',(-0.02,0.02),ha='right',c='r')\n",
    "    ax.axhline(0,c='k',lw=.5)\n",
    "    ax.axvline(0,c='k',lw=1)\n",
    "    ax.axhspan(-2.5,0,color='k',alpha=0.05)\n",
    "\n",
    "    ax.annotate('$n_E\\,\\omega/c$',(-nE-0.01,0.04),ha='right',c='orange')\n",
    "    ax.annotate('$n_O\\,\\omega/c$',(-nO-0.01,-0.12),ha='right',c='b')\n",
    "    ax.annotate('$n_i\\,\\omega/c$',(np.cos(np.pi/12)+0.02,np.sin(np.pi/12)),ha='left',c='k')\n",
    "\n",
    "    \n",
    "    plt.show()"
   ]
  },
  {
   "cell_type": "code",
   "execution_count": 351,
   "id": "bbd6f1cf-0a17-46eb-a9b0-02166a33dc7c",
   "metadata": {},
   "outputs": [],
   "source": [
    "initial_nE = 1.22\n",
    "initial_nO = 1.22\n",
    "initial_t0 = 0.0\n",
    "initial_qi = np.pi/4.\n",
    "\n",
    "# Create sliders for adjusting slopes\n",
    "nE_slider = widgets.FloatSlider(value=initial_nE, min=1, max=2, step=0.02, description='$n_E$ :')\n",
    "nO_slider = widgets.FloatSlider(value=initial_nO, min=1, max=2, step=0.02, description='$n_O$ :')\n",
    "#t0_slider = widgets.FloatSlider(value=initial_t0, min=0, max=np.pi, step=0.01, description=r'$\\theta_0$ (rad):')\n",
    "qi_slider = widgets.FloatSlider(value=initial_qi, min=0, max=np.pi/2.-0.00, step=0.02, description=r'$\\theta_i$ (rad):')"
   ]
  },
  {
   "cell_type": "code",
   "execution_count": 352,
   "id": "a6ea9185-2aa9-4b24-abc0-16fc6b6f655f",
   "metadata": {},
   "outputs": [],
   "source": [
    "interactive_plot = widgets.interactive(update_plot, nE=nE_slider, nO=nO_slider, qi=qi_slider)"
   ]
  },
  {
   "cell_type": "code",
   "execution_count": 353,
   "id": "13f7d330-f4f7-450b-833d-bab509de98aa",
   "metadata": {},
   "outputs": [
    {
     "data": {
      "application/vnd.jupyter.widget-view+json": {
       "model_id": "b7c6aeb3ed004a9d82661c937adb5ce1",
       "version_major": 2,
       "version_minor": 0
      },
      "text/plain": [
       "interactive(children=(FloatSlider(value=1.22, description='$n_E$ :', max=2.0, min=1.0, step=0.02), FloatSlider…"
      ]
     },
     "metadata": {},
     "output_type": "display_data"
    }
   ],
   "source": [
    "display(interactive_plot)"
   ]
  },
  {
   "cell_type": "code",
   "execution_count": null,
   "id": "7d5911ed-75fd-4599-ae66-23f0e69be82f",
   "metadata": {},
   "outputs": [],
   "source": []
  }
 ],
 "metadata": {
  "kernelspec": {
   "display_name": "Python 3 (ipykernel)",
   "language": "python",
   "name": "python3"
  },
  "language_info": {
   "codemirror_mode": {
    "name": "ipython",
    "version": 3
   },
   "file_extension": ".py",
   "mimetype": "text/x-python",
   "name": "python",
   "nbconvert_exporter": "python",
   "pygments_lexer": "ipython3",
   "version": "3.11.7"
  },
  "widgets": {
   "application/vnd.jupyter.widget-state+json": {
    "state": {
     "067d480be05a4079af5b6882dbc78a17": {
      "model_module": "@jupyter-widgets/controls",
      "model_module_version": "2.0.0",
      "model_name": "SliderStyleModel",
      "state": {
       "description_width": ""
      }
     },
     "0d6dbdefc03641e58bae39a65fec1fd2": {
      "model_module": "@jupyter-widgets/controls",
      "model_module_version": "2.0.0",
      "model_name": "SliderStyleModel",
      "state": {
       "description_width": ""
      }
     },
     "0e11886e3c9543c98552deda16981196": {
      "model_module": "@jupyter-widgets/base",
      "model_module_version": "2.0.0",
      "model_name": "LayoutModel",
      "state": {}
     },
     "19e9f3049b074bd29d1c3faa3c584019": {
      "model_module": "@jupyter-widgets/controls",
      "model_module_version": "2.0.0",
      "model_name": "IntSliderModel",
      "state": {
       "behavior": "drag-tap",
       "layout": "IPY_MODEL_b61e9f9a22cb4d5db7d8bcfdcd53cea3",
       "max": 200,
       "style": "IPY_MODEL_292bb66befb545abb9b692314ba20148",
       "value": 100
      }
     },
     "292bb66befb545abb9b692314ba20148": {
      "model_module": "@jupyter-widgets/controls",
      "model_module_version": "2.0.0",
      "model_name": "SliderStyleModel",
      "state": {
       "description_width": ""
      }
     },
     "2b5c45792cc445e39a6de8efde301b1f": {
      "model_module": "@jupyter-widgets/base",
      "model_module_version": "2.0.0",
      "model_name": "LayoutModel",
      "state": {}
     },
     "2cd3c8a8095849299fe2512cd27b5ddf": {
      "model_module": "@jupyter-widgets/controls",
      "model_module_version": "2.0.0",
      "model_name": "SliderStyleModel",
      "state": {
       "description_width": ""
      }
     },
     "397161f9f4864696a5511e74f7db1f59": {
      "model_module": "@jupyter-widgets/base",
      "model_module_version": "2.0.0",
      "model_name": "LayoutModel",
      "state": {}
     },
     "4833a8f6a92c4bf7ae1fcaa69b0e01af": {
      "model_module": "@jupyter-widgets/controls",
      "model_module_version": "2.0.0",
      "model_name": "FloatSliderModel",
      "state": {
       "behavior": "drag-tap",
       "description": "$\\theta_i$ (rad):",
       "layout": "IPY_MODEL_9b7b5e4ae0bd4448a49663ca9cb24ad7",
       "max": 1.5707963267948966,
       "step": 0.1,
       "style": "IPY_MODEL_e898aa8c42474ffe962108623f3685e8",
       "value": 0.7000000000000002
      }
     },
     "495725312fda4628b39d8fbf2a732274": {
      "model_module": "@jupyter-widgets/controls",
      "model_module_version": "2.0.0",
      "model_name": "IntSliderModel",
      "state": {
       "behavior": "drag-tap",
       "layout": "IPY_MODEL_6124f9b74a6c42d1bb4c338546f5374f",
       "max": 200,
       "style": "IPY_MODEL_067d480be05a4079af5b6882dbc78a17",
       "value": 100
      }
     },
     "4f4ae7800ee14c30af7c6d1a976bb6df": {
      "model_module": "@jupyter-widgets/controls",
      "model_module_version": "2.0.0",
      "model_name": "SliderStyleModel",
      "state": {
       "description_width": ""
      }
     },
     "56cc0a4dffd24d1280e4fc240d3cb5b4": {
      "model_module": "@jupyter-widgets/controls",
      "model_module_version": "2.0.0",
      "model_name": "IntSliderModel",
      "state": {
       "behavior": "drag-tap",
       "layout": "IPY_MODEL_f10e6073defb4d7a88ffdcc425626412",
       "style": "IPY_MODEL_4f4ae7800ee14c30af7c6d1a976bb6df",
       "value": 40
      }
     },
     "5d907615da4e4e8cb9988b8d003de522": {
      "model_module": "@jupyter-widgets/base",
      "model_module_version": "2.0.0",
      "model_name": "LayoutModel",
      "state": {}
     },
     "6124f9b74a6c42d1bb4c338546f5374f": {
      "model_module": "@jupyter-widgets/base",
      "model_module_version": "2.0.0",
      "model_name": "LayoutModel",
      "state": {}
     },
     "613d3a8e4c4f46379439bfc1f5a8066e": {
      "model_module": "@jupyter-widgets/base",
      "model_module_version": "2.0.0",
      "model_name": "LayoutModel",
      "state": {}
     },
     "62d5fbf0ad81416fb00f9e9e0f2ab2e1": {
      "model_module": "@jupyter-widgets/base",
      "model_module_version": "2.0.0",
      "model_name": "LayoutModel",
      "state": {}
     },
     "704e66cee80040128f02579855fd4396": {
      "model_module": "@jupyter-widgets/controls",
      "model_module_version": "2.0.0",
      "model_name": "IntSliderModel",
      "state": {
       "behavior": "drag-tap",
       "layout": "IPY_MODEL_62d5fbf0ad81416fb00f9e9e0f2ab2e1",
       "style": "IPY_MODEL_ef63c211749548a3ae24b746f9616395",
       "value": 40
      }
     },
     "71f46613c2c14a01be69b943cc2ff273": {
      "model_module": "@jupyter-widgets/controls",
      "model_module_version": "2.0.0",
      "model_name": "IntSliderModel",
      "state": {
       "behavior": "drag-tap",
       "layout": "IPY_MODEL_2b5c45792cc445e39a6de8efde301b1f",
       "style": "IPY_MODEL_0d6dbdefc03641e58bae39a65fec1fd2",
       "value": 40
      }
     },
     "853f5a16eeff47c58494968059caedee": {
      "model_module": "@jupyter-widgets/controls",
      "model_module_version": "2.0.0",
      "model_name": "SliderStyleModel",
      "state": {
       "description_width": ""
      }
     },
     "861b33c8ddf44d76b906aa6c4bf7c94d": {
      "model_module": "@jupyter-widgets/controls",
      "model_module_version": "2.0.0",
      "model_name": "FloatSliderModel",
      "state": {
       "behavior": "drag-tap",
       "description": "$n_E$ :",
       "layout": "IPY_MODEL_b61bbc884bee45c6847c76205057e95f",
       "max": 2,
       "min": 1,
       "step": 0.1,
       "style": "IPY_MODEL_2cd3c8a8095849299fe2512cd27b5ddf",
       "value": 1
      }
     },
     "9a39430bede84929a12d33d5393680cd": {
      "model_module": "@jupyter-widgets/output",
      "model_module_version": "1.0.0",
      "model_name": "OutputModel",
      "state": {
       "layout": "IPY_MODEL_b06dd865e70d48d09fc61c5fda457a2f",
       "outputs": [
        {
         "data": {
          "image/png": "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",
          "text/plain": "<Figure size 800x800 with 1 Axes>"
         },
         "metadata": {},
         "output_type": "display_data"
        }
       ]
      }
     },
     "9b7b5e4ae0bd4448a49663ca9cb24ad7": {
      "model_module": "@jupyter-widgets/base",
      "model_module_version": "2.0.0",
      "model_name": "LayoutModel",
      "state": {}
     },
     "aca47dd0c3a74439800f900c67137ea0": {
      "model_module": "@jupyter-widgets/controls",
      "model_module_version": "2.0.0",
      "model_name": "SliderStyleModel",
      "state": {
       "description_width": ""
      }
     },
     "b06dd865e70d48d09fc61c5fda457a2f": {
      "model_module": "@jupyter-widgets/base",
      "model_module_version": "2.0.0",
      "model_name": "LayoutModel",
      "state": {}
     },
     "b61bbc884bee45c6847c76205057e95f": {
      "model_module": "@jupyter-widgets/base",
      "model_module_version": "2.0.0",
      "model_name": "LayoutModel",
      "state": {}
     },
     "b61e9f9a22cb4d5db7d8bcfdcd53cea3": {
      "model_module": "@jupyter-widgets/base",
      "model_module_version": "2.0.0",
      "model_name": "LayoutModel",
      "state": {}
     },
     "df5b061aeca2448692b6b7ba9c5f879d": {
      "model_module": "@jupyter-widgets/controls",
      "model_module_version": "2.0.0",
      "model_name": "FloatSliderModel",
      "state": {
       "behavior": "drag-tap",
       "description": "$\\theta_0$ (rad):",
       "layout": "IPY_MODEL_613d3a8e4c4f46379439bfc1f5a8066e",
       "max": 3.141592653589793,
       "step": 0.01,
       "style": "IPY_MODEL_e0b791b1c89e40f89fdcdde6e0dd14f0",
       "value": 1.1400000000000001
      }
     },
     "e0b791b1c89e40f89fdcdde6e0dd14f0": {
      "model_module": "@jupyter-widgets/controls",
      "model_module_version": "2.0.0",
      "model_name": "SliderStyleModel",
      "state": {
       "description_width": ""
      }
     },
     "e67a08066a1f429f856186652aa7d9dd": {
      "model_module": "@jupyter-widgets/controls",
      "model_module_version": "2.0.0",
      "model_name": "IntSliderModel",
      "state": {
       "behavior": "drag-tap",
       "layout": "IPY_MODEL_397161f9f4864696a5511e74f7db1f59",
       "max": 200,
       "style": "IPY_MODEL_853f5a16eeff47c58494968059caedee",
       "value": 100
      }
     },
     "e898aa8c42474ffe962108623f3685e8": {
      "model_module": "@jupyter-widgets/controls",
      "model_module_version": "2.0.0",
      "model_name": "SliderStyleModel",
      "state": {
       "description_width": ""
      }
     },
     "ef63c211749548a3ae24b746f9616395": {
      "model_module": "@jupyter-widgets/controls",
      "model_module_version": "2.0.0",
      "model_name": "SliderStyleModel",
      "state": {
       "description_width": ""
      }
     },
     "f0732e02aacf40e4bbbd3597dc164387": {
      "model_module": "@jupyter-widgets/controls",
      "model_module_version": "2.0.0",
      "model_name": "VBoxModel",
      "state": {
       "_dom_classes": [
        "widget-interact"
       ],
       "children": [
        "IPY_MODEL_861b33c8ddf44d76b906aa6c4bf7c94d",
        "IPY_MODEL_f9dcebb31a084f2f86a05cf1d530d397",
        "IPY_MODEL_df5b061aeca2448692b6b7ba9c5f879d",
        "IPY_MODEL_4833a8f6a92c4bf7ae1fcaa69b0e01af",
        "IPY_MODEL_9a39430bede84929a12d33d5393680cd"
       ],
       "layout": "IPY_MODEL_5d907615da4e4e8cb9988b8d003de522"
      }
     },
     "f10e6073defb4d7a88ffdcc425626412": {
      "model_module": "@jupyter-widgets/base",
      "model_module_version": "2.0.0",
      "model_name": "LayoutModel",
      "state": {}
     },
     "f9dcebb31a084f2f86a05cf1d530d397": {
      "model_module": "@jupyter-widgets/controls",
      "model_module_version": "2.0.0",
      "model_name": "FloatSliderModel",
      "state": {
       "behavior": "drag-tap",
       "description": "$n_O$ :",
       "layout": "IPY_MODEL_0e11886e3c9543c98552deda16981196",
       "max": 2,
       "min": 1,
       "step": 0.1,
       "style": "IPY_MODEL_aca47dd0c3a74439800f900c67137ea0",
       "value": 2
      }
     }
    },
    "version_major": 2,
    "version_minor": 0
   }
  }
 },
 "nbformat": 4,
 "nbformat_minor": 5
}
