{
 "cells": [
  {
   "cell_type": "markdown",
   "id": "e873a31b-4f65-4f30-9605-5b0652e08e3f",
   "metadata": {
    "jp-MarkdownHeadingCollapsed": true
   },
   "source": [
    "# Codice"
   ]
  },
  {
   "cell_type": "code",
   "execution_count": null,
   "id": "00397480-dff0-4af7-8483-ee35f0fdf50a",
   "metadata": {},
   "outputs": [],
   "source": [
    "%pip install -q \"ipywidgets\""
   ]
  },
  {
   "cell_type": "code",
   "execution_count": null,
   "id": "8194f8b5-8127-43ea-bac9-25b9eb933ef4",
   "metadata": {},
   "outputs": [],
   "source": [
    "import matplotlib.pyplot as plt\n",
    "from matplotlib.colors import LinearSegmentedColormap\n",
    "from matplotlib.collections import PatchCollection\n",
    "from matplotlib.patches import Circle, Arc\n",
    "from matplotlib.lines import Line2D\n",
    "from matplotlib.ticker import MaxNLocator\n",
    "import numpy as np\n",
    "from scipy.stats import binom\n",
    "\n",
    "import ipywidgets as widgets\n",
    "from ipywidgets.embed import embed_minimal_html\n",
    "from IPython.display import display"
   ]
  },
  {
   "cell_type": "code",
   "execution_count": null,
   "id": "47b7dea7-d880-49cf-a934-08ddf89216ab",
   "metadata": {},
   "outputs": [],
   "source": []
  },
  {
   "cell_type": "code",
   "execution_count": null,
   "id": "d5f0ffd3-8f68-4071-9127-68e7d9b5f188",
   "metadata": {},
   "outputs": [],
   "source": [
    "def update_plot(N,n,theta_deg,distro):\n",
    "    theta = theta_deg*np.pi/180.\n",
    "    p = np.cos(theta)**2\n",
    "\n",
    "    \n",
    "    data = np.random.binomial(n,p,size=N)\n",
    "    bins, counts = np.unique(data,return_counts=True)\n",
    "    #xticks = np.arange(0,n+1,1)\n",
    "    #print(xticks)\n",
    "\n",
    "\n",
    "    fig, ax = plt.subplots()\n",
    "    ax.tick_params(labelsize=12)\n",
    "\n",
    "    ax.set_xlim(data.min()-1,data.max()+1)\n",
    "    ax.xaxis.set_major_locator(MaxNLocator(integer=True))\n",
    "    #ax.set_xlim(-1,bins.max()+1)\n",
    "\n",
    "    ax.set_xlabel('$n_H$',fontsize=14)\n",
    "    ax.set_ylabel('Frequenza (%)',fontsize=14)\n",
    "\n",
    "    ax.bar(bins,counts/N*100)\n",
    "\n",
    "    if distro==True:\n",
    "        x = np.arange(binom.ppf(0.005, n, p),\n",
    "                      binom.ppf(0.995, n, p))\n",
    "        ax.plot(x, binom.pmf(x, n, p)*100, 'o-', ms=8, c='r')\n",
    "\n",
    "\n",
    "    ins1 = ax.inset_axes([1.0,.25,0.5,0.5],transform=ax.transAxes,aspect='equal')\n",
    "    ins1.set_xticks([])\n",
    "    ins1.set_yticks([])\n",
    "    ins1.set_xlim(-1.6,1.6)\n",
    "    ins1.set_ylim(-1.6,1.6)\n",
    "    \n",
    "    circle = Circle((0, 0), 1,facecolor='.8',edgecolor='k')\n",
    "    ins1.add_patch(circle)\n",
    "    arc = Arc((0,0),1,1,theta2=theta_deg,color='b')\n",
    "    ins1.add_patch(arc)\n",
    "    ins1.annotate(r'$\\theta$',(0.4,-0.3),c='b')\n",
    "    length=1.3\n",
    "    ins1.arrow(0, -1.4, 0, 2.8, length_includes_head=True,head_width=0.12, head_length=0.2,fc='k',ls=':')\n",
    "    ins1.arrow(-1.4, 0, 2.8, 0, length_includes_head=True,head_width=0.12, head_length=0.2,fc='k',ls=':')\n",
    "    ins1.add_line(Line2D([-length*np.cos(theta),length*np.cos(theta)], [-length*np.sin(theta), length*np.sin(theta)], color='r', linewidth=2))\n",
    "\n",
    "    ins1.annotate(r'$|H\\rangle$',(1.2,.2))\n",
    "    ins1.annotate(r'$|V\\rangle$',(.1,1.3))"
   ]
  },
  {
   "cell_type": "code",
   "execution_count": null,
   "id": "d35b946e-1847-4375-80f4-d8c3afcd8020",
   "metadata": {},
   "outputs": [],
   "source": [
    "initial_N = 1\n",
    "initial_n = 1\n",
    "initial_theta=45\n",
    "\n",
    "N_value = widgets.IntText(\n",
    "    value=initial_N,\n",
    "    description=r'Ripetizioni:',\n",
    "    disabled=False\n",
    ")\n",
    "\n",
    "n_value = widgets.IntText(\n",
    "    value=initial_n,\n",
    "    description=r'# fotoni em.',\n",
    "    disabled=False\n",
    ")\n",
    "\n",
    "theta_deg_slider = widgets.FloatSlider(value=initial_theta, min=0, max=180, step=1., description=r'$\\theta$ (°):')\n",
    "\n",
    "distro_select = widgets.RadioButtons(\n",
    "    options=[False,True],\n",
    "    value=False, # Defaults to 'pineapple'\n",
    "#    layout={'width': 'max-content'}, # If the items' names are long\n",
    "    description='Distribuzione teorica',\n",
    "    disabled=False\n",
    ")      "
   ]
  },
  {
   "cell_type": "code",
   "execution_count": null,
   "id": "764b8492-4890-46f4-acfe-c7a1bfdd2eaa",
   "metadata": {},
   "outputs": [],
   "source": [
    "interactive_plot = widgets.interactive(update_plot, N=N_value, n=n_value, theta_deg=theta_deg_slider, distro=distro_select)"
   ]
  },
  {
   "cell_type": "markdown",
   "id": "d1664387-6878-439d-933b-e92174a60ddf",
   "metadata": {},
   "source": [
    "# Esperimenti con fotoni singoli"
   ]
  },
  {
   "cell_type": "code",
   "execution_count": null,
   "id": "62174776-f293-498a-8342-54fb23aee66e",
   "metadata": {},
   "outputs": [],
   "source": [
    "display(interactive_plot)"
   ]
  }
 ],
 "metadata": {
  "kernelspec": {
   "display_name": "Python 3 (ipykernel)",
   "language": "python",
   "name": "python3"
  },
  "language_info": {
   "codemirror_mode": {
    "name": "ipython",
    "version": 3
   },
   "file_extension": ".py",
   "mimetype": "text/x-python",
   "name": "python",
   "nbconvert_exporter": "python",
   "pygments_lexer": "ipython3",
   "version": "3.11.8"
  },
  "widgets": {
   "application/vnd.jupyter.widget-state+json": {
    "state": {
     "041951cd502046d6b95bc8d8569448f0": {
      "model_module": "@jupyter-widgets/controls",
      "model_module_version": "2.0.0",
      "model_name": "SliderStyleModel",
      "state": {
       "description_width": ""
      }
     },
     "2da3be1c486744f49531818da1fedc41": {
      "model_module": "@jupyter-widgets/controls",
      "model_module_version": "2.0.0",
      "model_name": "RadioButtonsModel",
      "state": {
       "_options_labels": [
        "False",
        "True"
       ],
       "description": "Distribuzione teorica",
       "index": 0,
       "layout": "IPY_MODEL_aa7bc2c3dfd6402ba0b9a94d75d04eee",
       "style": "IPY_MODEL_69ee26ba4f6040c7a5daa4d2d19d00c9"
      }
     },
     "3dee38257aa04330a649c799d1793326": {
      "model_module": "@jupyter-widgets/base",
      "model_module_version": "2.0.0",
      "model_name": "LayoutModel",
      "state": {}
     },
     "6224614c034340c5bc8f1467074dff63": {
      "model_module": "@jupyter-widgets/controls",
      "model_module_version": "2.0.0",
      "model_name": "IntTextModel",
      "state": {
       "description": "# fotoni em.",
       "layout": "IPY_MODEL_ab399b2beab142e5aa2c119c24fa1bd3",
       "step": 1,
       "style": "IPY_MODEL_70d95460b4dd401d914d688b3815d651",
       "value": 100
      }
     },
     "69ee26ba4f6040c7a5daa4d2d19d00c9": {
      "model_module": "@jupyter-widgets/controls",
      "model_module_version": "2.0.0",
      "model_name": "DescriptionStyleModel",
      "state": {
       "description_width": ""
      }
     },
     "70d95460b4dd401d914d688b3815d651": {
      "model_module": "@jupyter-widgets/controls",
      "model_module_version": "2.0.0",
      "model_name": "DescriptionStyleModel",
      "state": {
       "description_width": ""
      }
     },
     "76711077140645cc9111cb7fc0f8d68f": {
      "model_module": "@jupyter-widgets/controls",
      "model_module_version": "2.0.0",
      "model_name": "IntTextModel",
      "state": {
       "description": "Ripetizioni:",
       "layout": "IPY_MODEL_3dee38257aa04330a649c799d1793326",
       "step": 1,
       "style": "IPY_MODEL_8a29817bc62645a2936f63ab2dc794bf",
       "value": 100
      }
     },
     "8a29817bc62645a2936f63ab2dc794bf": {
      "model_module": "@jupyter-widgets/controls",
      "model_module_version": "2.0.0",
      "model_name": "DescriptionStyleModel",
      "state": {
       "description_width": ""
      }
     },
     "8f70239d9f664e9eaa09e61494e90214": {
      "model_module": "@jupyter-widgets/output",
      "model_module_version": "1.0.0",
      "model_name": "OutputModel",
      "state": {
       "layout": "IPY_MODEL_ad7185527e6e4d798aa21746f4c7db4c",
       "outputs": [
        {
         "data": {
          "image/png": "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",
          "text/plain": "<Figure size 640x480 with 1 Axes>"
         },
         "metadata": {},
         "output_type": "display_data"
        }
       ]
      }
     },
     "9b80fd4be1f04636a3e084f8617375c3": {
      "model_module": "@jupyter-widgets/base",
      "model_module_version": "2.0.0",
      "model_name": "LayoutModel",
      "state": {}
     },
     "aa7bc2c3dfd6402ba0b9a94d75d04eee": {
      "model_module": "@jupyter-widgets/base",
      "model_module_version": "2.0.0",
      "model_name": "LayoutModel",
      "state": {}
     },
     "ab399b2beab142e5aa2c119c24fa1bd3": {
      "model_module": "@jupyter-widgets/base",
      "model_module_version": "2.0.0",
      "model_name": "LayoutModel",
      "state": {}
     },
     "ab7c71bbf9864274a44705edfad3be2f": {
      "model_module": "@jupyter-widgets/controls",
      "model_module_version": "2.0.0",
      "model_name": "FloatSliderModel",
      "state": {
       "behavior": "drag-tap",
       "description": "$\\theta$ (°):",
       "layout": "IPY_MODEL_9b80fd4be1f04636a3e084f8617375c3",
       "max": 180,
       "style": "IPY_MODEL_041951cd502046d6b95bc8d8569448f0",
       "value": 45
      }
     },
     "ad7185527e6e4d798aa21746f4c7db4c": {
      "model_module": "@jupyter-widgets/base",
      "model_module_version": "2.0.0",
      "model_name": "LayoutModel",
      "state": {}
     },
     "c3351687b714402380daca0d57922041": {
      "model_module": "@jupyter-widgets/controls",
      "model_module_version": "2.0.0",
      "model_name": "VBoxModel",
      "state": {
       "_dom_classes": [
        "widget-interact"
       ],
       "children": [
        "IPY_MODEL_76711077140645cc9111cb7fc0f8d68f",
        "IPY_MODEL_6224614c034340c5bc8f1467074dff63",
        "IPY_MODEL_ab7c71bbf9864274a44705edfad3be2f",
        "IPY_MODEL_2da3be1c486744f49531818da1fedc41",
        "IPY_MODEL_8f70239d9f664e9eaa09e61494e90214"
       ],
       "layout": "IPY_MODEL_e1e5ea2fa05c421face545bb91d52db7"
      }
     },
     "e1e5ea2fa05c421face545bb91d52db7": {
      "model_module": "@jupyter-widgets/base",
      "model_module_version": "2.0.0",
      "model_name": "LayoutModel",
      "state": {}
     }
    },
    "version_major": 2,
    "version_minor": 0
   }
  }
 },
 "nbformat": 4,
 "nbformat_minor": 5
}
