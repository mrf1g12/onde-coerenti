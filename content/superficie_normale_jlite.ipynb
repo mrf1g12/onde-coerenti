{
 "cells": [
  {
   "cell_type": "markdown",
   "id": "b82dcbb1-59e7-488d-bbea-53acb6fbef5e",
   "metadata": {
    "jp-MarkdownHeadingCollapsed": true
   },
   "source": [
    "# Code"
   ]
  },
  {
   "cell_type": "code",
   "execution_count": 1,
   "id": "42a1e743-bc4c-4dd3-a54b-ad020e60e146",
   "metadata": {},
   "outputs": [
    {
     "name": "stdout",
     "output_type": "stream",
     "text": [
      "\u001b[31mERROR: pip's dependency resolver does not currently take into account all the packages that are installed. This behaviour is the source of the following dependency conflicts.\n",
      "conda-repo-cli 1.0.75 requires requests_mock, which is not installed.\n",
      "conda-repo-cli 1.0.75 requires clyent==1.2.1, but you have clyent 1.2.2 which is incompatible.\u001b[0m\u001b[31m\n",
      "\u001b[0mNote: you may need to restart the kernel to use updated packages.\n"
     ]
    }
   ],
   "source": [
    "%pip install -q \"nbformat==5.10.3\""
   ]
  },
  {
   "cell_type": "code",
   "execution_count": 2,
   "id": "c459a6cb-dc00-4f36-bbd4-aef061d883e7",
   "metadata": {},
   "outputs": [
    {
     "name": "stdout",
     "output_type": "stream",
     "text": [
      "Note: you may need to restart the kernel to use updated packages.\n",
      "Note: you may need to restart the kernel to use updated packages.\n"
     ]
    }
   ],
   "source": [
    "%pip install -q \"ipywidgets\"\n",
    "import ipywidgets as widgets\n",
    "%pip install -q \"plotly\"\n",
    "import plotly.graph_objects as go"
   ]
  },
  {
   "cell_type": "code",
   "execution_count": 3,
   "id": "50e43f47-97aa-4ac1-86c5-909c86f08767",
   "metadata": {},
   "outputs": [],
   "source": [
    "import numpy as np\n",
    "from IPython.display import display\n",
    "from scipy.optimize import fsolve"
   ]
  },
  {
   "cell_type": "code",
   "execution_count": 4,
   "id": "ee31a4b2-6d09-4859-a68a-4b1bd6daa636",
   "metadata": {},
   "outputs": [],
   "source": [
    "from skimage import measure\n",
    "import warnings\n",
    "warnings.filterwarnings(\"ignore\", category=DeprecationWarning)\n",
    "warnings.filterwarnings(\"ignore\")"
   ]
  },
  {
   "cell_type": "code",
   "execution_count": 5,
   "id": "c82a4ed2-6ac9-46e4-9e4f-bca32c9893b1",
   "metadata": {},
   "outputs": [],
   "source": [
    "def renormalize(n, range1, range2):\n",
    "    delta1 = range1[1] - range1[0]\n",
    "    delta2 = range2[1] - range2[0]\n",
    "    return (delta2 * (n - range1[0]) / delta1) + range2[0]"
   ]
  },
  {
   "cell_type": "code",
   "execution_count": 6,
   "id": "71ba41fa-ba37-4500-ba37-f4a4b5eaaa8b",
   "metadata": {},
   "outputs": [],
   "source": [
    "def intensity_func(x,y,z):\n",
    "    return (x**2+y**2+z**2)"
   ]
  },
  {
   "cell_type": "code",
   "execution_count": 7,
   "id": "691b5293-2f07-4eee-ac91-582777d79727",
   "metadata": {},
   "outputs": [],
   "source": [
    "def determinant(kx,ky,kz,narr):\n",
    "\n",
    "    if len(set(narr)) == 1:\n",
    "        return kx**2+ky**2+kz**2-narr[0]**2\n",
    "\n",
    "    else:\n",
    "        n1,n2,n3 = narr\n",
    "        \n",
    "        return kx**4*n1**2+(ky**2+kz**2-n1**2)*(ky**2*n2**2+(kz**2-n2**2)*n3**2) + kx**2*(ky**2*(n1**2+n2**2)+kz**2*(n1**2+n3**2)-n1**2*(n2**2+n3**2))"
   ]
  },
  {
   "cell_type": "code",
   "execution_count": 8,
   "id": "35ac6337-9f3d-4e36-ba55-efe9e8e3b9dc",
   "metadata": {},
   "outputs": [],
   "source": [
    "def add_OA(narr,fig):\n",
    "\n",
    "    n1,n2,n3 = narr\n",
    "    stretcher = 1.5\n",
    "\n",
    "    #on yz plane\n",
    "    y0 = n3*np.sqrt((n1**2-n2**2)/(n3**2 - n2**2))\n",
    "    z0 = np.sqrt(n1**2 - y0**2)\n",
    "    fig.add_scatter3d(x=[0,0], y=[-stretcher*y0,stretcher*y0], z=[stretcher*z0,-stretcher*z0], \n",
    "                      mode='lines', line_width=6, line_color='red', showlegend=False, name='Asse Ottico')\n",
    "    fig.add_scatter3d(x=[0,0], y=[-stretcher*y0,stretcher*y0], z=[-stretcher*z0,stretcher*z0], \n",
    "                      mode='lines', line_width=6, line_color='red', showlegend=False, name='Asse Ottico')\n",
    "    \n",
    "    #on xz plane\n",
    "    x0 = n3*np.sqrt((-n1**2 + n2**2)/(-n1**2 + n3**2))\n",
    "    z0 = np.sqrt(n2**2 - x0**2)    \n",
    "    fig.add_scatter3d(x=[-stretcher*x0,stretcher*x0], y=[0,0], z=[stretcher*z0,-stretcher*z0], \n",
    "                      mode='lines', line_width=6, line_color='black', showlegend=False, name='Asse Ottico')\n",
    "    fig.add_scatter3d(x=[-stretcher*x0,stretcher*x0], y=[0,0], z=[-stretcher*z0,stretcher*z0], \n",
    "                      mode='lines', line_width=6, line_color='black', showlegend=False, name='Asse Ottico')\n",
    "\n",
    "    #on yz \n",
    "    x0 = n2*np.sqrt((n1**2 - n3**2)/(n1**2 - n2**2))\n",
    "    y0 = np.sqrt(n3**2 - x0**2)    \n",
    "    fig.add_scatter3d(x=[-stretcher*x0,stretcher*x0], y=[-stretcher*y0,stretcher*y0], z=[0,0],\n",
    "                      mode='lines', line_width=6, line_color='blue', showlegend=False, name='Asse Ottico')\n",
    "    fig.add_scatter3d(x=[-stretcher*x0,stretcher*x0], y=[stretcher*y0,-stretcher*y0], z=[0,0],\n",
    "                      mode='lines', line_width=6, line_color='blue', showlegend=False, name='Asse Ottico')\n",
    "\n",
    "    "
   ]
  },
  {
   "cell_type": "code",
   "execution_count": 9,
   "id": "f93f2ce5-3ed1-4ab5-8251-a3227fe7babe",
   "metadata": {},
   "outputs": [],
   "source": [
    "def update_plot(n1, n2, n3):\n",
    "\n",
    "    narr = np.array([n1,n2,n3])\n",
    "    \n",
    "    vmax = narr.max()+0.1\n",
    "    xmin,xmax = -vmax,vmax\n",
    "    ymin,ymax = -vmax,vmax\n",
    "    zmin,zmax = -vmax,vmax\n",
    "    X, Y, Z = np.mgrid[xmin:xmax:60j, -vmax:vmax:60j, -vmax:vmax:60j]\n",
    "    F = determinant(X,Y,Z,narr)\n",
    "\n",
    "    mins = np.array([xmin, -vmax, -vmax])\n",
    "    maxes = np.array([xmax, vmax, vmax])\n",
    "    ranges = maxes - mins\n",
    "\n",
    "    verts, faces = measure.marching_cubes(F, 0.035)[:2]\n",
    "    verts_scaled = verts * ranges / np.array(F.shape) + mins\n",
    "\n",
    "    x, y, z = verts_scaled.T\n",
    "    I, J, K = faces.T\n",
    "    intensity = intensity_func(x,y,z)\n",
    "    mesh = go.Mesh3d(x=x,\n",
    "                         y=y,\n",
    "                         z=z,\n",
    "                         colorscale='viridis', \n",
    "                         intensity= intensity,\n",
    "                         opacity = 0.6,\n",
    "                         i=I,\n",
    "                         j=J,\n",
    "                         k=K,\n",
    "                         name='',\n",
    "                         lighting=dict(specular=1)\n",
    "                        )  \n",
    "\n",
    "    fig = go.Figure(mesh)\n",
    "    fig.update_traces(showscale=False)\n",
    "    add_OA(narr,fig)\n",
    "    fig.update_layout(scene_aspectmode='cube',width=600, height=600, \n",
    "                      scene = dict(xaxis = dict(ticks=\"\",showticklabels=False,title='kx',range=[-xmax,xmax]),\n",
    "                                   yaxis = dict(showticklabels=False,title='ky',range=[-ymax,ymax]),\n",
    "                                   zaxis = dict(showticklabels=False,title='kz',range=[-zmax,zmax]),),\n",
    "                      font_size=11)\n",
    "    fig.show()"
   ]
  },
  {
   "cell_type": "code",
   "execution_count": 10,
   "id": "8f31493b-f68c-4892-8cdb-67b3d0a19c9d",
   "metadata": {},
   "outputs": [],
   "source": [
    "initial_n1 = 1.\n",
    "initial_n2 = 1.\n",
    "initial_n3 = 1.\n",
    "\n",
    "# Create sliders for adjusting slopes\n",
    "n1_slider = widgets.FloatSlider(value=initial_n1, min=1, max=3, step=0.02, description='n1 :')\n",
    "n2_slider = widgets.FloatSlider(value=initial_n2, min=1, max=3, step=0.02, description='n2 :')\n",
    "n3_slider = widgets.FloatSlider(value=initial_n3, min=1, max=3, step=0.02, description='n3 :')"
   ]
  },
  {
   "cell_type": "code",
   "execution_count": 11,
   "id": "83ee5569-4dc0-4bcb-bda3-9930087cfa6c",
   "metadata": {},
   "outputs": [],
   "source": [
    "interactive_plot = widgets.interactive(update_plot, n1=n1_slider, n2=n2_slider, n3=n3_slider)"
   ]
  },
  {
   "cell_type": "markdown",
   "id": "3039db5e-dc40-46be-95fc-db9e2f0a3e35",
   "metadata": {},
   "source": [
    "# Superficie normale"
   ]
  },
  {
   "cell_type": "markdown",
   "id": "b459750a-23c2-40ba-a259-75caa7ec51b6",
   "metadata": {},
   "source": [
    "### Descrizione\n",
    "\n",
    "Superficie normale di un mezzo dielettrico.</br>\n",
    "Variando gli indici di rifrazione principali $n_1$, $n_2$, $n_3$, si può avere un mezzo dielettrico isotropo, anisotropo uniassiale e anisotropo biassiale.</br>\n",
    "Nei casi uniassiale e biassiale vengono anche indicati gli assi ottici.\n",
    "\n",
    "\n",
    "### Utilizzo\n",
    "Per eseguire il notebook, dal menu in alto: `Run > Run All Cells`"
   ]
  },
  {
   "cell_type": "code",
   "execution_count": null,
   "id": "e2ed756a-d3ad-4155-9fc3-339e90c0a879",
   "metadata": {},
   "outputs": [],
   "source": [
    "display(interactive_plot)"
   ]
  },
  {
   "cell_type": "code",
   "execution_count": null,
   "id": "a52f2385-25ce-4313-8770-a1fdec8dde36",
   "metadata": {},
   "outputs": [],
   "source": []
  }
 ],
 "metadata": {
  "kernelspec": {
   "display_name": "Python 3 (ipykernel)",
   "language": "python",
   "name": "python3"
  },
  "language_info": {
   "codemirror_mode": {
    "name": "ipython",
    "version": 3
   },
   "file_extension": ".py",
   "mimetype": "text/x-python",
   "name": "python",
   "nbconvert_exporter": "python",
   "pygments_lexer": "ipython3",
   "version": "3.11.7"
  },
  "widgets": {
   "application/vnd.jupyter.widget-state+json": {
    "state": {},
    "version_major": 2,
    "version_minor": 0
   }
  }
 },
 "nbformat": 4,
 "nbformat_minor": 5
}
